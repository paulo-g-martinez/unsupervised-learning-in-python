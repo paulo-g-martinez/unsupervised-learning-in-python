{
 "cells": [
  {
   "cell_type": "markdown",
   "metadata": {},
   "source": [
    "# Unsupervised Learning in Python\n",
    "Instructor: Ben Wilson, Chief Data Scientist @ lateral.io\n",
    "\n",
    "---\n",
    "\n",
    "*Paulo G. Martinez' notes for datacamp's course*\n",
    "- started: 5-22-19\n",
    "- continued: 10-14-19, 10-15-19, 10-23-19"
   ]
  },
  {
   "cell_type": "markdown",
   "metadata": {},
   "source": [
    "## Unsupervised learning\n",
    "a class of machine learning techniques for discovering patterns in data.\n",
    "- e.g. **clustering** customers by their purchases\n",
    "- Compressing the data using purchase patterns (**dimension reduction**)\n",
    "\n",
    "## Supervised vs unsupervised learning\n",
    "- **Supervised** learning finds patterns for a prediction task\n",
    "- e.g. classify tumors as benign or cancerous based on measurements (*labels*)\n",
    "- **Unsupervised** learning finds patterns in data *without* a specific prediction task in mind\n",
    "\n",
    "## Iris dataset\n",
    "Measurements of iris plants of 3 differenent species:"
   ]
  },
  {
   "cell_type": "markdown",
   "metadata": {},
   "source": [
    "### *Let's take a quick look at the data set*\n",
    "*seaborn has a convenient way to explore it*"
   ]
  },
  {
   "cell_type": "code",
   "execution_count": 2,
   "metadata": {},
   "outputs": [],
   "source": [
    "import pandas as pd\n",
    "import numpy as np\n",
    "import matplotlib.pyplot as plt\n",
    "import seaborn as sns\n",
    "from sklearn import datasets"
   ]
  },
  {
   "cell_type": "code",
   "execution_count": 3,
   "metadata": {},
   "outputs": [],
   "source": [
    "iris_seaborn = sns.load_dataset(\"iris\")"
   ]
  },
  {
   "cell_type": "code",
   "execution_count": 4,
   "metadata": {},
   "outputs": [
    {
     "data": {
      "text/plain": [
       "pandas.core.frame.DataFrame"
      ]
     },
     "execution_count": 4,
     "metadata": {},
     "output_type": "execute_result"
    }
   ],
   "source": [
    "type(iris_seaborn)"
   ]
  },
  {
   "cell_type": "code",
   "execution_count": 5,
   "metadata": {},
   "outputs": [
    {
     "data": {
      "text/html": [
       "<div>\n",
       "<style scoped>\n",
       "    .dataframe tbody tr th:only-of-type {\n",
       "        vertical-align: middle;\n",
       "    }\n",
       "\n",
       "    .dataframe tbody tr th {\n",
       "        vertical-align: top;\n",
       "    }\n",
       "\n",
       "    .dataframe thead th {\n",
       "        text-align: right;\n",
       "    }\n",
       "</style>\n",
       "<table border=\"1\" class=\"dataframe\">\n",
       "  <thead>\n",
       "    <tr style=\"text-align: right;\">\n",
       "      <th></th>\n",
       "      <th>sepal_length</th>\n",
       "      <th>sepal_width</th>\n",
       "      <th>petal_length</th>\n",
       "      <th>petal_width</th>\n",
       "      <th>species</th>\n",
       "    </tr>\n",
       "  </thead>\n",
       "  <tbody>\n",
       "    <tr>\n",
       "      <th>0</th>\n",
       "      <td>5.1</td>\n",
       "      <td>3.5</td>\n",
       "      <td>1.4</td>\n",
       "      <td>0.2</td>\n",
       "      <td>setosa</td>\n",
       "    </tr>\n",
       "    <tr>\n",
       "      <th>1</th>\n",
       "      <td>4.9</td>\n",
       "      <td>3.0</td>\n",
       "      <td>1.4</td>\n",
       "      <td>0.2</td>\n",
       "      <td>setosa</td>\n",
       "    </tr>\n",
       "    <tr>\n",
       "      <th>2</th>\n",
       "      <td>4.7</td>\n",
       "      <td>3.2</td>\n",
       "      <td>1.3</td>\n",
       "      <td>0.2</td>\n",
       "      <td>setosa</td>\n",
       "    </tr>\n",
       "    <tr>\n",
       "      <th>3</th>\n",
       "      <td>4.6</td>\n",
       "      <td>3.1</td>\n",
       "      <td>1.5</td>\n",
       "      <td>0.2</td>\n",
       "      <td>setosa</td>\n",
       "    </tr>\n",
       "    <tr>\n",
       "      <th>4</th>\n",
       "      <td>5.0</td>\n",
       "      <td>3.6</td>\n",
       "      <td>1.4</td>\n",
       "      <td>0.2</td>\n",
       "      <td>setosa</td>\n",
       "    </tr>\n",
       "  </tbody>\n",
       "</table>\n",
       "</div>"
      ],
      "text/plain": [
       "   sepal_length  sepal_width  petal_length  petal_width species\n",
       "0           5.1          3.5           1.4          0.2  setosa\n",
       "1           4.9          3.0           1.4          0.2  setosa\n",
       "2           4.7          3.2           1.3          0.2  setosa\n",
       "3           4.6          3.1           1.5          0.2  setosa\n",
       "4           5.0          3.6           1.4          0.2  setosa"
      ]
     },
     "execution_count": 5,
     "metadata": {},
     "output_type": "execute_result"
    }
   ],
   "source": [
    "iris_seaborn.head()"
   ]
  },
  {
   "cell_type": "code",
   "execution_count": 6,
   "metadata": {},
   "outputs": [
    {
     "data": {
      "image/png": "[encoded data removed]",
      "text/plain": [
       "<Figure size 804.75x720 with 20 Axes>"
      ]
     },
     "metadata": {},
     "output_type": "display_data"
    }
   ],
   "source": [
    "g = sns.pairplot(\n",
    "    iris_seaborn, \n",
    "    hue = 'species', \n",
    "    kind = 'reg',\n",
    ")"
   ]
  },
  {
   "cell_type": "markdown",
   "metadata": {},
   "source": [
    "### *SKLearn has the data structured a bit differently*"
   ]
  },
  {
   "cell_type": "code",
   "execution_count": 7,
   "metadata": {},
   "outputs": [],
   "source": [
    "# import the iris data set from sklearn\n",
    "iris = datasets.load_iris()"
   ]
  },
  {
   "cell_type": "code",
   "execution_count": 8,
   "metadata": {},
   "outputs": [
    {
     "data": {
      "text/plain": [
       "sklearn.utils.Bunch"
      ]
     },
     "execution_count": 8,
     "metadata": {},
     "output_type": "execute_result"
    }
   ],
   "source": [
    "type(iris)"
   ]
  },
  {
   "cell_type": "code",
   "execution_count": 9,
   "metadata": {},
   "outputs": [
    {
     "data": {
      "text/plain": [
       "dict_keys(['data', 'target', 'target_names', 'DESCR', 'feature_names'])"
      ]
     },
     "execution_count": 9,
     "metadata": {},
     "output_type": "execute_result"
    }
   ],
   "source": [
    "# looks like sklearn's \"Bunch\" is similar to a dict\n",
    "iris.keys()"
   ]
  },
  {
   "cell_type": "code",
   "execution_count": 10,
   "metadata": {
    "scrolled": false
   },
   "outputs": [
    {
     "name": "stdout",
     "output_type": "stream",
     "text": [
      "Iris Plants Database\n",
      "====================\n",
      "\n",
      "Notes\n",
      "-----\n",
      "Data Set Characteristics:\n",
      "    :Number of Instances: 150 (50 in each of three classes)\n",
      "    :Number of Attributes: 4 numeric, predictive attributes and the class\n",
      "    :Attribute Information:\n",
      "        - sepal length in cm\n",
      "        - sepal width in cm\n",
      "        - petal length in cm\n",
      "        - petal width in cm\n",
      "        - class:\n",
      "                - Iris-Setosa\n",
      "                - Iris-Versicolour\n",
      "                - Iris-Virginica\n",
      "    :Summary Statistics:\n",
      "\n",
      "    ============== ==== ==== ======= ===== ====================\n",
      "                    Min  Max   Mean    SD   Class Correlation\n",
      "    ============== ==== ==== ======= ===== ====================\n",
      "    sepal length:   4.3  7.9   5.84   0.83    0.7826\n",
      "    sepal width:    2.0  4.4   3.05   0.43   -0.4194\n",
      "    petal length:   1.0  6.9   3.76   1.76    0.9490  (high!)\n",
      "    petal width:    0.1  2.5   1.20  0.76     0.9565  (high!)\n",
      "    ============== ==== ==== ======= ===== ====================\n",
      "\n",
      "    :Missing Attribute Values: None\n",
      "    :Class Distribution: 33.3% for each of 3 classes.\n",
      "    :Creator: R.A. Fisher\n",
      "    :Donor: Michael Marshall (MARSHALL%PLU@io.arc.nasa.gov)\n",
      "    :Date: July, 1988\n",
      "\n",
      "This is a copy of UCI ML iris datasets.\n",
      "http://archive.ics.uci.edu/ml/datasets/Iris\n",
      "\n",
      "The famous Iris database, first used by Sir R.A Fisher\n",
      "\n",
      "This is perhaps the best known database to be found in the\n",
      "pattern recognition literature.  Fisher's paper is a classic in the field and\n",
      "is referenced frequently to this day.  (See Duda & Hart, for example.)  The\n",
      "data set contains 3 classes of 50 instances each, where each class refers to a\n",
      "type of iris plant.  One class is linearly separable from the other 2; the\n",
      "latter are NOT linearly separable from each other.\n",
      "\n",
      "References\n",
      "----------\n",
      "   - Fisher,R.A. \"The use of multiple measurements in taxonomic problems\"\n",
      "     Annual Eugenics, 7, Part II, 179-188 (1936); also in \"Contributions to\n",
      "     Mathematical Statistics\" (John Wiley, NY, 1950).\n",
      "   - Duda,R.O., & Hart,P.E. (1973) Pattern Classification and Scene Analysis.\n",
      "     (Q327.D83) John Wiley & Sons.  ISBN 0-471-22361-1.  See page 218.\n",
      "   - Dasarathy, B.V. (1980) \"Nosing Around the Neighborhood: A New System\n",
      "     Structure and Classification Rule for Recognition in Partially Exposed\n",
      "     Environments\".  IEEE Transactions on Pattern Analysis and Machine\n",
      "     Intelligence, Vol. PAMI-2, No. 1, 67-71.\n",
      "   - Gates, G.W. (1972) \"The Reduced Nearest Neighbor Rule\".  IEEE Transactions\n",
      "     on Information Theory, May 1972, 431-433.\n",
      "   - See also: 1988 MLC Proceedings, 54-64.  Cheeseman et al\"s AUTOCLASS II\n",
      "     conceptual clustering system finds 3 classes in the data.\n",
      "   - Many, many more ...\n",
      " \n",
      "\n"
     ]
    }
   ],
   "source": [
    "print(iris['DESCR'], '\\n')"
   ]
  },
  {
   "cell_type": "code",
   "execution_count": 11,
   "metadata": {},
   "outputs": [
    {
     "name": "stdout",
     "output_type": "stream",
     "text": [
      "Feature names\n",
      " ['sepal length (cm)', 'sepal width (cm)', 'petal length (cm)', 'petal width (cm)'] \n",
      "\n",
      "Target names\n",
      " ['setosa' 'versicolor' 'virginica'] \n",
      "\n",
      "data \n",
      " [[5.1 3.5 1.4 0.2]\n",
      " [4.9 3.  1.4 0.2]\n",
      " [4.7 3.2 1.3 0.2]\n",
      " [4.6 3.1 1.5 0.2]\n",
      " [5.  3.6 1.4 0.2]]\n",
      "target \n",
      " [0 0 0 0 0]\n"
     ]
    }
   ],
   "source": [
    "print('Feature names\\n', iris['feature_names'], '\\n')\n",
    "print('Target names\\n', iris['target_names'], '\\n')\n",
    "for key in ['data', 'target']:\n",
    "    print(key, '\\n', iris[key][:5])"
   ]
  },
  {
   "cell_type": "markdown",
   "metadata": {},
   "source": [
    "## Arrays, features & samples\n",
    "data is structured as 2D NumPy array\n",
    "- Columns are measurements (the *features*)\n",
    "- Rows represent iris plants (the *samples*)\n",
    "\n",
    "## Iris data is 4-dimensional\n",
    "- Iris samples are points in 4 dimensional space\n",
    "- **Dimension** = number of features\n",
    "    - 4 dimensions is too high to visualize but we can still gain insight by analyzing it.\n",
    "    \n",
    "## k-means clustering\n",
    "- Finds clusters of samples\n",
    "- Number of clusters must be specified\n",
    "- implemented in **sklearn** library\n",
    "\n",
    "## k-means clustering with scikit-learn\n",
    "import it and specify the number of clusters we want to find (in our case three)"
   ]
  },
  {
   "cell_type": "code",
   "execution_count": 12,
   "metadata": {},
   "outputs": [],
   "source": [
    "from sklearn.cluster import KMeans"
   ]
  },
  {
   "cell_type": "code",
   "execution_count": 13,
   "metadata": {},
   "outputs": [],
   "source": [
    "model = KMeans(n_clusters=3, verbose=1)\n",
    "# not sure what verbose will do but hopefully it will print some insightful info"
   ]
  },
  {
   "cell_type": "code",
   "execution_count": 14,
   "metadata": {},
   "outputs": [
    {
     "name": "stdout",
     "output_type": "stream",
     "text": [
      "[[5.1 3.5 1.4 0.2]\n",
      " [4.9 3.  1.4 0.2]\n",
      " [4.7 3.2 1.3 0.2]\n",
      " [4.6 3.1 1.5 0.2]\n",
      " [5.  3.6 1.4 0.2]]\n"
     ]
    }
   ],
   "source": [
    "samples = iris['data']\n",
    "print(samples[:5])"
   ]
  },
  {
   "cell_type": "code",
   "execution_count": 15,
   "metadata": {
    "scrolled": true
   },
   "outputs": [
    {
     "name": "stdout",
     "output_type": "stream",
     "text": [
      "Initialization complete\n",
      "start iteration\n",
      "done sorting\n",
      "end inner loop\n",
      "Iteration 0, inertia 81.52581398809524\n",
      "start iteration\n",
      "done sorting\n",
      "end inner loop\n",
      "Iteration 1, inertia 78.94084142614602\n",
      "start iteration\n",
      "done sorting\n",
      "end inner loop\n",
      "Iteration 2, inertia 78.94084142614602\n",
      "center shift 0.000000e+00 within tolerance 1.134707e-04\n",
      "Initialization complete\n",
      "start iteration\n",
      "done sorting\n",
      "end inner loop\n",
      "Iteration 0, inertia 92.54946444906446\n",
      "start iteration\n",
      "done sorting\n",
      "end inner loop\n",
      "Iteration 1, inertia 86.11593143374039\n",
      "start iteration\n",
      "done sorting\n",
      "end inner loop\n",
      "Iteration 2, inertia 84.47725971685972\n",
      "start iteration\n",
      "done sorting\n",
      "end inner loop\n",
      "Iteration 3, inertia 83.60550954940058\n",
      "start iteration\n",
      "done sorting\n",
      "end inner loop\n",
      "Iteration 4, inertia 82.37141449275363\n",
      "start iteration\n",
      "done sorting\n",
      "end inner loop\n",
      "Iteration 5, inertia 81.36720000000001\n",
      "start iteration\n",
      "done sorting\n",
      "end inner loop\n",
      "Iteration 6, inertia 80.315746215781\n",
      "start iteration\n",
      "done sorting\n",
      "end inner loop\n",
      "Iteration 7, inertia 79.68172190942472\n",
      "start iteration\n",
      "done sorting\n",
      "end inner loop\n",
      "Iteration 8, inertia 79.11556666666667\n",
      "start iteration\n",
      "done sorting\n",
      "end inner loop\n",
      "Iteration 9, inertia 78.94506582597731\n",
      "start iteration\n",
      "done sorting\n",
      "end inner loop\n",
      "Iteration 10, inertia 78.94506582597731\n",
      "center shift 0.000000e+00 within tolerance 1.134707e-04\n",
      "Initialization complete\n",
      "start iteration\n",
      "done sorting\n",
      "end inner loop\n",
      "Iteration 0, inertia 79.4448651952462\n",
      "start iteration\n",
      "done sorting\n",
      "end inner loop\n",
      "Iteration 1, inertia 78.94084142614602\n",
      "start iteration\n",
      "done sorting\n",
      "end inner loop\n",
      "Iteration 2, inertia 78.94084142614602\n",
      "center shift 0.000000e+00 within tolerance 1.134707e-04\n",
      "Initialization complete\n",
      "start iteration\n",
      "done sorting\n",
      "end inner loop\n",
      "Iteration 0, inertia 101.77249019607844\n",
      "start iteration\n",
      "done sorting\n",
      "end inner loop\n",
      "Iteration 1, inertia 89.86576277650649\n",
      "start iteration\n",
      "done sorting\n",
      "end inner loop\n",
      "Iteration 2, inertia 81.26545514705883\n",
      "start iteration\n",
      "done sorting\n",
      "end inner loop\n",
      "Iteration 3, inertia 79.6309054945055\n",
      "start iteration\n",
      "done sorting\n",
      "end inner loop\n",
      "Iteration 4, inertia 78.94084142614602\n",
      "start iteration\n",
      "done sorting\n",
      "end inner loop\n",
      "Iteration 5, inertia 78.94084142614602\n",
      "center shift 0.000000e+00 within tolerance 1.134707e-04\n",
      "Initialization complete\n",
      "start iteration\n",
      "done sorting\n",
      "end inner loop\n",
      "Iteration 0, inertia 84.08698333333334\n",
      "start iteration\n",
      "done sorting\n",
      "end inner loop\n",
      "Iteration 1, inertia 83.24105279477766\n",
      "start iteration\n",
      "done sorting\n",
      "end inner loop\n",
      "Iteration 2, inertia 82.07298129265357\n",
      "start iteration\n",
      "done sorting\n",
      "end inner loop\n",
      "Iteration 3, inertia 81.36720000000001\n",
      "start iteration\n",
      "done sorting\n",
      "end inner loop\n",
      "Iteration 4, inertia 80.315746215781\n",
      "start iteration\n",
      "done sorting\n",
      "end inner loop\n",
      "Iteration 5, inertia 79.68172190942472\n",
      "start iteration\n",
      "done sorting\n",
      "end inner loop\n",
      "Iteration 6, inertia 79.11556666666667\n",
      "start iteration\n",
      "done sorting\n",
      "end inner loop\n",
      "Iteration 7, inertia 78.94506582597731\n",
      "start iteration\n",
      "done sorting\n",
      "end inner loop\n",
      "Iteration 8, inertia 78.94506582597731\n",
      "center shift 0.000000e+00 within tolerance 1.134707e-04\n",
      "Initialization complete\n",
      "start iteration\n",
      "done sorting\n",
      "end inner loop\n",
      "Iteration 0, inertia 87.05498351648352\n",
      "start iteration\n",
      "done sorting\n",
      "end inner loop\n",
      "Iteration 1, inertia 80.12175472370767\n",
      "start iteration\n",
      "done sorting\n",
      "end inner loop\n",
      "Iteration 2, inertia 79.14342874302875\n",
      "start iteration\n",
      "done sorting\n",
      "end inner loop\n",
      "Iteration 3, inertia 78.94084142614602\n",
      "start iteration\n",
      "done sorting\n",
      "end inner loop\n",
      "Iteration 4, inertia 78.94084142614602\n",
      "center shift 0.000000e+00 within tolerance 1.134707e-04\n",
      "Initialization complete\n",
      "start iteration\n",
      "done sorting\n",
      "end inner loop\n",
      "Iteration 0, inertia 79.38652847222222\n",
      "start iteration\n",
      "done sorting\n",
      "end inner loop\n",
      "Iteration 1, inertia 78.94084142614602\n",
      "start iteration\n",
      "done sorting\n",
      "end inner loop\n",
      "Iteration 2, inertia 78.94084142614602\n",
      "center shift 0.000000e+00 within tolerance 1.134707e-04\n",
      "Initialization complete\n",
      "start iteration\n",
      "done sorting\n",
      "end inner loop\n",
      "Iteration 0, inertia 90.78709572845156\n",
      "start iteration\n",
      "done sorting\n",
      "end inner loop\n",
      "Iteration 1, inertia 81.26545514705883\n",
      "start iteration\n",
      "done sorting\n",
      "end inner loop\n",
      "Iteration 2, inertia 79.6309054945055\n",
      "start iteration\n",
      "done sorting\n",
      "end inner loop\n",
      "Iteration 3, inertia 78.94084142614602\n",
      "start iteration\n",
      "done sorting\n",
      "end inner loop\n",
      "Iteration 4, inertia 78.94084142614602\n",
      "center shift 0.000000e+00 within tolerance 1.134707e-04\n",
      "Initialization complete\n",
      "start iteration\n",
      "done sorting\n",
      "end inner loop\n",
      "Iteration 0, inertia 80.2483191919192\n",
      "start iteration\n",
      "done sorting\n",
      "end inner loop\n",
      "Iteration 1, inertia 79.68172190942472\n",
      "start iteration\n",
      "done sorting\n",
      "end inner loop\n",
      "Iteration 2, inertia 79.11556666666667\n",
      "start iteration\n",
      "done sorting\n",
      "end inner loop\n",
      "Iteration 3, inertia 78.94506582597731\n",
      "start iteration\n",
      "done sorting\n",
      "end inner loop\n",
      "Iteration 4, inertia 78.94506582597731\n",
      "center shift 0.000000e+00 within tolerance 1.134707e-04\n",
      "Initialization complete\n",
      "start iteration\n",
      "done sorting\n",
      "end inner loop\n",
      "Iteration 0, inertia 90.88450256410256\n",
      "start iteration\n",
      "done sorting\n",
      "end inner loop\n",
      "Iteration 1, inertia 81.26545514705883\n",
      "start iteration\n",
      "done sorting\n",
      "end inner loop\n",
      "Iteration 2, inertia 79.6309054945055\n",
      "start iteration\n",
      "done sorting\n",
      "end inner loop\n",
      "Iteration 3, inertia 78.94084142614602\n",
      "start iteration\n",
      "done sorting\n",
      "end inner loop\n",
      "Iteration 4, inertia 78.94084142614602\n",
      "center shift 0.000000e+00 within tolerance 1.134707e-04\n"
     ]
    },
    {
     "data": {
      "text/plain": [
       "KMeans(algorithm='auto', copy_x=True, init='k-means++', max_iter=300,\n",
       "    n_clusters=3, n_init=10, n_jobs=1, precompute_distances='auto',\n",
       "    random_state=None, tol=0.0001, verbose=1)"
      ]
     },
     "execution_count": 15,
     "metadata": {},
     "output_type": "execute_result"
    }
   ],
   "source": [
    "# fit the model passing the array of samples\n",
    "model.fit(samples)"
   ]
  },
  {
   "cell_type": "markdown",
   "metadata": {},
   "source": [
    "### 🤔 *I wonder how the aglorithm works*\n",
    "*Looks like the algorithm might iteratively \"plant\" random n-dimensional centroids and measure how well they \"enclose\" the data points (which I imagine may be something like measuring the distance from the centroid to each n-dimensional point) while reducing overlap between each cluster.*"
   ]
  },
  {
   "cell_type": "code",
   "execution_count": 16,
   "metadata": {},
   "outputs": [
    {
     "data": {
      "image/png": "[encoded data removed]",
      "text/plain": [
       "<Figure size 804.75x720 with 20 Axes>"
      ]
     },
     "metadata": {},
     "output_type": "display_data"
    }
   ],
   "source": [
    "g = sns.pairplot(\n",
    "    iris_seaborn, \n",
    "    hue = 'species', \n",
    "    diag_kind = 'kde',\n",
    ")"
   ]
  },
  {
   "cell_type": "markdown",
   "metadata": {},
   "source": [
    "***😆 Almost guessed it right!***\n",
    "\n",
    "Turns out the algorithm does, iteratively: \n",
    "- randomly \"plant\" n-dimensional centroids\n",
    "- categorizes/clusters the points by their nearest centroid\n",
    "- then records the \"variance\" within each cluster (based on the euclidian distances between a point and its centroid)\n",
    "it does this n times recording some aggregation of the variances as a measure of \"goodness of fit.\" At the end of the iterations it outputs the centroids/clusters that resulted in the minimal aggregation of variances.\n",
    "\n",
    "Here are some good links on it:\n",
    "- [https://mubaris.com/posts/kmeans-clustering/]\n",
    "    - consulted 05-23-2019, 9:07 am EST\n",
    "- [K-Means Clustering CS229 Lecture Notes, by Andrew Ng, Stanford](http://cs229.stanford.edu/notes/cs229-notes7a.pdf)\n",
    "    - consulted 05-23-2019, 9:09 am EST\n",
    "    - and copied to this repo\n",
    "- [In Depth: k-Means Clustering Repo, Jake VanderPlas](https://jakevdp.github.io/PythonDataScienceHandbook/05.11-k-means.html)\n",
    "    - forked, 05-23-2019, ca. 9 am EST\n",
    "\n",
    "*Anyway, there are some gotcha's to watch out for but let's finish the dc (data camp) course before I decide what gaps I want to fill next.*"
   ]
  },
  {
   "cell_type": "markdown",
   "metadata": {},
   "source": [
    "## back to data camp's video\n",
    "- ## k-means clustering with scikit-learn"
   ]
  },
  {
   "cell_type": "code",
   "execution_count": 17,
   "metadata": {},
   "outputs": [
    {
     "name": "stdout",
     "output_type": "stream",
     "text": [
      "[[5.1 3.5 1.4 0.2]\n",
      " [4.9 3.  1.4 0.2]\n",
      " [4.7 3.2 1.3 0.2]\n",
      " [4.6 3.1 1.5 0.2]\n",
      " [5.  3.6 1.4 0.2]]\n",
      "[0 0 0 0 0 0 0 0 0 0 0 0 0 0 0 0 0 0 0 0 0 0 0 0 0 0 0 0 0 0 0 0 0 0 0 0 0\n",
      " 0 0 0 0 0 0 0 0 0 0 0 0 0 1 1 2 1 1 1 1 1 1 1 1 1 1 1 1 1 1 1 1 1 1 1 1 1\n",
      " 1 1 1 2 1 1 1 1 1 1 1 1 1 1 1 1 1 1 1 1 1 1 1 1 1 1 2 1 2 2 2 2 1 2 2 2 2\n",
      " 2 2 1 1 2 2 2 2 1 2 1 2 1 2 2 1 1 2 2 2 2 2 1 2 2 2 2 1 2 2 2 1 2 2 2 1 2\n",
      " 2 1]\n"
     ]
    }
   ],
   "source": [
    "print(samples[:5])\n",
    "\n",
    "model = KMeans(n_clusters=3)\n",
    "\n",
    "model.fit(samples)\n",
    "KMeans(algorithm='auto')\n",
    "\n",
    "labels = model.predict(samples)\n",
    "\n",
    "print(labels)"
   ]
  },
  {
   "cell_type": "markdown",
   "metadata": {},
   "source": [
    "Let's see how sklearn did compared to sns labels:"
   ]
  },
  {
   "cell_type": "code",
   "execution_count": 18,
   "metadata": {},
   "outputs": [
    {
     "data": {
      "text/plain": [
       "[('setosa', 0),\n",
       " ('setosa', 0),\n",
       " ('setosa', 0),\n",
       " ('setosa', 0),\n",
       " ('setosa', 0),\n",
       " ('setosa', 0),\n",
       " ('setosa', 0),\n",
       " ('setosa', 0),\n",
       " ('setosa', 0),\n",
       " ('setosa', 0),\n",
       " ('setosa', 0),\n",
       " ('setosa', 0),\n",
       " ('setosa', 0),\n",
       " ('setosa', 0),\n",
       " ('setosa', 0),\n",
       " ('setosa', 0),\n",
       " ('setosa', 0),\n",
       " ('setosa', 0),\n",
       " ('setosa', 0),\n",
       " ('setosa', 0),\n",
       " ('setosa', 0),\n",
       " ('setosa', 0),\n",
       " ('setosa', 0),\n",
       " ('setosa', 0),\n",
       " ('setosa', 0),\n",
       " ('setosa', 0),\n",
       " ('setosa', 0),\n",
       " ('setosa', 0),\n",
       " ('setosa', 0),\n",
       " ('setosa', 0),\n",
       " ('setosa', 0),\n",
       " ('setosa', 0),\n",
       " ('setosa', 0),\n",
       " ('setosa', 0),\n",
       " ('setosa', 0),\n",
       " ('setosa', 0),\n",
       " ('setosa', 0),\n",
       " ('setosa', 0),\n",
       " ('setosa', 0),\n",
       " ('setosa', 0),\n",
       " ('setosa', 0),\n",
       " ('setosa', 0),\n",
       " ('setosa', 0),\n",
       " ('setosa', 0),\n",
       " ('setosa', 0),\n",
       " ('setosa', 0),\n",
       " ('setosa', 0),\n",
       " ('setosa', 0),\n",
       " ('setosa', 0),\n",
       " ('setosa', 0),\n",
       " ('versicolor', 1),\n",
       " ('versicolor', 1),\n",
       " ('versicolor', 2),\n",
       " ('versicolor', 1),\n",
       " ('versicolor', 1),\n",
       " ('versicolor', 1),\n",
       " ('versicolor', 1),\n",
       " ('versicolor', 1),\n",
       " ('versicolor', 1),\n",
       " ('versicolor', 1),\n",
       " ('versicolor', 1),\n",
       " ('versicolor', 1),\n",
       " ('versicolor', 1),\n",
       " ('versicolor', 1),\n",
       " ('versicolor', 1),\n",
       " ('versicolor', 1),\n",
       " ('versicolor', 1),\n",
       " ('versicolor', 1),\n",
       " ('versicolor', 1),\n",
       " ('versicolor', 1),\n",
       " ('versicolor', 1),\n",
       " ('versicolor', 1),\n",
       " ('versicolor', 1),\n",
       " ('versicolor', 1),\n",
       " ('versicolor', 1),\n",
       " ('versicolor', 1),\n",
       " ('versicolor', 1),\n",
       " ('versicolor', 2),\n",
       " ('versicolor', 1),\n",
       " ('versicolor', 1),\n",
       " ('versicolor', 1),\n",
       " ('versicolor', 1),\n",
       " ('versicolor', 1),\n",
       " ('versicolor', 1),\n",
       " ('versicolor', 1),\n",
       " ('versicolor', 1),\n",
       " ('versicolor', 1),\n",
       " ('versicolor', 1),\n",
       " ('versicolor', 1),\n",
       " ('versicolor', 1),\n",
       " ('versicolor', 1),\n",
       " ('versicolor', 1),\n",
       " ('versicolor', 1),\n",
       " ('versicolor', 1),\n",
       " ('versicolor', 1),\n",
       " ('versicolor', 1),\n",
       " ('versicolor', 1),\n",
       " ('versicolor', 1),\n",
       " ('versicolor', 1),\n",
       " ('versicolor', 1),\n",
       " ('virginica', 2),\n",
       " ('virginica', 1),\n",
       " ('virginica', 2),\n",
       " ('virginica', 2),\n",
       " ('virginica', 2),\n",
       " ('virginica', 2),\n",
       " ('virginica', 1),\n",
       " ('virginica', 2),\n",
       " ('virginica', 2),\n",
       " ('virginica', 2),\n",
       " ('virginica', 2),\n",
       " ('virginica', 2),\n",
       " ('virginica', 2),\n",
       " ('virginica', 1),\n",
       " ('virginica', 1),\n",
       " ('virginica', 2),\n",
       " ('virginica', 2),\n",
       " ('virginica', 2),\n",
       " ('virginica', 2),\n",
       " ('virginica', 1),\n",
       " ('virginica', 2),\n",
       " ('virginica', 1),\n",
       " ('virginica', 2),\n",
       " ('virginica', 1),\n",
       " ('virginica', 2),\n",
       " ('virginica', 2),\n",
       " ('virginica', 1),\n",
       " ('virginica', 1),\n",
       " ('virginica', 2),\n",
       " ('virginica', 2),\n",
       " ('virginica', 2),\n",
       " ('virginica', 2),\n",
       " ('virginica', 2),\n",
       " ('virginica', 1),\n",
       " ('virginica', 2),\n",
       " ('virginica', 2),\n",
       " ('virginica', 2),\n",
       " ('virginica', 2),\n",
       " ('virginica', 1),\n",
       " ('virginica', 2),\n",
       " ('virginica', 2),\n",
       " ('virginica', 2),\n",
       " ('virginica', 1),\n",
       " ('virginica', 2),\n",
       " ('virginica', 2),\n",
       " ('virginica', 2),\n",
       " ('virginica', 1),\n",
       " ('virginica', 2),\n",
       " ('virginica', 2),\n",
       " ('virginica', 1)]"
      ]
     },
     "execution_count": 18,
     "metadata": {},
     "output_type": "execute_result"
    }
   ],
   "source": [
    "list(zip(iris_seaborn.species, labels))"
   ]
  },
  {
   "cell_type": "markdown",
   "metadata": {},
   "source": [
    "Interesting, from visual inspection it looks like the model had some trouble between virginica and versicolor but, just a little trouble. The performance over all is quite good."
   ]
  },
  {
   "cell_type": "markdown",
   "metadata": {},
   "source": [
    "## Cluster labels for new samples\n",
    "- New samples can be assigned to existing clusters\n",
    "- k-means remembers the means of each cluster (the \"centroids\")\n",
    "    - *although, it looks like this would be a case of predicting that does not \"learn as it goes along.\" I.e. it appears the \"centroids\" are not re-calculated with the \"new\" samples as input.*\n",
    "    \n",
    "## Cluster labels for new samples"
   ]
  },
  {
   "cell_type": "code",
   "execution_count": 19,
   "metadata": {},
   "outputs": [
    {
     "name": "stdout",
     "output_type": "stream",
     "text": [
      "[0 2 1]\n"
     ]
    }
   ],
   "source": [
    "new_samples = [\n",
    "    [5.7, 4.4, 1.5, 0.4],\n",
    "    [6.5, 3.0, 5.5, 1.8],\n",
    "    [5.8, 2.7, 5.1, 1.9]\n",
    "]\n",
    "new_labels = model.predict(new_samples)\n",
    "print(new_labels)"
   ]
  },
  {
   "cell_type": "markdown",
   "metadata": {},
   "source": [
    "***Thoughts on generating my own simulated samples***\n",
    "\n",
    "My current intuition is that a \"normal distribution\" can be thought of as the collection of \"noisy\" measurements of a pure signal. \n",
    "- i.e. that the mean is the pure signal\n",
    "- and the variance of any given measurement is a function of \"noise\" in that measurement. \n",
    "    - noisier samples would have longer tails in their histogram\n",
    "    - cleaner samples would have shorter tails\n",
    "\n",
    "***example of a generic normal distribution:*** "
   ]
  },
  {
   "cell_type": "code",
   "execution_count": 20,
   "metadata": {
    "scrolled": true
   },
   "outputs": [
    {
     "name": "stderr",
     "output_type": "stream",
     "text": [
      "/Users/paulomartinez/anaconda3/lib/python3.6/site-packages/matplotlib/axes/_axes.py:6462: UserWarning: The 'normed' kwarg is deprecated, and has been replaced by the 'density' kwarg.\n",
      "  warnings.warn(\"The 'normed' kwarg is deprecated, and has been \"\n"
     ]
    },
    {
     "data": {
      "image/png": "[encoded data removed]",
      "text/plain": [
       "<Figure size 432x288 with 1 Axes>"
      ]
     },
     "metadata": {},
     "output_type": "display_data"
    }
   ],
   "source": [
    "sns.distplot(np.random.normal(0, 1, 100), rug = True)\n",
    "plt.title('Generic Normal Distribution')\n",
    "plt.show()\n",
    "# 0 being the mean of the normal distritbution\n",
    "# 1 being the standard deviation of the normal dist.\n",
    "# 100 being the number of elements in the generated array"
   ]
  },
  {
   "cell_type": "markdown",
   "metadata": {},
   "source": [
    "***I was thinking of simulating my own iris samples.***\n",
    "- where all that would be required would be to find a mean and standard deviation.\n",
    "    - each simulated sample could be a value randomly selected from the range of the distribution. \n",
    "    \n",
    "- but I don't have just one signal. \n",
    "- In fact I don't even have one signal per species. \n",
    "- **I have one signal per species per dimension.**\n",
    "\n",
    "***see below:***"
   ]
  },
  {
   "cell_type": "code",
   "execution_count": 21,
   "metadata": {},
   "outputs": [
    {
     "name": "stdout",
     "output_type": "stream",
     "text": [
      "SETOSA\n",
      "------\n",
      "       sepal_length  sepal_width  petal_length  petal_width\n",
      "count      50.00000    50.000000     50.000000    50.000000\n",
      "mean        5.00600     3.428000      1.462000     0.246000\n",
      "std         0.35249     0.379064      0.173664     0.105386\n",
      "min         4.30000     2.300000      1.000000     0.100000\n",
      "25%         4.80000     3.200000      1.400000     0.200000\n",
      "50%         5.00000     3.400000      1.500000     0.200000\n",
      "75%         5.20000     3.675000      1.575000     0.300000\n",
      "max         5.80000     4.400000      1.900000     0.600000\n",
      "\n",
      "VERSICOLOR\n",
      "----------\n",
      "       sepal_length  sepal_width  petal_length  petal_width\n",
      "count     50.000000    50.000000     50.000000    50.000000\n",
      "mean       5.936000     2.770000      4.260000     1.326000\n",
      "std        0.516171     0.313798      0.469911     0.197753\n",
      "min        4.900000     2.000000      3.000000     1.000000\n",
      "25%        5.600000     2.525000      4.000000     1.200000\n",
      "50%        5.900000     2.800000      4.350000     1.300000\n",
      "75%        6.300000     3.000000      4.600000     1.500000\n",
      "max        7.000000     3.400000      5.100000     1.800000\n",
      "\n",
      "VIRGINICA\n",
      "---------\n",
      "       sepal_length  sepal_width  petal_length  petal_width\n",
      "count      50.00000    50.000000     50.000000     50.00000\n",
      "mean        6.58800     2.974000      5.552000      2.02600\n",
      "std         0.63588     0.322497      0.551895      0.27465\n",
      "min         4.90000     2.200000      4.500000      1.40000\n",
      "25%         6.22500     2.800000      5.100000      1.80000\n",
      "50%         6.50000     3.000000      5.550000      2.00000\n",
      "75%         6.90000     3.175000      5.875000      2.30000\n",
      "max         7.90000     3.800000      6.900000      2.50000\n",
      "\n"
     ]
    }
   ],
   "source": [
    "for species in iris_seaborn.species.unique():\n",
    "    print(species.upper() + '\\n' + '-'*len(species))\n",
    "    print(iris_seaborn[iris_seaborn.species == species].describe())\n",
    "    print('')"
   ]
  },
  {
   "cell_type": "markdown",
   "metadata": {},
   "source": [
    "So, to simulate an entire other data set I would have to simulate samples for every level of signal granualirty I cared about.\n",
    "\n",
    "For example, compare below the real and simulated samples\n",
    "\n",
    "***Distribution of Setosa Sepal Lengths from Real Data***"
   ]
  },
  {
   "cell_type": "code",
   "execution_count": 22,
   "metadata": {},
   "outputs": [
    {
     "name": "stderr",
     "output_type": "stream",
     "text": [
      "/Users/paulomartinez/anaconda3/lib/python3.6/site-packages/matplotlib/axes/_axes.py:6462: UserWarning: The 'normed' kwarg is deprecated, and has been replaced by the 'density' kwarg.\n",
      "  warnings.warn(\"The 'normed' kwarg is deprecated, and has been \"\n"
     ]
    },
    {
     "data": {
      "image/png": "[encoded data removed]",
      "text/plain": [
       "<Figure size 432x288 with 1 Axes>"
      ]
     },
     "metadata": {},
     "output_type": "display_data"
    }
   ],
   "source": [
    "sns.distplot(\n",
    "    iris_seaborn.sepal_length[iris_seaborn.species == 'setosa'],\n",
    ")\n",
    "plt.title('Setosa Sepal Lenght Distribution, (Real Data)')\n",
    "plt.show()"
   ]
  },
  {
   "cell_type": "markdown",
   "metadata": {},
   "source": [
    "***Distribution of Simulated Setosa Sepal Lenghts***"
   ]
  },
  {
   "cell_type": "code",
   "execution_count": 23,
   "metadata": {},
   "outputs": [
    {
     "name": "stdout",
     "output_type": "stream",
     "text": [
      "50 measurements\n",
      "setosa sepal lenght mean:  5.005999999999999\n",
      "setosa sepal length std:  0.348946987377739\n"
     ]
    },
    {
     "name": "stderr",
     "output_type": "stream",
     "text": [
      "/Users/paulomartinez/anaconda3/lib/python3.6/site-packages/matplotlib/axes/_axes.py:6462: UserWarning: The 'normed' kwarg is deprecated, and has been replaced by the 'density' kwarg.\n",
      "  warnings.warn(\"The 'normed' kwarg is deprecated, and has been \"\n"
     ]
    },
    {
     "data": {
      "image/png": "[encoded data removed]",
      "text/plain": [
       "<Figure size 432x288 with 1 Axes>"
      ]
     },
     "metadata": {},
     "output_type": "display_data"
    }
   ],
   "source": [
    "setosa_sepal_length_mean = np.mean(iris_seaborn.sepal_length[iris_seaborn.species == 'setosa'])\n",
    "setosa_sepal_length_std = np.std(iris_seaborn.sepal_length[iris_seaborn.species == 'setosa'])\n",
    "\n",
    "print(len(iris_seaborn.sepal_length[iris_seaborn.species == 'setosa']), 'measurements')\n",
    "print('setosa sepal lenght mean: ', setosa_sepal_length_mean)\n",
    "print('setosa sepal length std: ', setosa_sepal_length_std)\n",
    "\n",
    "simulated_setosa_sepal_samples = np.random.normal()\n",
    "sns.distplot(np.random.normal(setosa_sepal_length_mean,\n",
    "                              setosa_sepal_length_std,\n",
    "                              50), rug = True)\n",
    "plt.title('Simulated Setosa Sepal Lenght Distribution (Manufactured Data)')\n",
    "plt.show()"
   ]
  },
  {
   "cell_type": "markdown",
   "metadata": {},
   "source": [
    "***Ultimately, it's an interesting thought but too much of a digression. Let's get back to the course***"
   ]
  },
  {
   "cell_type": "markdown",
   "metadata": {},
   "source": [
    "# How many clusters\n",
    "visual inspection can give us intuitive insight into clustering"
   ]
  },
  {
   "cell_type": "code",
   "execution_count": 24,
   "metadata": {},
   "outputs": [
    {
     "data": {
      "image/png": "[encoded data removed]",
      "text/plain": [
       "<Figure size 432x288 with 1 Axes>"
      ]
     },
     "metadata": {},
     "output_type": "display_data"
    }
   ],
   "source": [
    "xs = samples[:,0] # every row, but only the first variable\n",
    "ys = samples[:, 2]\n",
    "plt.scatter(xs, ys)\n",
    "plt.show()"
   ]
  },
  {
   "cell_type": "code",
   "execution_count": 25,
   "metadata": {},
   "outputs": [
    {
     "data": {
      "image/png": "[encoded data removed]",
      "text/plain": [
       "<Figure size 432x288 with 1 Axes>"
      ]
     },
     "metadata": {},
     "output_type": "display_data"
    }
   ],
   "source": [
    "xs = samples[:,0] # every row, but only the first variable\n",
    "ys = samples[:, 2]\n",
    "plt.scatter(xs, ys, c = labels)\n",
    "plt.show()"
   ]
  },
  {
   "cell_type": "markdown",
   "metadata": {},
   "source": [
    "## Clustering 2D points\n",
    "Clustering 2D points\n",
    "From the scatter plot of the previous exercise, you saw that the points seem to separate into 3 clusters. \n",
    "- You'll now create a KMeans model to find 3 clusters, and fit it to the data points from the previous exercise. \n",
    "- After the model has been fit, you'll obtain the cluster labels for some new points using the `.predict()` method.\n",
    "\n",
    "You are given the array `points` from the previous exercise, and also an array `new_points`."
   ]
  },
  {
   "cell_type": "code",
   "execution_count": 26,
   "metadata": {},
   "outputs": [],
   "source": [
    "points = [[ 0.06544649, -0.76866376],\n",
    "       [-1.52901547, -0.42953079],\n",
    "       [ 1.70993371,  0.69885253],\n",
    "       [ 1.16779145,  1.01262638],\n",
    "       [-1.80110088, -0.31861296],\n",
    "       [-1.63567888, -0.02859535],\n",
    "       [ 1.21990375,  0.74643463],\n",
    "       [-0.26175155, -0.62492939],\n",
    "       [-1.61925804, -0.47983949],\n",
    "       [-1.84329582, -0.16694431],\n",
    "       [ 1.35999602,  0.94995827],\n",
    "       [ 0.42291856, -0.7349534 ],\n",
    "       [-1.68576139,  0.10686728],\n",
    "       [ 0.90629995,  1.09105162],\n",
    "       [-1.56478322, -0.84675394],\n",
    "       [-0.0257849 , -1.18672539],\n",
    "       [ 0.83027324,  1.14504612],\n",
    "       [ 1.22450432,  1.35066759],\n",
    "       [-0.15394596, -0.71704301],\n",
    "       [ 0.86358809,  1.06824613],\n",
    "       [-1.43386366, -0.2381297 ],\n",
    "       [ 0.03844769, -0.74635022],\n",
    "       [-1.58567922,  0.08499354],\n",
    "       [ 0.6359888 , -0.58477698],\n",
    "       [ 0.24417242, -0.53172465],\n",
    "       [-2.19680359,  0.49473677],\n",
    "       [ 1.0323503 , -0.55688   ],\n",
    "       [-0.28858067, -0.39972528],\n",
    "       [ 0.20597008, -0.80171536],\n",
    "       [-1.2107308 , -0.34924109],\n",
    "       [ 1.33423684,  0.7721489 ],\n",
    "       [ 1.19480152,  1.04788556],\n",
    "       [ 0.9917477 ,  0.89202008],\n",
    "       [-1.8356219 , -0.04839732],\n",
    "       [ 0.08415721, -0.71564326],\n",
    "       [-1.48970175, -0.19299604],\n",
    "       [ 0.38782418, -0.82060119],\n",
    "       [-0.01448044, -0.9779841 ],\n",
    "       [-2.0521341 , -0.02129125],\n",
    "       [ 0.10331194, -0.82162781],\n",
    "       [-0.44189315, -0.65710974],\n",
    "       [ 1.10390926,  1.02481182],\n",
    "       [-1.59227759, -0.17374038],\n",
    "       [-1.47344152, -0.02202853],\n",
    "       [-1.35514704,  0.22971067],\n",
    "       [ 0.0412337 , -1.23776622],\n",
    "       [ 0.4761517 , -1.13672124],\n",
    "       [ 1.04335676,  0.82345905],\n",
    "       [-0.07961882, -0.85677394],\n",
    "       [ 0.87065059,  1.08052841],\n",
    "       [ 1.40267313,  1.07525119],\n",
    "       [ 0.80111157,  1.28342825],\n",
    "       [-0.16527516, -1.23583804],\n",
    "       [-0.33779221, -0.59194323],\n",
    "       [ 0.80610749, -0.73752159],\n",
    "       [-1.43590032, -0.56384446],\n",
    "       [ 0.54868895, -0.95143829],\n",
    "       [ 0.46803131, -0.74973907],\n",
    "       [-1.5137129 , -0.83914323],\n",
    "       [ 0.9138436 ,  1.51126532],\n",
    "       [-1.97233903, -0.41155375],\n",
    "       [ 0.5213406 , -0.88654894],\n",
    "       [ 0.62759494, -1.18590477],\n",
    "       [ 0.94163014,  1.35399335],\n",
    "       [ 0.56994768,  1.07036606],\n",
    "       [-1.87663382,  0.14745773],\n",
    "       [ 0.90612186,  0.91084011],\n",
    "       [-1.37481454,  0.28428395],\n",
    "       [-1.80564029, -0.96710574],\n",
    "       [ 0.34307757, -0.79999275],\n",
    "       [ 0.70380566,  1.00025804],\n",
    "       [-1.68489862, -0.30564595],\n",
    "       [ 1.31473221,  0.98614978],\n",
    "       [ 0.26151216, -0.26069251],\n",
    "       [ 0.9193121 ,  0.82371485],\n",
    "       [-1.21795929, -0.20219674],\n",
    "       [-0.17722723, -1.02665245],\n",
    "       [ 0.64824862, -0.66822881],\n",
    "       [ 0.41206786, -0.28783784],\n",
    "       [ 1.01568202,  1.13481667],\n",
    "       [ 0.67900254, -0.91489502],\n",
    "       [-1.05182747, -0.01062376],\n",
    "       [ 0.61306599,  1.78210384],\n",
    "       [-1.50219748, -0.52308922],\n",
    "       [-1.72717293, -0.46173916],\n",
    "       [-1.60995631, -0.1821007 ],\n",
    "       [-1.09111021, -0.0781398 ],\n",
    "       [-0.01046978, -0.80913034],\n",
    "       [ 0.32782303, -0.80734754],\n",
    "       [ 1.22038503,  1.1959793 ],\n",
    "       [-1.33328681, -0.30001937],\n",
    "       [ 0.87959517,  1.11566491],\n",
    "       [-1.14829098, -0.30400762],\n",
    "       [-0.58019755, -1.19996018],\n",
    "       [-0.01161159, -0.78468854],\n",
    "       [ 0.17359724, -0.63398145],\n",
    "       [ 1.32738556,  0.67759969],\n",
    "       [-1.93467327,  0.30572472],\n",
    "       [-1.57761893, -0.27726365],\n",
    "       [ 0.47639   ,  1.21422648],\n",
    "       [-1.65237509, -0.6803981 ],\n",
    "       [-0.12609976, -1.04327457],\n",
    "       [-1.89607082, -0.70085502],\n",
    "       [ 0.57466899,  0.74878369],\n",
    "       [-0.16660312, -0.83110295],\n",
    "       [ 0.8013355 ,  1.22244435],\n",
    "       [ 1.18455426,  1.4346467 ],\n",
    "       [ 1.08864428,  0.64667112],\n",
    "       [-1.61158505,  0.22805725],\n",
    "       [-1.57512205, -0.09612576],\n",
    "       [ 0.0721357 , -0.69640328],\n",
    "       [-1.40054298,  0.16390598],\n",
    "       [ 1.09607713,  1.16804691],\n",
    "       [-2.54346204, -0.23089822],\n",
    "       [-1.34544875,  0.25151126],\n",
    "       [-1.35478629, -0.19103317],\n",
    "       [ 0.18368113, -1.15827725],\n",
    "       [-1.31368677, -0.376357  ],\n",
    "       [ 0.09990129,  1.22500491],\n",
    "       [ 1.17225574,  1.30835143],\n",
    "       [ 0.0865397 , -0.79714371],\n",
    "       [-0.21053923, -1.13421511],\n",
    "       [ 0.26496024, -0.94760742],\n",
    "       [-0.2557591 , -1.06266022],\n",
    "       [-0.26039757, -0.74774225],\n",
    "       [-1.91787359,  0.16434571],\n",
    "       [ 0.93021139,  0.49436331],\n",
    "       [ 0.44770467, -0.72877918],\n",
    "       [-1.63802869, -0.58925528],\n",
    "       [-1.95712763, -0.10125137],\n",
    "       [ 0.9270337 ,  0.88251423],\n",
    "       [ 1.25660093,  0.60828073],\n",
    "       [-1.72818632,  0.08416887],\n",
    "       [ 0.3499788 , -0.30490298],\n",
    "       [-1.51696082, -0.50913109],\n",
    "       [ 0.18763605, -0.55424924],\n",
    "       [ 0.89609809,  0.83551508],\n",
    "       [-1.54968857, -0.17114782],\n",
    "       [ 1.2157457 ,  1.23317728],\n",
    "       [ 0.20307745, -1.03784906],\n",
    "       [ 0.84589086,  1.03615273],\n",
    "       [ 0.53237919,  1.47362884],\n",
    "       [-0.05319044, -1.36150553],\n",
    "       [ 1.38819743,  1.11729915],\n",
    "       [ 1.00696304,  1.0367721 ],\n",
    "       [ 0.56681869, -1.09637176],\n",
    "       [ 0.86888296,  1.05248874],\n",
    "       [-1.16286609, -0.55875245],\n",
    "       [ 0.27717768, -0.83844015],\n",
    "       [ 0.16563267, -0.80306607],\n",
    "       [ 0.38263303, -0.42683241],\n",
    "       [ 1.14519807,  0.89659026],\n",
    "       [ 0.81455857,  0.67533667],\n",
    "       [-1.8603152 , -0.09537561],\n",
    "       [ 0.965641  ,  0.90295579],\n",
    "       [-1.49897451, -0.33254044],\n",
    "       [-0.1335489 , -0.80727582],\n",
    "       [ 0.12541527, -1.13354906],\n",
    "       [ 1.06062436,  1.28816358],\n",
    "       [-1.49154578, -0.2024641 ],\n",
    "       [ 1.16189032,  1.28819877],\n",
    "       [ 0.54282033,  0.75203524],\n",
    "       [ 0.89221065,  0.99211624],\n",
    "       [-1.49932011, -0.32430667],\n",
    "       [ 0.3166647 , -1.34482915],\n",
    "       [ 0.13972469, -1.22097448],\n",
    "       [-1.5499724 , -0.10782584],\n",
    "       [ 1.23846858,  1.37668804],\n",
    "       [ 1.25558954,  0.72026098],\n",
    "       [ 0.25558689, -1.28529763],\n",
    "       [ 0.45168933, -0.55952093],\n",
    "       [ 1.06202057,  1.03404604],\n",
    "       [ 0.67451908, -0.54970299],\n",
    "       [ 0.22759676, -1.02729468],\n",
    "       [-1.45835281, -0.04951074],\n",
    "       [ 0.23273501, -0.70849262],\n",
    "       [ 1.59679589,  1.11395076],\n",
    "       [ 0.80476105,  0.544627  ],\n",
    "       [ 1.15492521,  1.04352191],\n",
    "       [ 0.59632776, -1.19142897],\n",
    "       [ 0.02839068, -0.43829366],\n",
    "       [ 1.13451584,  0.5632633 ],\n",
    "       [ 0.21576204, -1.04445753],\n",
    "       [ 1.41048987,  1.02830719],\n",
    "       [ 1.12289302,  0.58029441],\n",
    "       [ 0.25200688, -0.82588436],\n",
    "       [-1.28566081, -0.07390909],\n",
    "       [ 1.52849815,  1.11822469],\n",
    "       [-0.23907858, -0.70541972],\n",
    "       [-0.25792784, -0.81825035],\n",
    "       [ 0.59367818, -0.45239915],\n",
    "       [ 0.07931909, -0.29233213],\n",
    "       [-1.27256815,  0.11630577],\n",
    "       [ 0.66930129,  1.00731481],\n",
    "       [ 0.34791546, -1.20822877],\n",
    "       [-2.11283993, -0.66897935],\n",
    "       [-1.6293824 , -0.32718222],\n",
    "       [-1.53819139, -0.01501972],\n",
    "       [-0.11988545, -0.6036339 ],\n",
    "       [-1.54418956, -0.30389844],\n",
    "       [ 0.30026614, -0.77723173],\n",
    "       [ 0.00935449, -0.53888192],\n",
    "       [-1.33424393, -0.11560431],\n",
    "       [ 0.47504489,  0.78421384],\n",
    "       [ 0.59313264,  1.232239  ],\n",
    "       [ 0.41370369, -1.35205857],\n",
    "       [ 0.55840948,  0.78831053],\n",
    "       [ 0.49855018, -0.789949  ],\n",
    "       [ 0.35675809, -0.81038693],\n",
    "       [-1.86197825, -0.59071305],\n",
    "       [-1.61977671, -0.16076687],\n",
    "       [ 0.80779295, -0.73311294],\n",
    "       [ 1.62745775,  0.62787163],\n",
    "       [-1.56993593, -0.08467567],\n",
    "       [ 1.02558561,  0.89383302],\n",
    "       [ 0.24293461, -0.6088253 ],\n",
    "       [ 1.23130242,  1.00262186],\n",
    "       [-1.9651013 , -0.15886289],\n",
    "       [ 0.42795032, -0.70384432],\n",
    "       [-1.58306818, -0.19431923],\n",
    "       [-1.57195922,  0.01413469],\n",
    "       [-0.98145373,  0.06132285],\n",
    "       [-1.48637844, -0.5746531 ],\n",
    "       [ 0.98745828,  0.69188053],\n",
    "       [ 1.28619721,  1.28128821],\n",
    "       [ 0.85850596,  0.95541481],\n",
    "       [ 0.19028286, -0.82112942],\n",
    "       [ 0.26561046, -0.04255239],\n",
    "       [-1.61897897,  0.00862372],\n",
    "       [ 0.24070183, -0.52664209],\n",
    "       [ 1.15220993,  0.43916694],\n",
    "       [-1.21967812, -0.2580313 ],\n",
    "       [ 0.33412533, -0.86117761],\n",
    "       [ 0.17131003, -0.75638965],\n",
    "       [-1.19828397, -0.73744665],\n",
    "       [-0.12245932, -0.45648879],\n",
    "       [ 1.51200698,  0.88825741],\n",
    "       [ 1.10338866,  0.92347479],\n",
    "       [ 1.30972095,  0.59066989],\n",
    "       [ 0.19964876,  1.14855889],\n",
    "       [ 0.81460515,  0.84538972],\n",
    "       [-1.6422739 , -0.42296206],\n",
    "       [ 0.01224351, -0.21247816],\n",
    "       [ 0.33709102, -0.74618065],\n",
    "       [ 0.47301054,  0.72712075],\n",
    "       [ 0.34706626,  1.23033757],\n",
    "       [-0.00393279, -0.97209694],\n",
    "       [-1.64303119,  0.05276337],\n",
    "       [ 1.44649625,  1.14217033],\n",
    "       [-1.93030087, -0.40026146],\n",
    "       [-2.37296135, -0.72633645],\n",
    "       [ 0.45860122, -1.06048953],\n",
    "       [ 0.4896361 , -1.18928313],\n",
    "       [-1.02335902, -0.17520578],\n",
    "       [-1.32761107, -0.93963549],\n",
    "       [-1.50987909, -0.09473658],\n",
    "       [ 0.02723057, -0.79870549],\n",
    "       [ 1.0169412 ,  1.26461701],\n",
    "       [ 0.47733527, -0.9898471 ],\n",
    "       [-1.27784224, -0.547416  ],\n",
    "       [ 0.49898802, -0.6237259 ],\n",
    "       [ 1.06004731,  0.86870008],\n",
    "       [ 1.00207501,  1.38293512],\n",
    "       [ 1.31161394,  0.62833956],\n",
    "       [ 1.13428443,  1.18346542],\n",
    "       [ 1.27671346,  0.96632878],\n",
    "       [-0.63342885, -0.97768251],\n",
    "       [ 0.12698779, -0.93142317],\n",
    "       [-1.34510812, -0.23754226],\n",
    "       [-0.53162278, -1.25153594],\n",
    "       [ 0.21959934, -0.90269938],\n",
    "       [-1.78997479, -0.12115748],\n",
    "       [ 1.23197473, -0.07453764],\n",
    "       [ 1.4163536 ,  1.21551752],\n",
    "       [-1.90280976, -0.1638976 ],\n",
    "       [-0.22440081, -0.75454248],\n",
    "       [ 0.59559412,  0.92414553],\n",
    "       [ 1.21930773,  1.08175284],\n",
    "       [-1.99427535, -0.37587799],\n",
    "       [-1.27818474, -0.52454551],\n",
    "       [ 0.62352689, -1.01430108],\n",
    "       [ 0.14024251, -0.428266  ],\n",
    "       [-0.16145713, -1.16359731],\n",
    "       [-1.74795865, -0.06033101],\n",
    "       [-1.16659791,  0.0902393 ],\n",
    "       [ 0.41110408, -0.8084249 ],\n",
    "       [ 1.14757168,  0.77804528],\n",
    "       [-1.65590748, -0.40105446],\n",
    "       [-1.15306865,  0.00858699],\n",
    "       [ 0.60892121,  0.68974833],\n",
    "       [-0.08434138, -0.97615256],\n",
    "       [ 0.19170053, -0.42331438],\n",
    "       [ 0.29663162, -1.13357399],\n",
    "       [-1.36893628, -0.25052124],\n",
    "       [-0.08037807, -0.56784155],\n",
    "       [ 0.35695011, -1.15064408],\n",
    "       [ 0.02482179, -0.63594828],\n",
    "       [-1.49075558, -0.2482507 ],\n",
    "       [-1.408588  ,  0.25635431],\n",
    "       [-1.98274626, -0.54584475]]"
   ]
  },
  {
   "cell_type": "code",
   "execution_count": 27,
   "metadata": {},
   "outputs": [],
   "source": [
    "new_points = [[ 4.00233332e-01, -1.26544471e+00],\n",
    "       [ 8.03230370e-01,  1.28260167e+00],\n",
    "       [-1.39507552e+00,  5.57292921e-02],\n",
    "       [-3.41192677e-01, -1.07661994e+00],\n",
    "       [ 1.54781747e+00,  1.40250049e+00],\n",
    "       [ 2.45032018e-01, -4.83442328e-01],\n",
    "       [ 1.20706886e+00,  8.88752605e-01],\n",
    "       [ 1.25132628e+00,  1.15555395e+00],\n",
    "       [ 1.81004415e+00,  9.65530731e-01],\n",
    "       [-1.66963401e+00, -3.08103509e-01],\n",
    "       [-7.17482105e-02, -9.37939700e-01],\n",
    "       [ 6.82631927e-01,  1.10258160e+00],\n",
    "       [ 1.09039598e+00,  1.43899529e+00],\n",
    "       [-1.67645414e+00, -5.04557049e-01],\n",
    "       [-1.84447804e+00,  4.52539544e-02],\n",
    "       [ 1.24234851e+00,  1.02088661e+00],\n",
    "       [-1.86147041e+00,  6.38645811e-03],\n",
    "       [-1.46044943e+00,  1.53252383e-01],\n",
    "       [ 4.98981817e-01,  8.98006058e-01],\n",
    "       [ 9.83962244e-01,  1.04369375e+00],\n",
    "       [-1.83136742e+00, -1.63632835e-01],\n",
    "       [ 1.30622617e+00,  1.07658717e+00],\n",
    "       [ 3.53420328e-01, -7.51320218e-01],\n",
    "       [ 1.13957970e+00,  1.54503860e+00],\n",
    "       [ 2.93995694e-01, -1.26135005e+00],\n",
    "       [-1.14558225e+00, -3.78709636e-02],\n",
    "       [ 1.18716105e+00,  6.00240663e-01],\n",
    "       [-2.23211946e+00,  2.30475094e-01],\n",
    "       [-1.28320430e+00, -3.93314568e-01],\n",
    "       [ 4.94296696e-01, -8.83972009e-01],\n",
    "       [ 6.31834930e-02, -9.11952228e-01],\n",
    "       [ 9.35759539e-01,  8.66820685e-01],\n",
    "       [ 1.58014721e+00,  1.03788392e+00],\n",
    "       [ 1.06304960e+00,  1.02706082e+00],\n",
    "       [-1.39732536e+00, -5.05162249e-01],\n",
    "       [-1.09935240e-01, -9.08113619e-01],\n",
    "       [ 1.17346758e+00,  9.47501092e-01],\n",
    "       [ 9.20084511e-01,  1.45767672e+00],\n",
    "       [ 5.82658956e-01, -9.00086832e-01],\n",
    "       [ 9.52772328e-01,  8.99042386e-01],\n",
    "       [-1.37266956e+00, -3.17878215e-02],\n",
    "       [ 2.12706760e-02, -7.07614194e-01],\n",
    "       [ 3.27049052e-01, -5.55998107e-01],\n",
    "       [-1.71590267e+00,  2.15222266e-01],\n",
    "       [ 5.12516209e-01, -7.60128245e-01],\n",
    "       [ 1.13023469e+00,  7.22451122e-01],\n",
    "       [-1.43074310e+00, -3.42787511e-01],\n",
    "       [-1.82724625e+00,  1.17657775e-01],\n",
    "       [ 1.41801350e+00,  1.11455080e+00],\n",
    "       [ 1.26897304e+00,  1.41925971e+00],\n",
    "       [ 8.04076494e-01,  1.63988557e+00],\n",
    "       [ 8.34567752e-01,  1.09956689e+00],\n",
    "       [-1.24714732e+00, -2.23522320e-01],\n",
    "       [-1.29422537e+00,  8.18770024e-02],\n",
    "       [-2.27378316e-01, -4.13331387e-01],\n",
    "       [ 2.18830387e-01, -4.68183120e-01],\n",
    "       [-1.22593414e+00,  2.55599147e-01],\n",
    "       [-1.31294033e+00, -4.28892070e-01],\n",
    "       [-1.33532382e+00,  6.52053776e-01],\n",
    "       [-3.01100233e-01, -1.25156451e+00],\n",
    "       [ 2.02778356e-01, -9.05277445e-01],\n",
    "       [ 1.01357784e+00,  1.12378981e+00],\n",
    "       [ 8.18324394e-01,  8.60841257e-01],\n",
    "       [ 1.26181556e+00,  1.46613744e+00],\n",
    "       [ 4.64867724e-01, -7.97212459e-01],\n",
    "       [ 3.60908898e-01,  8.44106720e-01],\n",
    "       [-2.15098310e+00, -3.69583937e-01],\n",
    "       [ 1.05005281e+00,  8.74181364e-01],\n",
    "       [ 1.06580074e-01, -7.49268153e-01],\n",
    "       [-1.73945723e+00,  2.52183577e-01],\n",
    "       [-1.12017687e-01, -6.52469788e-01],\n",
    "       [ 5.16618951e-01, -6.41267582e-01],\n",
    "       [ 3.26621787e-01, -8.80608015e-01],\n",
    "       [ 1.09017759e+00,  1.10952558e+00],\n",
    "       [ 3.64459576e-01, -6.94215622e-01],\n",
    "       [-1.90779318e+00,  1.87383674e-01],\n",
    "       [-1.95601829e+00,  1.39959126e-01],\n",
    "       [ 3.18541701e-01, -4.05271704e-01],\n",
    "       [ 7.36512699e-01,  1.76416255e+00],\n",
    "       [-1.44175162e+00, -5.72320429e-02],\n",
    "       [ 3.21757168e-01, -5.34283821e-01],\n",
    "       [-1.37317305e+00,  4.64484644e-02],\n",
    "       [ 6.87225910e-02, -1.10522944e+00],\n",
    "       [ 9.59314218e-01,  6.52316210e-01],\n",
    "       [-1.62641919e+00, -5.62423280e-01],\n",
    "       [ 1.06788305e+00,  7.29260482e-01],\n",
    "       [-1.79643547e+00, -9.88307418e-01],\n",
    "       [-9.88628377e-02, -6.81198092e-02],\n",
    "       [-1.05135700e-01,  1.17022143e+00],\n",
    "       [ 8.79964699e-01,  1.25340317e+00],\n",
    "       [ 9.80753407e-01,  1.15486539e+00],\n",
    "       [-8.33224966e-02, -9.24844368e-01],\n",
    "       [ 8.48759673e-01,  1.09397425e+00],\n",
    "       [ 1.32941649e+00,  1.13734563e+00],\n",
    "       [ 3.23788068e-01, -7.49732451e-01],\n",
    "       [-1.52610970e+00, -2.49016929e-01],\n",
    "       [-1.48598116e+00, -2.68828608e-01],\n",
    "       [-1.80479553e+00,  1.87052700e-01],\n",
    "       [-2.01907347e+00, -4.49511651e-01],\n",
    "       [ 2.87202402e-01, -6.55487415e-01],\n",
    "       [ 8.22295102e-01,  1.38443234e+00],\n",
    "       [-3.56997036e-02, -8.01825807e-01],\n",
    "       [-1.66955440e+00, -1.38258505e-01],\n",
    "       [-1.78226821e+00,  2.93353033e-01],\n",
    "       [ 7.25837138e-01, -6.23374024e-01],\n",
    "       [ 3.88432593e-01, -7.61283497e-01],\n",
    "       [ 1.49002783e+00,  7.95678671e-01],\n",
    "       [ 6.55423228e-04, -7.40580702e-01],\n",
    "       [-1.34533116e+00, -4.75629937e-01],\n",
    "       [-8.03845106e-01, -3.09943013e-01],\n",
    "       [-2.49041295e-01, -1.00662418e+00],\n",
    "       [-1.41095118e+00, -7.06744127e-02],\n",
    "       [-1.75119594e+00, -3.00491336e-01],\n",
    "       [-1.27942724e+00,  1.73774600e-01],\n",
    "       [ 3.35028183e-01,  6.24761151e-01],\n",
    "       [ 1.16819649e+00,  1.18902251e+00],\n",
    "       [ 7.15210457e-01,  9.26077419e-01],\n",
    "       [ 1.30057278e+00,  9.16349565e-01],\n",
    "       [-1.21697008e+00,  1.10039477e-01],\n",
    "       [-1.70707935e+00, -5.99659536e-02],\n",
    "       [ 1.20730655e+00,  1.05480463e+00],\n",
    "       [ 1.86896009e-01, -9.58047234e-01],\n",
    "       [ 8.03463471e-01,  3.86133140e-01],\n",
    "       [-1.73486790e+00, -1.49831913e-01],\n",
    "       [ 1.31261499e+00,  1.11802982e+00],\n",
    "       [ 4.04993148e-01, -5.10900347e-01],\n",
    "       [-1.93267968e+00,  2.20764694e-01],\n",
    "       [ 6.56004799e-01,  9.61887161e-01],\n",
    "       [-1.40588215e+00,  1.17134403e-01],\n",
    "       [-1.74306264e+00, -7.47473959e-02],\n",
    "       [ 5.43745412e-01,  1.47209224e+00],\n",
    "       [-1.97331669e+00, -2.27124493e-01],\n",
    "       [ 1.53901171e+00,  1.36049081e+00],\n",
    "       [-1.48323452e+00, -4.90302063e-01],\n",
    "       [ 3.86748484e-01, -1.26173400e+00],\n",
    "       [ 1.17015716e+00,  1.18549415e+00],\n",
    "       [-8.05381721e-02, -3.21923627e-01],\n",
    "       [-6.82273156e-02, -8.52825887e-01],\n",
    "       [ 7.13500028e-01,  1.27868520e+00],\n",
    "       [-1.85014378e+00, -5.03490558e-01],\n",
    "       [ 6.36085266e-02, -1.41257040e+00],\n",
    "       [ 1.52966062e+00,  9.66056572e-01],\n",
    "       [ 1.62165714e-01, -1.37374843e+00],\n",
    "       [-3.23474497e-01, -7.06620269e-01],\n",
    "       [-1.51768993e+00,  1.87658302e-01],\n",
    "       [ 8.88895911e-01,  7.62237161e-01],\n",
    "       [ 4.83164032e-01,  8.81931869e-01],\n",
    "       [-5.52997766e-02, -7.11305016e-01],\n",
    "       [-1.57966441e+00, -6.29220313e-01],\n",
    "       [ 5.51308645e-02, -8.47206763e-01],\n",
    "       [-2.06001582e+00,  5.87697787e-02],\n",
    "       [ 1.11810855e+00,  1.30254175e+00],\n",
    "       [ 4.87016164e-01, -9.90143937e-01],\n",
    "       [-1.65518042e+00, -1.69386383e-01],\n",
    "       [-1.44349738e+00,  1.90299243e-01],\n",
    "       [-1.70074547e-01, -8.26736022e-01],\n",
    "       [-1.82433979e+00, -3.07814626e-01],\n",
    "       [ 1.03093485e+00,  1.26457691e+00],\n",
    "       [ 1.64431169e+00,  1.27773115e+00],\n",
    "       [-1.47617693e+00,  2.60783872e-02],\n",
    "       [ 1.00953067e+00,  1.14270181e+00],\n",
    "       [-1.45285636e+00, -2.55216207e-01],\n",
    "       [-1.74092917e+00, -8.34443177e-02],\n",
    "       [ 1.22038299e+00,  1.28699961e+00],\n",
    "       [ 9.16925397e-01,  7.32070275e-01],\n",
    "       [-1.60754185e-03, -7.26375571e-01],\n",
    "       [ 8.93841238e-01,  8.41146643e-01],\n",
    "       [ 6.33791961e-01,  1.00915134e+00],\n",
    "       [-1.47927075e+00, -6.99781936e-01],\n",
    "       [ 5.44799374e-02, -1.06441970e+00],\n",
    "       [-1.51935568e+00, -4.89276929e-01],\n",
    "       [ 2.89939026e-01, -7.73145523e-01],\n",
    "       [-9.68154061e-03, -1.13302207e+00],\n",
    "       [ 1.13474639e+00,  9.71541744e-01],\n",
    "       [ 5.36421406e-01, -8.47906388e-01],\n",
    "       [ 1.14759864e+00,  6.89915205e-01],\n",
    "       [ 5.73291902e-01,  7.90802710e-01],\n",
    "       [ 2.12377397e-01, -6.07569808e-01],\n",
    "       [ 5.26579548e-01, -8.15930264e-01],\n",
    "       [-2.01831641e+00,  6.78650740e-02],\n",
    "       [-2.35512624e-01, -1.08205132e+00],\n",
    "       [ 1.59274780e-01, -6.00717261e-01],\n",
    "       [ 2.28120356e-01, -1.16003549e+00],\n",
    "       [-1.53658378e+00,  8.40798808e-02],\n",
    "       [ 1.13954609e+00,  6.31782001e-01],\n",
    "       [ 1.01119255e+00,  1.04360805e+00],\n",
    "       [-1.42039867e-01, -4.81230337e-01],\n",
    "       [-2.23120182e+00,  8.49162905e-02],\n",
    "       [ 1.25554811e-01, -1.01794793e+00],\n",
    "       [-1.72493509e+00, -6.94426177e-01],\n",
    "       [-1.60434630e+00,  4.45550868e-01],\n",
    "       [ 7.37153979e-01,  9.26560744e-01],\n",
    "       [ 6.72905271e-01,  1.13366030e+00],\n",
    "       [ 1.20066456e+00,  7.26273093e-01],\n",
    "       [ 7.58747209e-02, -9.83378326e-01],\n",
    "       [ 1.28783262e+00,  1.18088601e+00],\n",
    "       [ 1.06521930e+00,  1.00714746e+00],\n",
    "       [ 1.05871698e+00,  1.12956519e+00],\n",
    "       [-1.12643410e+00,  1.66787744e-01],\n",
    "       [-1.10157218e+00, -3.64137806e-01],\n",
    "       [ 2.35118217e-01, -1.39769949e-01],\n",
    "       [ 1.13853795e+00,  1.01018519e+00],\n",
    "       [ 5.31205654e-01, -8.81990792e-01],\n",
    "       [ 4.33085936e-01, -7.64059042e-01],\n",
    "       [-4.48926156e-03, -1.30548411e+00],\n",
    "       [-1.76348589e+00, -4.97430739e-01],\n",
    "       [ 1.36485681e+00,  5.83404699e-01],\n",
    "       [ 5.66923900e-01,  1.51391963e+00],\n",
    "       [ 1.35736826e+00,  6.70915318e-01],\n",
    "       [ 1.07173397e+00,  6.11990884e-01],\n",
    "       [ 1.00106915e+00,  8.93815326e-01],\n",
    "       [ 1.33091007e+00,  8.79773879e-01],\n",
    "       [-1.79603740e+00, -3.53883973e-02],\n",
    "       [-1.27222979e+00,  4.00156642e-01],\n",
    "       [ 8.47480603e-01,  1.17032364e+00],\n",
    "       [-1.50989129e+00, -7.12318330e-01],\n",
    "       [-1.24953576e+00, -5.57859730e-01],\n",
    "       [-1.27717973e+00, -5.99350550e-01],\n",
    "       [-1.81946743e+00,  7.37057673e-01],\n",
    "       [ 1.19949867e+00,  1.56969386e+00],\n",
    "       [-1.25543847e+00, -2.33892826e-01],\n",
    "       [-1.63052058e+00,  1.61455865e-01],\n",
    "       [ 1.10611305e+00,  7.39698224e-01],\n",
    "       [ 6.70193192e-01,  8.70567001e-01],\n",
    "       [ 3.69670156e-01, -6.94645306e-01],\n",
    "       [-1.26362293e+00, -6.99249285e-01],\n",
    "       [-3.66687507e-01, -1.35310260e+00],\n",
    "       [ 2.44032147e-01, -6.59470793e-01],\n",
    "       [-1.27679142e+00, -4.85453412e-01],\n",
    "       [ 3.77473612e-02, -6.99251605e-01],\n",
    "       [-2.19148539e+00, -4.91199500e-01],\n",
    "       [-2.93277777e-01, -5.89488212e-01],\n",
    "       [-1.65737397e+00, -2.98337786e-01],\n",
    "       [ 7.36638861e-01,  5.78037057e-01],\n",
    "       [ 1.13709081e+00,  1.30119754e+00],\n",
    "       [-1.44146601e+00,  3.13934680e-02],\n",
    "       [ 5.92360708e-01,  1.22545114e+00],\n",
    "       [ 6.51719414e-01,  4.92674894e-01],\n",
    "       [ 5.94559139e-01,  8.25637315e-01],\n",
    "       [-1.87900722e+00, -5.21899626e-01],\n",
    "       [ 2.15225041e-01, -1.28269851e+00],\n",
    "       [ 4.99145965e-01, -6.70268634e-01],\n",
    "       [-1.82954176e+00, -3.39269731e-01],\n",
    "       [ 7.92721403e-01,  1.33785606e+00],\n",
    "       [ 9.54363372e-01,  9.80396626e-01],\n",
    "       [-1.35359846e+00,  1.03976340e-01],\n",
    "       [ 1.05595062e+00,  8.07031927e-01],\n",
    "       [-1.94311010e+00, -1.18976964e-01],\n",
    "       [-1.39604137e+00, -3.10095976e-01],\n",
    "       [ 1.28977624e+00,  1.01753365e+00],\n",
    "       [-1.59503139e+00, -5.40574609e-01],\n",
    "       [-1.41994046e+00, -3.81032569e-01],\n",
    "       [-2.35569801e-02, -1.10133702e+00],\n",
    "       [-1.26038568e+00, -6.93273886e-01],\n",
    "       [ 9.60215981e-01, -8.11553694e-01],\n",
    "       [ 5.51803308e-01, -1.01793176e+00],\n",
    "       [ 3.70185085e-01, -1.06885468e+00],\n",
    "       [ 8.25529207e-01,  8.77007060e-01],\n",
    "       [-1.87032595e+00,  2.87507199e-01],\n",
    "       [-1.56260769e+00, -1.89196712e-01],\n",
    "       [-1.26346548e+00, -7.74725237e-01],\n",
    "       [-6.33800421e-02, -7.59400611e-01],\n",
    "       [ 8.85298280e-01,  8.85620519e-01],\n",
    "       [-1.43324686e-01, -1.16083678e+00],\n",
    "       [-1.83908725e+00, -3.26655515e-01],\n",
    "       [ 2.74709229e-01, -1.04546829e+00],\n",
    "       [-1.45703573e+00, -2.91842036e-01],\n",
    "       [-1.59048842e+00,  1.66063031e-01],\n",
    "       [ 9.25549284e-01,  7.41406406e-01],\n",
    "       [ 1.97245469e-01, -7.80703225e-01],\n",
    "       [ 2.88401697e-01, -8.32425551e-01],\n",
    "       [ 7.24141618e-01, -7.99149200e-01],\n",
    "       [-1.62658639e+00, -1.80005543e-01],\n",
    "       [ 5.84481588e-01,  1.13195640e+00],\n",
    "       [ 1.02146732e+00,  4.59657799e-01],\n",
    "       [ 8.65050554e-01,  9.57714887e-01],\n",
    "       [ 3.98717766e-01, -1.24273147e+00],\n",
    "       [ 8.62234892e-01,  1.10955561e+00],\n",
    "       [-1.35999430e+00,  2.49942654e-02],\n",
    "       [-1.19178505e+00, -3.82946323e-02],\n",
    "       [ 1.29392424e+00,  1.10320509e+00],\n",
    "       [ 1.25679630e+00, -7.79857582e-01],\n",
    "       [ 9.38040302e-02, -5.53247258e-01],\n",
    "       [-1.73512175e+00, -9.76271667e-02],\n",
    "       [ 2.23153587e-01, -9.43474351e-01],\n",
    "       [ 4.01989100e-01, -1.10963051e+00],\n",
    "       [-1.42244158e+00,  1.81914703e-01],\n",
    "       [ 3.92476267e-01, -8.78426277e-01],\n",
    "       [ 1.25181875e+00,  6.93614996e-01],\n",
    "       [ 1.77481317e-02, -7.20304235e-01],\n",
    "       [-1.87752521e+00, -2.63870424e-01],\n",
    "       [-1.58063602e+00, -5.50456344e-01],\n",
    "       [-1.59589493e+00, -1.53932892e-01],\n",
    "       [-1.01829770e+00,  3.88542370e-02],\n",
    "       [ 1.24819659e+00,  6.60041803e-01],\n",
    "       [-1.25551377e+00, -2.96172009e-02],\n",
    "       [-1.41864559e+00, -3.58230179e-01],\n",
    "       [ 5.25758326e-01,  8.70500543e-01],\n",
    "       [ 5.55599988e-01,  1.18765072e+00],\n",
    "       [ 2.81344439e-02, -6.99111314e-01]]"
   ]
  },
  {
   "cell_type": "code",
   "execution_count": 28,
   "metadata": {},
   "outputs": [
    {
     "name": "stdout",
     "output_type": "stream",
     "text": [
      "[1 0 2 1 0 1 0 0 0 2 1 0 0 2 2 0 2 2 0 0 2 0 1 0 1 2 0 2 2 1 1 0 0 0 2 1 0\n",
      " 0 1 0 2 1 1 2 1 0 2 2 0 0 0 0 2 2 1 1 2 2 2 1 1 0 0 0 1 0 2 0 1 2 1 1 1 0\n",
      " 1 2 2 1 0 2 1 2 1 0 2 0 2 1 0 0 0 1 0 0 1 2 2 2 2 1 0 1 2 2 1 1 0 1 2 2 1\n",
      " 2 2 2 0 0 0 0 2 2 0 1 0 2 0 1 2 0 2 2 0 2 0 2 1 0 1 1 0 2 1 0 1 1 2 0 0 1\n",
      " 2 1 2 0 1 2 2 1 2 0 0 2 0 2 2 0 0 1 0 0 2 1 2 1 1 0 1 0 0 1 1 2 1 1 1 2 0\n",
      " 0 1 2 1 2 2 0 0 0 1 0 0 0 2 2 1 0 1 1 1 2 0 0 0 0 0 0 2 2 0 2 2 2 2 0 2 2\n",
      " 0 0 1 2 1 1 2 1 2 1 2 0 0 2 0 0 0 2 1 1 2 0 0 2 0 2 2 0 2 2 1 2 1 1 1 0 2\n",
      " 2 2 1 0 1 2 1 2 2 0 1 1 1 2 0 0 0 1 0 2 2 0 1 1 2 1 1 2 1 0 1 2 2 2 2 0 2\n",
      " 2 0 0 1]\n"
     ]
    }
   ],
   "source": [
    "# Import KMeans\n",
    "from sklearn.cluster import KMeans\n",
    "\n",
    "# Create a KMeans instance with 3 clusters: model\n",
    "model = KMeans(n_clusters = 3)\n",
    "\n",
    "# Fit model to points\n",
    "model.fit(points)\n",
    "\n",
    "# Determine the cluster labels of new_points: labels\n",
    "labels = model.predict(new_points)\n",
    "\n",
    "# Print cluster labels of new_points\n",
    "print(labels)\n"
   ]
  },
  {
   "cell_type": "markdown",
   "metadata": {},
   "source": [
    "### Inspect your clustering\n",
    "Let's now inspect the clustering you performed in the previous exercise!\n",
    "\n",
    "A solution to the previous exercise has already run, so `new_points` is an array of points and `labels` is the array of their cluster labels."
   ]
  },
  {
   "cell_type": "code",
   "execution_count": 29,
   "metadata": {},
   "outputs": [
    {
     "data": {
      "text/plain": [
       "[[0.400233332, -1.26544471],\n",
       " [0.80323037, 1.28260167],\n",
       " [-1.39507552, 0.0557292921],\n",
       " [-0.341192677, -1.07661994],\n",
       " [1.54781747, 1.40250049],\n",
       " [0.245032018, -0.483442328],\n",
       " [1.20706886, 0.888752605],\n",
       " [1.25132628, 1.15555395],\n",
       " [1.81004415, 0.965530731],\n",
       " [-1.66963401, -0.308103509],\n",
       " [-0.0717482105, -0.9379397],\n",
       " [0.682631927, 1.1025816],\n",
       " [1.09039598, 1.43899529],\n",
       " [-1.67645414, -0.504557049],\n",
       " [-1.84447804, 0.0452539544],\n",
       " [1.24234851, 1.02088661],\n",
       " [-1.86147041, 0.00638645811],\n",
       " [-1.46044943, 0.153252383],\n",
       " [0.498981817, 0.898006058],\n",
       " [0.983962244, 1.04369375],\n",
       " [-1.83136742, -0.163632835],\n",
       " [1.30622617, 1.07658717],\n",
       " [0.353420328, -0.751320218],\n",
       " [1.1395797, 1.5450386],\n",
       " [0.293995694, -1.26135005],\n",
       " [-1.14558225, -0.0378709636],\n",
       " [1.18716105, 0.600240663],\n",
       " [-2.23211946, 0.230475094],\n",
       " [-1.2832043, -0.393314568],\n",
       " [0.494296696, -0.883972009],\n",
       " [0.063183493, -0.911952228],\n",
       " [0.935759539, 0.866820685],\n",
       " [1.58014721, 1.03788392],\n",
       " [1.0630496, 1.02706082],\n",
       " [-1.39732536, -0.505162249],\n",
       " [-0.10993524, -0.908113619],\n",
       " [1.17346758, 0.947501092],\n",
       " [0.920084511, 1.45767672],\n",
       " [0.582658956, -0.900086832],\n",
       " [0.952772328, 0.899042386],\n",
       " [-1.37266956, -0.0317878215],\n",
       " [0.021270676, -0.707614194],\n",
       " [0.327049052, -0.555998107],\n",
       " [-1.71590267, 0.215222266],\n",
       " [0.512516209, -0.760128245],\n",
       " [1.13023469, 0.722451122],\n",
       " [-1.4307431, -0.342787511],\n",
       " [-1.82724625, 0.117657775],\n",
       " [1.4180135, 1.1145508],\n",
       " [1.26897304, 1.41925971],\n",
       " [0.804076494, 1.63988557],\n",
       " [0.834567752, 1.09956689],\n",
       " [-1.24714732, -0.22352232],\n",
       " [-1.29422537, 0.0818770024],\n",
       " [-0.227378316, -0.413331387],\n",
       " [0.218830387, -0.46818312],\n",
       " [-1.22593414, 0.255599147],\n",
       " [-1.31294033, -0.42889207],\n",
       " [-1.33532382, 0.652053776],\n",
       " [-0.301100233, -1.25156451],\n",
       " [0.202778356, -0.905277445],\n",
       " [1.01357784, 1.12378981],\n",
       " [0.818324394, 0.860841257],\n",
       " [1.26181556, 1.46613744],\n",
       " [0.464867724, -0.797212459],\n",
       " [0.360908898, 0.84410672],\n",
       " [-2.1509831, -0.369583937],\n",
       " [1.05005281, 0.874181364],\n",
       " [0.106580074, -0.749268153],\n",
       " [-1.73945723, 0.252183577],\n",
       " [-0.112017687, -0.652469788],\n",
       " [0.516618951, -0.641267582],\n",
       " [0.326621787, -0.880608015],\n",
       " [1.09017759, 1.10952558],\n",
       " [0.364459576, -0.694215622],\n",
       " [-1.90779318, 0.187383674],\n",
       " [-1.95601829, 0.139959126],\n",
       " [0.318541701, -0.405271704],\n",
       " [0.736512699, 1.76416255],\n",
       " [-1.44175162, -0.0572320429],\n",
       " [0.321757168, -0.534283821],\n",
       " [-1.37317305, 0.0464484644],\n",
       " [0.068722591, -1.10522944],\n",
       " [0.959314218, 0.65231621],\n",
       " [-1.62641919, -0.56242328],\n",
       " [1.06788305, 0.729260482],\n",
       " [-1.79643547, -0.988307418],\n",
       " [-0.0988628377, -0.0681198092],\n",
       " [-0.1051357, 1.17022143],\n",
       " [0.879964699, 1.25340317],\n",
       " [0.980753407, 1.15486539],\n",
       " [-0.0833224966, -0.924844368],\n",
       " [0.848759673, 1.09397425],\n",
       " [1.32941649, 1.13734563],\n",
       " [0.323788068, -0.749732451],\n",
       " [-1.5261097, -0.249016929],\n",
       " [-1.48598116, -0.268828608],\n",
       " [-1.80479553, 0.1870527],\n",
       " [-2.01907347, -0.449511651],\n",
       " [0.287202402, -0.655487415],\n",
       " [0.822295102, 1.38443234],\n",
       " [-0.0356997036, -0.801825807],\n",
       " [-1.6695544, -0.138258505],\n",
       " [-1.78226821, 0.293353033],\n",
       " [0.725837138, -0.623374024],\n",
       " [0.388432593, -0.761283497],\n",
       " [1.49002783, 0.795678671],\n",
       " [0.000655423228, -0.740580702],\n",
       " [-1.34533116, -0.475629937],\n",
       " [-0.803845106, -0.309943013],\n",
       " [-0.249041295, -1.00662418],\n",
       " [-1.41095118, -0.0706744127],\n",
       " [-1.75119594, -0.300491336],\n",
       " [-1.27942724, 0.1737746],\n",
       " [0.335028183, 0.624761151],\n",
       " [1.16819649, 1.18902251],\n",
       " [0.715210457, 0.926077419],\n",
       " [1.30057278, 0.916349565],\n",
       " [-1.21697008, 0.110039477],\n",
       " [-1.70707935, -0.0599659536],\n",
       " [1.20730655, 1.05480463],\n",
       " [0.186896009, -0.958047234],\n",
       " [0.803463471, 0.38613314],\n",
       " [-1.7348679, -0.149831913],\n",
       " [1.31261499, 1.11802982],\n",
       " [0.404993148, -0.510900347],\n",
       " [-1.93267968, 0.220764694],\n",
       " [0.656004799, 0.961887161],\n",
       " [-1.40588215, 0.117134403],\n",
       " [-1.74306264, -0.0747473959],\n",
       " [0.543745412, 1.47209224],\n",
       " [-1.97331669, -0.227124493],\n",
       " [1.53901171, 1.36049081],\n",
       " [-1.48323452, -0.490302063],\n",
       " [0.386748484, -1.261734],\n",
       " [1.17015716, 1.18549415],\n",
       " [-0.0805381721, -0.321923627],\n",
       " [-0.0682273156, -0.852825887],\n",
       " [0.713500028, 1.2786852],\n",
       " [-1.85014378, -0.503490558],\n",
       " [0.0636085266, -1.4125704],\n",
       " [1.52966062, 0.966056572],\n",
       " [0.162165714, -1.37374843],\n",
       " [-0.323474497, -0.706620269],\n",
       " [-1.51768993, 0.187658302],\n",
       " [0.888895911, 0.762237161],\n",
       " [0.483164032, 0.881931869],\n",
       " [-0.0552997766, -0.711305016],\n",
       " [-1.57966441, -0.629220313],\n",
       " [0.0551308645, -0.847206763],\n",
       " [-2.06001582, 0.0587697787],\n",
       " [1.11810855, 1.30254175],\n",
       " [0.487016164, -0.990143937],\n",
       " [-1.65518042, -0.169386383],\n",
       " [-1.44349738, 0.190299243],\n",
       " [-0.170074547, -0.826736022],\n",
       " [-1.82433979, -0.307814626],\n",
       " [1.03093485, 1.26457691],\n",
       " [1.64431169, 1.27773115],\n",
       " [-1.47617693, 0.0260783872],\n",
       " [1.00953067, 1.14270181],\n",
       " [-1.45285636, -0.255216207],\n",
       " [-1.74092917, -0.0834443177],\n",
       " [1.22038299, 1.28699961],\n",
       " [0.916925397, 0.732070275],\n",
       " [-0.00160754185, -0.726375571],\n",
       " [0.893841238, 0.841146643],\n",
       " [0.633791961, 1.00915134],\n",
       " [-1.47927075, -0.699781936],\n",
       " [0.0544799374, -1.0644197],\n",
       " [-1.51935568, -0.489276929],\n",
       " [0.289939026, -0.773145523],\n",
       " [-0.00968154061, -1.13302207],\n",
       " [1.13474639, 0.971541744],\n",
       " [0.536421406, -0.847906388],\n",
       " [1.14759864, 0.689915205],\n",
       " [0.573291902, 0.79080271],\n",
       " [0.212377397, -0.607569808],\n",
       " [0.526579548, -0.815930264],\n",
       " [-2.01831641, 0.067865074],\n",
       " [-0.235512624, -1.08205132],\n",
       " [0.15927478, -0.600717261],\n",
       " [0.228120356, -1.16003549],\n",
       " [-1.53658378, 0.0840798808],\n",
       " [1.13954609, 0.631782001],\n",
       " [1.01119255, 1.04360805],\n",
       " [-0.142039867, -0.481230337],\n",
       " [-2.23120182, 0.0849162905],\n",
       " [0.125554811, -1.01794793],\n",
       " [-1.72493509, -0.694426177],\n",
       " [-1.6043463, 0.445550868],\n",
       " [0.737153979, 0.926560744],\n",
       " [0.672905271, 1.1336603],\n",
       " [1.20066456, 0.726273093],\n",
       " [0.0758747209, -0.983378326],\n",
       " [1.28783262, 1.18088601],\n",
       " [1.0652193, 1.00714746],\n",
       " [1.05871698, 1.12956519],\n",
       " [-1.1264341, 0.166787744],\n",
       " [-1.10157218, -0.364137806],\n",
       " [0.235118217, -0.139769949],\n",
       " [1.13853795, 1.01018519],\n",
       " [0.531205654, -0.881990792],\n",
       " [0.433085936, -0.764059042],\n",
       " [-0.00448926156, -1.30548411],\n",
       " [-1.76348589, -0.497430739],\n",
       " [1.36485681, 0.583404699],\n",
       " [0.5669239, 1.51391963],\n",
       " [1.35736826, 0.670915318],\n",
       " [1.07173397, 0.611990884],\n",
       " [1.00106915, 0.893815326],\n",
       " [1.33091007, 0.879773879],\n",
       " [-1.7960374, -0.0353883973],\n",
       " [-1.27222979, 0.400156642],\n",
       " [0.847480603, 1.17032364],\n",
       " [-1.50989129, -0.71231833],\n",
       " [-1.24953576, -0.55785973],\n",
       " [-1.27717973, -0.59935055],\n",
       " [-1.81946743, 0.737057673],\n",
       " [1.19949867, 1.56969386],\n",
       " [-1.25543847, -0.233892826],\n",
       " [-1.63052058, 0.161455865],\n",
       " [1.10611305, 0.739698224],\n",
       " [0.670193192, 0.870567001],\n",
       " [0.369670156, -0.694645306],\n",
       " [-1.26362293, -0.699249285],\n",
       " [-0.366687507, -1.3531026],\n",
       " [0.244032147, -0.659470793],\n",
       " [-1.27679142, -0.485453412],\n",
       " [0.0377473612, -0.699251605],\n",
       " [-2.19148539, -0.4911995],\n",
       " [-0.293277777, -0.589488212],\n",
       " [-1.65737397, -0.298337786],\n",
       " [0.736638861, 0.578037057],\n",
       " [1.13709081, 1.30119754],\n",
       " [-1.44146601, 0.031393468],\n",
       " [0.592360708, 1.22545114],\n",
       " [0.651719414, 0.492674894],\n",
       " [0.594559139, 0.825637315],\n",
       " [-1.87900722, -0.521899626],\n",
       " [0.215225041, -1.28269851],\n",
       " [0.499145965, -0.670268634],\n",
       " [-1.82954176, -0.339269731],\n",
       " [0.792721403, 1.33785606],\n",
       " [0.954363372, 0.980396626],\n",
       " [-1.35359846, 0.10397634],\n",
       " [1.05595062, 0.807031927],\n",
       " [-1.9431101, -0.118976964],\n",
       " [-1.39604137, -0.310095976],\n",
       " [1.28977624, 1.01753365],\n",
       " [-1.59503139, -0.540574609],\n",
       " [-1.41994046, -0.381032569],\n",
       " [-0.0235569801, -1.10133702],\n",
       " [-1.26038568, -0.693273886],\n",
       " [0.960215981, -0.811553694],\n",
       " [0.551803308, -1.01793176],\n",
       " [0.370185085, -1.06885468],\n",
       " [0.825529207, 0.87700706],\n",
       " [-1.87032595, 0.287507199],\n",
       " [-1.56260769, -0.189196712],\n",
       " [-1.26346548, -0.774725237],\n",
       " [-0.0633800421, -0.759400611],\n",
       " [0.88529828, 0.885620519],\n",
       " [-0.143324686, -1.16083678],\n",
       " [-1.83908725, -0.326655515],\n",
       " [0.274709229, -1.04546829],\n",
       " [-1.45703573, -0.291842036],\n",
       " [-1.59048842, 0.166063031],\n",
       " [0.925549284, 0.741406406],\n",
       " [0.197245469, -0.780703225],\n",
       " [0.288401697, -0.832425551],\n",
       " [0.724141618, -0.7991492],\n",
       " [-1.62658639, -0.180005543],\n",
       " [0.584481588, 1.1319564],\n",
       " [1.02146732, 0.459657799],\n",
       " [0.865050554, 0.957714887],\n",
       " [0.398717766, -1.24273147],\n",
       " [0.862234892, 1.10955561],\n",
       " [-1.3599943, 0.0249942654],\n",
       " [-1.19178505, -0.0382946323],\n",
       " [1.29392424, 1.10320509],\n",
       " [1.2567963, -0.779857582],\n",
       " [0.0938040302, -0.553247258],\n",
       " [-1.73512175, -0.0976271667],\n",
       " [0.223153587, -0.943474351],\n",
       " [0.4019891, -1.10963051],\n",
       " [-1.42244158, 0.181914703],\n",
       " [0.392476267, -0.878426277],\n",
       " [1.25181875, 0.693614996],\n",
       " [0.0177481317, -0.720304235],\n",
       " [-1.87752521, -0.263870424],\n",
       " [-1.58063602, -0.550456344],\n",
       " [-1.59589493, -0.153932892],\n",
       " [-1.0182977, 0.038854237],\n",
       " [1.24819659, 0.660041803],\n",
       " [-1.25551377, -0.0296172009],\n",
       " [-1.41864559, -0.358230179],\n",
       " [0.525758326, 0.870500543],\n",
       " [0.555599988, 1.18765072],\n",
       " [0.0281344439, -0.699111314]]"
      ]
     },
     "execution_count": 29,
     "metadata": {},
     "output_type": "execute_result"
    }
   ],
   "source": [
    "new_points"
   ]
  },
  {
   "cell_type": "code",
   "execution_count": 30,
   "metadata": {},
   "outputs": [
    {
     "data": {
      "image/png": "[encoded data removed]",
      "text/plain": [
       "<Figure size 432x288 with 1 Axes>"
      ]
     },
     "metadata": {},
     "output_type": "display_data"
    }
   ],
   "source": [
    "# Import pyplot\n",
    "from matplotlib import pyplot as plt\n",
    "\n",
    "# Assign the columns of new_points: xs and ys\n",
    "new_points = np.array(new_points)\n",
    "\n",
    "xs = new_points[:,0]\n",
    "ys = new_points[:,1]\n",
    "\n",
    "# Make a scatter plot of xs and ys, using labels to define the colors\n",
    "plt.scatter(xs, ys, c=labels, alpha=0.5, marker = 'x')\n",
    "\n",
    "# Assign the cluster centers: centroids\n",
    "centroids = model.cluster_centers_\n",
    "\n",
    "# Assign the columns of centroids: centroids_x, centroids_y\n",
    "centroids_x = centroids[:,0]\n",
    "centroids_y = centroids[:,1]\n",
    "\n",
    "# Make a scatter plot of centroids_x and centroids_y\n",
    "plt.scatter(centroids_x, centroids_y, c = 'red', marker='D', s=50)\n",
    "plt.show()\n"
   ]
  },
  {
   "cell_type": "code",
   "execution_count": 31,
   "metadata": {},
   "outputs": [
    {
     "data": {
      "text/plain": [
       "array([[ 1.01378685,  0.98288627],\n",
       "       [ 0.18034887, -0.81701955],\n",
       "       [-1.57568905, -0.22531944]])"
      ]
     },
     "execution_count": 31,
     "metadata": {},
     "output_type": "execute_result"
    }
   ],
   "source": [
    "centroids"
   ]
  },
  {
   "cell_type": "markdown",
   "metadata": {},
   "source": [
    "# Evaluating a clustering\n",
    "- Can check correspondence with existing labels\n",
    "    - e.g. iris species\n",
    "- ... but what if there are no existing labels?\n",
    "    - e.g. species to check against?\n",
    "- Measure of quality of a clustering\n",
    "- Informs choice of how many clusters to look for\n",
    "\n",
    "## Iris: clustering vs species\n",
    "- k-means found 3 clusters amongst the iris samples\n",
    "- Do the clusters correspond to the species?\n",
    "\n",
    "## Cross tabulation with pandas\n",
    "- clusters vs species is a \"cross-tabulation\""
   ]
  },
  {
   "cell_type": "code",
   "execution_count": 32,
   "metadata": {},
   "outputs": [],
   "source": [
    "species = iris_seaborn.species.values"
   ]
  },
  {
   "cell_type": "code",
   "execution_count": 33,
   "metadata": {},
   "outputs": [
    {
     "data": {
      "text/html": [
       "<div>\n",
       "<style scoped>\n",
       "    .dataframe tbody tr th:only-of-type {\n",
       "        vertical-align: middle;\n",
       "    }\n",
       "\n",
       "    .dataframe tbody tr th {\n",
       "        vertical-align: top;\n",
       "    }\n",
       "\n",
       "    .dataframe thead th {\n",
       "        text-align: right;\n",
       "    }\n",
       "</style>\n",
       "<table border=\"1\" class=\"dataframe\">\n",
       "  <thead>\n",
       "    <tr style=\"text-align: right;\">\n",
       "      <th></th>\n",
       "      <th>labels</th>\n",
       "      <th>species</th>\n",
       "    </tr>\n",
       "  </thead>\n",
       "  <tbody>\n",
       "    <tr>\n",
       "      <th>0</th>\n",
       "      <td>1</td>\n",
       "      <td>setosa</td>\n",
       "    </tr>\n",
       "    <tr>\n",
       "      <th>1</th>\n",
       "      <td>1</td>\n",
       "      <td>setosa</td>\n",
       "    </tr>\n",
       "    <tr>\n",
       "      <th>2</th>\n",
       "      <td>1</td>\n",
       "      <td>setosa</td>\n",
       "    </tr>\n",
       "  </tbody>\n",
       "</table>\n",
       "</div>"
      ],
      "text/plain": [
       "   labels species\n",
       "0       1  setosa\n",
       "1       1  setosa\n",
       "2       1  setosa"
      ]
     },
     "execution_count": 33,
     "metadata": {},
     "output_type": "execute_result"
    }
   ],
   "source": [
    "samples = iris['data']\n",
    "model = KMeans(n_clusters=3)\n",
    "model.fit(samples)\n",
    "KMeans(algorithm='auto')\n",
    "labels = model.predict(samples)\n",
    "\n",
    "df = pd.DataFrame({'labels': labels, 'species': species})\n",
    "\n",
    "df.head(3)"
   ]
  },
  {
   "cell_type": "code",
   "execution_count": 34,
   "metadata": {},
   "outputs": [
    {
     "data": {
      "text/html": [
       "<div>\n",
       "<style scoped>\n",
       "    .dataframe tbody tr th:only-of-type {\n",
       "        vertical-align: middle;\n",
       "    }\n",
       "\n",
       "    .dataframe tbody tr th {\n",
       "        vertical-align: top;\n",
       "    }\n",
       "\n",
       "    .dataframe thead th {\n",
       "        text-align: right;\n",
       "    }\n",
       "</style>\n",
       "<table border=\"1\" class=\"dataframe\">\n",
       "  <thead>\n",
       "    <tr style=\"text-align: right;\">\n",
       "      <th>species</th>\n",
       "      <th>setosa</th>\n",
       "      <th>versicolor</th>\n",
       "      <th>virginica</th>\n",
       "    </tr>\n",
       "    <tr>\n",
       "      <th>labels</th>\n",
       "      <th></th>\n",
       "      <th></th>\n",
       "      <th></th>\n",
       "    </tr>\n",
       "  </thead>\n",
       "  <tbody>\n",
       "    <tr>\n",
       "      <th>0</th>\n",
       "      <td>0</td>\n",
       "      <td>48</td>\n",
       "      <td>14</td>\n",
       "    </tr>\n",
       "    <tr>\n",
       "      <th>1</th>\n",
       "      <td>50</td>\n",
       "      <td>0</td>\n",
       "      <td>0</td>\n",
       "    </tr>\n",
       "    <tr>\n",
       "      <th>2</th>\n",
       "      <td>0</td>\n",
       "      <td>2</td>\n",
       "      <td>36</td>\n",
       "    </tr>\n",
       "  </tbody>\n",
       "</table>\n",
       "</div>"
      ],
      "text/plain": [
       "species  setosa  versicolor  virginica\n",
       "labels                                \n",
       "0             0          48         14\n",
       "1            50           0          0\n",
       "2             0           2         36"
      ]
     },
     "execution_count": 34,
     "metadata": {},
     "output_type": "execute_result"
    }
   ],
   "source": [
    "pd.crosstab(df['labels'], df['species'])"
   ]
  },
  {
   "cell_type": "markdown",
   "metadata": {},
   "source": [
    "## Measuring clustering quality\n",
    "- using only samples and their cluster lables\n",
    "- a good clustering has tight clusters\n",
    "- ... and samples in each cluster bunched together\n",
    "\n",
    "## Inertia measures clustering quality\n",
    "- Measures how spread out the clusters are (*lower* is betteer)\n",
    "- Distance from each sample to centroid of its cluster\n",
    "    - *sounds like a euclidean analogue for variance*\n",
    "    \n",
    "**inertia is measured automatically by** `sklearn.cluster`'s `KMeans`\n",
    "\n",
    "- k-means attempts to minimize the intertia when choosing clusters"
   ]
  },
  {
   "cell_type": "code",
   "execution_count": 49,
   "metadata": {},
   "outputs": [
    {
     "data": {
      "text/plain": [
       "78.94084142614602"
      ]
     },
     "execution_count": 49,
     "metadata": {},
     "output_type": "execute_result"
    }
   ],
   "source": [
    "model.inertia_"
   ]
  },
  {
   "cell_type": "markdown",
   "metadata": {},
   "source": [
    "#### compare the inertia of different proposed clusters for iris"
   ]
  },
  {
   "cell_type": "code",
   "execution_count": 50,
   "metadata": {},
   "outputs": [
    {
     "name": "stdout",
     "output_type": "stream",
     "text": [
      "clusters: 1 inertia 680.8244\n",
      "clusters: 2 inertia 152.36870647733906\n",
      "clusters: 3 inertia 78.94084142614602\n",
      "clusters: 4 inertia 57.345409315718165\n",
      "clusters: 5 inertia 46.55405384615385\n",
      "clusters: 6 inertia 38.930963049671746\n",
      "clusters: 7 inertia 34.70344299340151\n",
      "clusters: 8 inertia 29.913150993743102\n",
      "clusters: 9 inertia 27.841073593073595\n",
      "clusters: 10 inertia 26.22772039232909\n"
     ]
    },
    {
     "data": {
      "image/png": "[encoded data removed]",
      "text/plain": [
       "<Figure size 432x288 with 1 Axes>"
      ]
     },
     "metadata": {},
     "output_type": "display_data"
    }
   ],
   "source": [
    "xs = []\n",
    "ys = []\n",
    "for i in range(1, 11):\n",
    "    model = KMeans(n_clusters=i)\n",
    "    model.fit(samples)\n",
    "    print(f'clusters: {i} inertia {model.inertia_}')\n",
    "    xs.append(i)\n",
    "    ys.append(model.inertia_)\n",
    "\n",
    "fit_df = pd.DataFrame({'clusters': xs, 'inertia': ys})\n",
    "sns.pointplot(x = 'clusters', y = 'inertia', data = fit_df)\n",
    "plt.show()"
   ]
  },
  {
   "cell_type": "markdown",
   "metadata": {},
   "source": [
    "***Notice that inertia continues to decrease. Contrary to our desire to confirm three dpecies alone***\n",
    "- I also noticed that the decrease is assymptotical. \n",
    "    - and perhaps the optimal number of clusters can be selected by a threshold ratio of delta_inertia/delta_clusters\n",
    "    \n",
    "### an \"elbow\" in the inertia plot\n",
    "- where inertia begins to decrease \"more slowly\""
   ]
  },
  {
   "cell_type": "markdown",
   "metadata": {},
   "source": [
    "## How many clusters of grain?\n",
    "In the video, you learned how to choose a good number of clusters for a dataset using the k-means inertia graph. You are given an array `samples` containing the measurements (such as area, perimeter, length, and several others) of samples of grain. What's a good number of clusters in this case?\n",
    "\n",
    "`KMeans` and PyPlot (`plt`) have already been imported for you.\n",
    "\n",
    "This dataset was sourced from the [UCI Machine Learning Repository.](https://archive.ics.uci.edu/ml/datasets/seeds)"
   ]
  },
  {
   "cell_type": "code",
   "execution_count": 52,
   "metadata": {
    "scrolled": true
   },
   "outputs": [
    {
     "data": {
      "text/html": [
       "<div>\n",
       "<style scoped>\n",
       "    .dataframe tbody tr th:only-of-type {\n",
       "        vertical-align: middle;\n",
       "    }\n",
       "\n",
       "    .dataframe tbody tr th {\n",
       "        vertical-align: top;\n",
       "    }\n",
       "\n",
       "    .dataframe thead th {\n",
       "        text-align: right;\n",
       "    }\n",
       "</style>\n",
       "<table border=\"1\" class=\"dataframe\">\n",
       "  <thead>\n",
       "    <tr style=\"text-align: right;\">\n",
       "      <th></th>\n",
       "      <th>area</th>\n",
       "      <th>perimeter</th>\n",
       "      <th>compactness</th>\n",
       "      <th>kernel_length</th>\n",
       "      <th>kernel_width</th>\n",
       "      <th>asymmetry_coefficient</th>\n",
       "      <th>lenght_of_kernel_groove</th>\n",
       "      <th>unknown</th>\n",
       "    </tr>\n",
       "  </thead>\n",
       "  <tbody>\n",
       "    <tr>\n",
       "      <th>0</th>\n",
       "      <td>15.26</td>\n",
       "      <td>14.84</td>\n",
       "      <td>0.8710</td>\n",
       "      <td>5.763</td>\n",
       "      <td>3.312</td>\n",
       "      <td>2.221</td>\n",
       "      <td>5.220</td>\n",
       "      <td>1</td>\n",
       "    </tr>\n",
       "    <tr>\n",
       "      <th>1</th>\n",
       "      <td>14.88</td>\n",
       "      <td>14.57</td>\n",
       "      <td>0.8811</td>\n",
       "      <td>5.554</td>\n",
       "      <td>3.333</td>\n",
       "      <td>1.018</td>\n",
       "      <td>4.956</td>\n",
       "      <td>1</td>\n",
       "    </tr>\n",
       "    <tr>\n",
       "      <th>2</th>\n",
       "      <td>14.29</td>\n",
       "      <td>14.09</td>\n",
       "      <td>0.9050</td>\n",
       "      <td>5.291</td>\n",
       "      <td>3.337</td>\n",
       "      <td>2.699</td>\n",
       "      <td>4.825</td>\n",
       "      <td>1</td>\n",
       "    </tr>\n",
       "  </tbody>\n",
       "</table>\n",
       "</div>"
      ],
      "text/plain": [
       "    area  perimeter  compactness  kernel_length  kernel_width  \\\n",
       "0  15.26      14.84       0.8710          5.763         3.312   \n",
       "1  14.88      14.57       0.8811          5.554         3.333   \n",
       "2  14.29      14.09       0.9050          5.291         3.337   \n",
       "\n",
       "   asymmetry_coefficient  lenght_of_kernel_groove  unknown  \n",
       "0                  2.221                    5.220        1  \n",
       "1                  1.018                    4.956        1  \n",
       "2                  2.699                    4.825        1  "
      ]
     },
     "execution_count": 52,
     "metadata": {},
     "output_type": "execute_result"
    }
   ],
   "source": [
    "seeds_df = pd.read_csv('data/seeds_dataset.txt', \n",
    "            header = None, \n",
    "            index_col = None, \n",
    "            delim_whitespace=True,\n",
    "            names = ['area', 'perimeter', 'compactness', 'kernel_length', 'kernel_width', 'asymmetry_coefficient', 'lenght_of_kernel_groove', 'unknown']\n",
    "           )\n",
    "seeds_df.head(3)\n"
   ]
  },
  {
   "cell_type": "code",
   "execution_count": 53,
   "metadata": {},
   "outputs": [
    {
     "name": "stdout",
     "output_type": "stream",
     "text": [
      "<class 'pandas.core.frame.DataFrame'>\n",
      "RangeIndex: 210 entries, 0 to 209\n",
      "Data columns (total 8 columns):\n",
      "area                       210 non-null float64\n",
      "perimeter                  210 non-null float64\n",
      "compactness                210 non-null float64\n",
      "kernel_length              210 non-null float64\n",
      "kernel_width               210 non-null float64\n",
      "asymmetry_coefficient      210 non-null float64\n",
      "lenght_of_kernel_groove    210 non-null float64\n",
      "unknown                    210 non-null int64\n",
      "dtypes: float64(7), int64(1)\n",
      "memory usage: 13.2 KB\n"
     ]
    }
   ],
   "source": [
    "seeds_df.info()"
   ]
  },
  {
   "cell_type": "code",
   "execution_count": 54,
   "metadata": {},
   "outputs": [
    {
     "data": {
      "text/plain": [
       "3    70\n",
       "2    70\n",
       "1    70\n",
       "Name: unknown, dtype: int64"
      ]
     },
     "execution_count": 54,
     "metadata": {},
     "output_type": "execute_result"
    }
   ],
   "source": [
    "seeds_df.unknown.value_counts()"
   ]
  },
  {
   "cell_type": "code",
   "execution_count": 55,
   "metadata": {},
   "outputs": [
    {
     "data": {
      "text/plain": [
       "array([[15.26  , 14.84  ,  0.871 ,  5.763 ,  3.312 ,  2.221 ,  5.22  ],\n",
       "       [14.88  , 14.57  ,  0.8811,  5.554 ,  3.333 ,  1.018 ,  4.956 ],\n",
       "       [14.29  , 14.09  ,  0.905 ,  5.291 ,  3.337 ,  2.699 ,  4.825 ],\n",
       "       [13.84  , 13.94  ,  0.8955,  5.324 ,  3.379 ,  2.259 ,  4.805 ],\n",
       "       [16.14  , 14.99  ,  0.9034,  5.658 ,  3.562 ,  1.355 ,  5.175 ]])"
      ]
     },
     "execution_count": 55,
     "metadata": {},
     "output_type": "execute_result"
    }
   ],
   "source": [
    "samples = seeds_df.drop(columns = 'unknown').values\n",
    "samples[:5]"
   ]
  },
  {
   "cell_type": "code",
   "execution_count": 56,
   "metadata": {},
   "outputs": [
    {
     "data": {
      "image/png": "[encoded data removed]",
      "text/plain": [
       "<Figure size 432x288 with 1 Axes>"
      ]
     },
     "metadata": {},
     "output_type": "display_data"
    }
   ],
   "source": [
    "ks = range(1, 6)\n",
    "inertias = []\n",
    "\n",
    "for k in ks:\n",
    "    # Create a KMeans instance with k clusters: model\n",
    "    model = KMeans(n_clusters=k)\n",
    "    \n",
    "    # Fit model to samples\n",
    "    model.fit(samples)\n",
    "    \n",
    "    # Append the inertia to the list of inertias\n",
    "    inertias.append(model.inertia_)\n",
    "    \n",
    "# Plot ks vs inertias\n",
    "plt.plot(ks, inertias, '-o')\n",
    "plt.xlabel('number of clusters, k')\n",
    "plt.ylabel('inertia')\n",
    "plt.xticks(ks)\n",
    "plt.show()\n"
   ]
  },
  {
   "cell_type": "markdown",
   "metadata": {},
   "source": [
    "**This data set also suggests 3 clusters** due to the \"slow decrease in inertia\" between k = 3 and k = 4"
   ]
  },
  {
   "cell_type": "markdown",
   "metadata": {},
   "source": [
    "### Evaluating the grain clustering\n",
    "In the previous exercise, you observed from the inertia plot that 3 is a good number of clusters for the grain data. In fact, the grain samples come from a mix of 3 different grain varieties: \"Kama\", \"Rosa\" and \"Canadian\". In this exercise, cluster the grain samples into three clusters, and compare the clusters to the grain varieties using a cross-tabulation.\n",
    "\n",
    "You have the array samples of grain `samples`, and a list `varieties` giving the grain variety for each sample. Pandas (pd) and KMeans have already been imported for you."
   ]
  },
  {
   "cell_type": "code",
   "execution_count": 57,
   "metadata": {},
   "outputs": [
    {
     "name": "stdout",
     "output_type": "stream",
     "text": [
      "['Kama' 'Kama' 'Kama' 'Kama' 'Kama' 'Kama' 'Kama' 'Kama' 'Kama' 'Kama'\n",
      " 'Kama' 'Kama' 'Kama' 'Kama' 'Kama' 'Kama' 'Kama' 'Kama' 'Kama' 'Kama'\n",
      " 'Kama' 'Kama' 'Kama' 'Kama' 'Kama' 'Kama' 'Kama' 'Kama' 'Kama' 'Kama'\n",
      " 'Kama' 'Kama' 'Kama' 'Kama' 'Kama' 'Kama' 'Kama' 'Kama' 'Kama' 'Kama'\n",
      " 'Kama' 'Kama' 'Kama' 'Kama' 'Kama' 'Kama' 'Kama' 'Kama' 'Kama' 'Kama'\n",
      " 'Kama' 'Kama' 'Kama' 'Kama' 'Kama' 'Kama' 'Kama' 'Kama' 'Kama' 'Kama'\n",
      " 'Kama' 'Kama' 'Kama' 'Kama' 'Kama' 'Kama' 'Kama' 'Kama' 'Kama' 'Kama'\n",
      " 'Rosa' 'Rosa' 'Rosa' 'Rosa' 'Rosa' 'Rosa' 'Rosa' 'Rosa' 'Rosa' 'Rosa'\n",
      " 'Rosa' 'Rosa' 'Rosa' 'Rosa' 'Rosa' 'Rosa' 'Rosa' 'Rosa' 'Rosa' 'Rosa'\n",
      " 'Rosa' 'Rosa' 'Rosa' 'Rosa' 'Rosa' 'Rosa' 'Rosa' 'Rosa' 'Rosa' 'Rosa'\n",
      " 'Rosa' 'Rosa' 'Rosa' 'Rosa' 'Rosa' 'Rosa' 'Rosa' 'Rosa' 'Rosa' 'Rosa'\n",
      " 'Rosa' 'Rosa' 'Rosa' 'Rosa' 'Rosa' 'Rosa' 'Rosa' 'Rosa' 'Rosa' 'Rosa'\n",
      " 'Rosa' 'Rosa' 'Rosa' 'Rosa' 'Rosa' 'Rosa' 'Rosa' 'Rosa' 'Rosa' 'Rosa'\n",
      " 'Rosa' 'Rosa' 'Rosa' 'Rosa' 'Rosa' 'Rosa' 'Rosa' 'Rosa' 'Rosa' 'Rosa'\n",
      " 'Canadian' 'Canadian' 'Canadian' 'Canadian' 'Canadian' 'Canadian'\n",
      " 'Canadian' 'Canadian' 'Canadian' 'Canadian' 'Canadian' 'Canadian'\n",
      " 'Canadian' 'Canadian' 'Canadian' 'Canadian' 'Canadian' 'Canadian'\n",
      " 'Canadian' 'Canadian' 'Canadian' 'Canadian' 'Canadian' 'Canadian'\n",
      " 'Canadian' 'Canadian' 'Canadian' 'Canadian' 'Canadian' 'Canadian'\n",
      " 'Canadian' 'Canadian' 'Canadian' 'Canadian' 'Canadian' 'Canadian'\n",
      " 'Canadian' 'Canadian' 'Canadian' 'Canadian' 'Canadian' 'Canadian'\n",
      " 'Canadian' 'Canadian' 'Canadian' 'Canadian' 'Canadian' 'Canadian'\n",
      " 'Canadian' 'Canadian' 'Canadian' 'Canadian' 'Canadian' 'Canadian'\n",
      " 'Canadian' 'Canadian' 'Canadian' 'Canadian' 'Canadian' 'Canadian'\n",
      " 'Canadian' 'Canadian' 'Canadian' 'Canadian' 'Canadian' 'Canadian'\n",
      " 'Canadian' 'Canadian' 'Canadian' 'Canadian']\n"
     ]
    }
   ],
   "source": [
    "varieties = seeds_df.unknown.map(\n",
    "    {1:'Kama', 2: 'Rosa', 3: 'Canadian'}\n",
    ")\n",
    "print(varieties.values)"
   ]
  },
  {
   "cell_type": "code",
   "execution_count": 58,
   "metadata": {},
   "outputs": [
    {
     "data": {
      "text/plain": [
       "array([1, 1, 1, 1, 1, 1, 1, 1, 1, 1, 1, 1, 1, 1, 1, 1, 2, 1, 1, 2, 1, 1,\n",
       "       1, 1, 1, 1, 2, 1, 1, 1, 1, 1, 1, 1, 1, 1, 1, 0, 1, 2, 1, 1, 1, 1,\n",
       "       1, 1, 1, 1, 1, 1, 1, 1, 1, 1, 1, 1, 1, 1, 1, 1, 2, 2, 2, 2, 1, 1,\n",
       "       1, 1, 1, 2, 0, 0, 0, 0, 0, 0, 0, 0, 0, 0, 0, 0, 0, 0, 0, 0, 0, 0,\n",
       "       0, 0, 0, 0, 0, 0, 0, 0, 0, 0, 0, 0, 1, 0, 0, 0, 0, 0, 0, 0, 0, 0,\n",
       "       0, 0, 0, 0, 0, 0, 0, 0, 0, 0, 0, 0, 1, 0, 1, 0, 0, 0, 0, 0, 0, 0,\n",
       "       1, 1, 1, 1, 0, 1, 1, 1, 2, 2, 2, 2, 2, 2, 2, 2, 2, 2, 2, 2, 2, 2,\n",
       "       2, 2, 2, 2, 2, 2, 2, 2, 2, 2, 2, 2, 2, 2, 2, 2, 2, 2, 2, 2, 2, 2,\n",
       "       2, 2, 2, 1, 2, 2, 2, 2, 2, 2, 2, 2, 2, 2, 2, 2, 2, 2, 2, 2, 2, 2,\n",
       "       2, 2, 2, 1, 2, 2, 2, 2, 2, 2, 2, 2], dtype=int32)"
      ]
     },
     "execution_count": 58,
     "metadata": {},
     "output_type": "execute_result"
    }
   ],
   "source": [
    "model = KMeans(n_clusters=3)\n",
    "labels = model.fit_predict(samples)\n",
    "labels"
   ]
  },
  {
   "cell_type": "code",
   "execution_count": 59,
   "metadata": {},
   "outputs": [
    {
     "data": {
      "text/html": [
       "<div>\n",
       "<style scoped>\n",
       "    .dataframe tbody tr th:only-of-type {\n",
       "        vertical-align: middle;\n",
       "    }\n",
       "\n",
       "    .dataframe tbody tr th {\n",
       "        vertical-align: top;\n",
       "    }\n",
       "\n",
       "    .dataframe thead th {\n",
       "        text-align: right;\n",
       "    }\n",
       "</style>\n",
       "<table border=\"1\" class=\"dataframe\">\n",
       "  <thead>\n",
       "    <tr style=\"text-align: right;\">\n",
       "      <th></th>\n",
       "      <th>labels</th>\n",
       "      <th>varieties</th>\n",
       "    </tr>\n",
       "  </thead>\n",
       "  <tbody>\n",
       "    <tr>\n",
       "      <th>0</th>\n",
       "      <td>1</td>\n",
       "      <td>Kama</td>\n",
       "    </tr>\n",
       "    <tr>\n",
       "      <th>1</th>\n",
       "      <td>1</td>\n",
       "      <td>Kama</td>\n",
       "    </tr>\n",
       "    <tr>\n",
       "      <th>2</th>\n",
       "      <td>1</td>\n",
       "      <td>Kama</td>\n",
       "    </tr>\n",
       "    <tr>\n",
       "      <th>3</th>\n",
       "      <td>1</td>\n",
       "      <td>Kama</td>\n",
       "    </tr>\n",
       "    <tr>\n",
       "      <th>4</th>\n",
       "      <td>1</td>\n",
       "      <td>Kama</td>\n",
       "    </tr>\n",
       "  </tbody>\n",
       "</table>\n",
       "</div>"
      ],
      "text/plain": [
       "   labels varieties\n",
       "0       1      Kama\n",
       "1       1      Kama\n",
       "2       1      Kama\n",
       "3       1      Kama\n",
       "4       1      Kama"
      ]
     },
     "execution_count": 59,
     "metadata": {},
     "output_type": "execute_result"
    }
   ],
   "source": [
    "df = pd.DataFrame({'labels':labels, 'varieties':varieties})\n",
    "df.head()"
   ]
  },
  {
   "cell_type": "code",
   "execution_count": 60,
   "metadata": {},
   "outputs": [
    {
     "data": {
      "text/html": [
       "<div>\n",
       "<style scoped>\n",
       "    .dataframe tbody tr th:only-of-type {\n",
       "        vertical-align: middle;\n",
       "    }\n",
       "\n",
       "    .dataframe tbody tr th {\n",
       "        vertical-align: top;\n",
       "    }\n",
       "\n",
       "    .dataframe thead th {\n",
       "        text-align: right;\n",
       "    }\n",
       "</style>\n",
       "<table border=\"1\" class=\"dataframe\">\n",
       "  <thead>\n",
       "    <tr style=\"text-align: right;\">\n",
       "      <th>varieties</th>\n",
       "      <th>Canadian</th>\n",
       "      <th>Kama</th>\n",
       "      <th>Rosa</th>\n",
       "    </tr>\n",
       "    <tr>\n",
       "      <th>labels</th>\n",
       "      <th></th>\n",
       "      <th></th>\n",
       "      <th></th>\n",
       "    </tr>\n",
       "  </thead>\n",
       "  <tbody>\n",
       "    <tr>\n",
       "      <th>0</th>\n",
       "      <td>0</td>\n",
       "      <td>1</td>\n",
       "      <td>60</td>\n",
       "    </tr>\n",
       "    <tr>\n",
       "      <th>1</th>\n",
       "      <td>2</td>\n",
       "      <td>60</td>\n",
       "      <td>10</td>\n",
       "    </tr>\n",
       "    <tr>\n",
       "      <th>2</th>\n",
       "      <td>68</td>\n",
       "      <td>9</td>\n",
       "      <td>0</td>\n",
       "    </tr>\n",
       "  </tbody>\n",
       "</table>\n",
       "</div>"
      ],
      "text/plain": [
       "varieties  Canadian  Kama  Rosa\n",
       "labels                         \n",
       "0                 0     1    60\n",
       "1                 2    60    10\n",
       "2                68     9     0"
      ]
     },
     "execution_count": 60,
     "metadata": {},
     "output_type": "execute_result"
    }
   ],
   "source": [
    "# Create crosstab: ct\n",
    "ct = pd.crosstab(df['labels'], df['varieties'])\n",
    "ct"
   ]
  },
  {
   "cell_type": "markdown",
   "metadata": {},
   "source": [
    "## Transforming features for better clustering\n",
    "# Piedmont wines dataset\n",
    "- 178 samples from 3 distinct varieties of red wine: *Barolo*, *Grignolino*, and *Barbera*\n",
    "- Features measure chemical composition e.g. alcohol content\n",
    "- ... also visual properties like \"color intensity\"\n",
    "\n",
    "## Clustering wines"
   ]
  },
  {
   "cell_type": "code",
   "execution_count": 62,
   "metadata": {},
   "outputs": [
    {
     "data": {
      "text/plain": [
       "array([1.423e+01, 1.710e+00, 2.430e+00, 1.560e+01, 1.270e+02, 2.800e+00,\n",
       "       3.060e+00, 2.800e-01, 2.290e+00, 5.640e+00, 1.040e+00, 3.920e+00,\n",
       "       1.065e+03])"
      ]
     },
     "execution_count": 62,
     "metadata": {},
     "output_type": "execute_result"
    }
   ],
   "source": [
    "from sklearn.datasets import load_wine\n",
    "data = load_wine()\n",
    "samples = data['data']\n",
    "samples[0]"
   ]
  },
  {
   "cell_type": "code",
   "execution_count": 63,
   "metadata": {},
   "outputs": [
    {
     "data": {
      "text/plain": [
       "array([0, 0, 0, 0, 0, 0, 0, 0, 0, 0, 0, 0, 0, 0, 0, 0, 0, 0, 0, 0, 0, 0,\n",
       "       0, 0, 0, 0, 0, 0, 0, 0, 0, 0, 0, 0, 0, 0, 0, 0, 0, 0, 0, 0, 0, 0,\n",
       "       0, 0, 0, 0, 0, 0, 0, 0, 0, 0, 0, 0, 0, 0, 0, 1, 1, 1, 1, 1, 1, 1,\n",
       "       1, 1, 1, 1, 1, 1, 1, 1, 1, 1, 1, 1, 1, 1, 1, 1, 1, 1, 1, 1, 1, 1,\n",
       "       1, 1, 1, 1, 1, 1, 1, 1, 1, 1, 1, 1, 1, 1, 1, 1, 1, 1, 1, 1, 1, 1,\n",
       "       1, 1, 1, 1, 1, 1, 1, 1, 1, 1, 1, 1, 1, 1, 1, 1, 1, 1, 1, 1, 2, 2,\n",
       "       2, 2, 2, 2, 2, 2, 2, 2, 2, 2, 2, 2, 2, 2, 2, 2, 2, 2, 2, 2, 2, 2,\n",
       "       2, 2, 2, 2, 2, 2, 2, 2, 2, 2, 2, 2, 2, 2, 2, 2, 2, 2, 2, 2, 2, 2,\n",
       "       2, 2])"
      ]
     },
     "execution_count": 63,
     "metadata": {},
     "output_type": "execute_result"
    }
   ],
   "source": [
    "data['target']"
   ]
  },
  {
   "cell_type": "code",
   "execution_count": 64,
   "metadata": {},
   "outputs": [
    {
     "data": {
      "text/plain": [
       "dict_keys(['data', 'target', 'target_names', 'DESCR', 'feature_names'])"
      ]
     },
     "execution_count": 64,
     "metadata": {},
     "output_type": "execute_result"
    }
   ],
   "source": [
    "data.keys()"
   ]
  },
  {
   "cell_type": "code",
   "execution_count": 65,
   "metadata": {},
   "outputs": [
    {
     "data": {
      "text/plain": [
       "array(['class_0', 'class_1', 'class_2'], dtype='<U7')"
      ]
     },
     "execution_count": 65,
     "metadata": {},
     "output_type": "execute_result"
    }
   ],
   "source": [
    "data['target_names']"
   ]
  },
  {
   "cell_type": "code",
   "execution_count": 67,
   "metadata": {},
   "outputs": [
    {
     "data": {
      "text/html": [
       "<div>\n",
       "<style scoped>\n",
       "    .dataframe tbody tr th:only-of-type {\n",
       "        vertical-align: middle;\n",
       "    }\n",
       "\n",
       "    .dataframe tbody tr th {\n",
       "        vertical-align: top;\n",
       "    }\n",
       "\n",
       "    .dataframe thead th {\n",
       "        text-align: right;\n",
       "    }\n",
       "</style>\n",
       "<table border=\"1\" class=\"dataframe\">\n",
       "  <thead>\n",
       "    <tr style=\"text-align: right;\">\n",
       "      <th>varieties</th>\n",
       "      <th>0</th>\n",
       "      <th>1</th>\n",
       "      <th>2</th>\n",
       "    </tr>\n",
       "    <tr>\n",
       "      <th>labels</th>\n",
       "      <th></th>\n",
       "      <th></th>\n",
       "      <th></th>\n",
       "    </tr>\n",
       "  </thead>\n",
       "  <tbody>\n",
       "    <tr>\n",
       "      <th>0</th>\n",
       "      <td>13</td>\n",
       "      <td>20</td>\n",
       "      <td>29</td>\n",
       "    </tr>\n",
       "    <tr>\n",
       "      <th>1</th>\n",
       "      <td>46</td>\n",
       "      <td>1</td>\n",
       "      <td>0</td>\n",
       "    </tr>\n",
       "    <tr>\n",
       "      <th>2</th>\n",
       "      <td>0</td>\n",
       "      <td>50</td>\n",
       "      <td>19</td>\n",
       "    </tr>\n",
       "  </tbody>\n",
       "</table>\n",
       "</div>"
      ],
      "text/plain": [
       "varieties   0   1   2\n",
       "labels               \n",
       "0          13  20  29\n",
       "1          46   1   0\n",
       "2           0  50  19"
      ]
     },
     "execution_count": 67,
     "metadata": {},
     "output_type": "execute_result"
    }
   ],
   "source": [
    "model = KMeans(n_clusters=3)\n",
    "\n",
    "labels = model.fit_predict(samples)\n",
    "\n",
    "df = pd.DataFrame({'labels': labels, 'varieties': data['target']})\n",
    "\n",
    "pd.crosstab(df['labels'], df['varieties'])"
   ]
  },
  {
   "cell_type": "markdown",
   "metadata": {},
   "source": [
    "**This time the cross-tabulation is not so clean. Each variety got labeled unevenly**\n",
    "\n",
    "## Feature variances\n",
    "- the wine features have very different viariances!\n",
    "    - \"spread of the values\""
   ]
  },
  {
   "cell_type": "code",
   "execution_count": 68,
   "metadata": {},
   "outputs": [
    {
     "data": {
      "text/html": [
       "<div>\n",
       "<style scoped>\n",
       "    .dataframe tbody tr th:only-of-type {\n",
       "        vertical-align: middle;\n",
       "    }\n",
       "\n",
       "    .dataframe tbody tr th {\n",
       "        vertical-align: top;\n",
       "    }\n",
       "\n",
       "    .dataframe thead th {\n",
       "        text-align: right;\n",
       "    }\n",
       "</style>\n",
       "<table border=\"1\" class=\"dataframe\">\n",
       "  <thead>\n",
       "    <tr style=\"text-align: right;\">\n",
       "      <th></th>\n",
       "      <th>alcohol</th>\n",
       "      <th>malic_acid</th>\n",
       "      <th>ash</th>\n",
       "      <th>alcalinity_of_ash</th>\n",
       "      <th>magnesium</th>\n",
       "      <th>total_phenols</th>\n",
       "      <th>flavanoids</th>\n",
       "      <th>nonflavanoid_phenols</th>\n",
       "      <th>proanthocyanins</th>\n",
       "      <th>color_intensity</th>\n",
       "      <th>hue</th>\n",
       "      <th>od280/od315_of_diluted_wines</th>\n",
       "      <th>proline</th>\n",
       "    </tr>\n",
       "  </thead>\n",
       "  <tbody>\n",
       "    <tr>\n",
       "      <th>0</th>\n",
       "      <td>14.23</td>\n",
       "      <td>1.71</td>\n",
       "      <td>2.43</td>\n",
       "      <td>15.6</td>\n",
       "      <td>127.0</td>\n",
       "      <td>2.80</td>\n",
       "      <td>3.06</td>\n",
       "      <td>0.28</td>\n",
       "      <td>2.29</td>\n",
       "      <td>5.64</td>\n",
       "      <td>1.04</td>\n",
       "      <td>3.92</td>\n",
       "      <td>1065.0</td>\n",
       "    </tr>\n",
       "    <tr>\n",
       "      <th>1</th>\n",
       "      <td>13.20</td>\n",
       "      <td>1.78</td>\n",
       "      <td>2.14</td>\n",
       "      <td>11.2</td>\n",
       "      <td>100.0</td>\n",
       "      <td>2.65</td>\n",
       "      <td>2.76</td>\n",
       "      <td>0.26</td>\n",
       "      <td>1.28</td>\n",
       "      <td>4.38</td>\n",
       "      <td>1.05</td>\n",
       "      <td>3.40</td>\n",
       "      <td>1050.0</td>\n",
       "    </tr>\n",
       "    <tr>\n",
       "      <th>2</th>\n",
       "      <td>13.16</td>\n",
       "      <td>2.36</td>\n",
       "      <td>2.67</td>\n",
       "      <td>18.6</td>\n",
       "      <td>101.0</td>\n",
       "      <td>2.80</td>\n",
       "      <td>3.24</td>\n",
       "      <td>0.30</td>\n",
       "      <td>2.81</td>\n",
       "      <td>5.68</td>\n",
       "      <td>1.03</td>\n",
       "      <td>3.17</td>\n",
       "      <td>1185.0</td>\n",
       "    </tr>\n",
       "    <tr>\n",
       "      <th>3</th>\n",
       "      <td>14.37</td>\n",
       "      <td>1.95</td>\n",
       "      <td>2.50</td>\n",
       "      <td>16.8</td>\n",
       "      <td>113.0</td>\n",
       "      <td>3.85</td>\n",
       "      <td>3.49</td>\n",
       "      <td>0.24</td>\n",
       "      <td>2.18</td>\n",
       "      <td>7.80</td>\n",
       "      <td>0.86</td>\n",
       "      <td>3.45</td>\n",
       "      <td>1480.0</td>\n",
       "    </tr>\n",
       "    <tr>\n",
       "      <th>4</th>\n",
       "      <td>13.24</td>\n",
       "      <td>2.59</td>\n",
       "      <td>2.87</td>\n",
       "      <td>21.0</td>\n",
       "      <td>118.0</td>\n",
       "      <td>2.80</td>\n",
       "      <td>2.69</td>\n",
       "      <td>0.39</td>\n",
       "      <td>1.82</td>\n",
       "      <td>4.32</td>\n",
       "      <td>1.04</td>\n",
       "      <td>2.93</td>\n",
       "      <td>735.0</td>\n",
       "    </tr>\n",
       "  </tbody>\n",
       "</table>\n",
       "</div>"
      ],
      "text/plain": [
       "   alcohol  malic_acid   ash  alcalinity_of_ash  magnesium  total_phenols  \\\n",
       "0    14.23        1.71  2.43               15.6      127.0           2.80   \n",
       "1    13.20        1.78  2.14               11.2      100.0           2.65   \n",
       "2    13.16        2.36  2.67               18.6      101.0           2.80   \n",
       "3    14.37        1.95  2.50               16.8      113.0           3.85   \n",
       "4    13.24        2.59  2.87               21.0      118.0           2.80   \n",
       "\n",
       "   flavanoids  nonflavanoid_phenols  proanthocyanins  color_intensity   hue  \\\n",
       "0        3.06                  0.28             2.29             5.64  1.04   \n",
       "1        2.76                  0.26             1.28             4.38  1.05   \n",
       "2        3.24                  0.30             2.81             5.68  1.03   \n",
       "3        3.49                  0.24             2.18             7.80  0.86   \n",
       "4        2.69                  0.39             1.82             4.32  1.04   \n",
       "\n",
       "   od280/od315_of_diluted_wines  proline  \n",
       "0                          3.92   1065.0  \n",
       "1                          3.40   1050.0  \n",
       "2                          3.17   1185.0  \n",
       "3                          3.45   1480.0  \n",
       "4                          2.93    735.0  "
      ]
     },
     "execution_count": 68,
     "metadata": {},
     "output_type": "execute_result"
    }
   ],
   "source": [
    "wines_df = pd.DataFrame(data.data, columns = data.feature_names)\n",
    "wines_df.head()"
   ]
  },
  {
   "cell_type": "code",
   "execution_count": 69,
   "metadata": {},
   "outputs": [
    {
     "data": {
      "text/plain": [
       "alcohol                             0.655360\n",
       "malic_acid                          1.241004\n",
       "ash                                 0.074842\n",
       "alcalinity_of_ash                  11.090031\n",
       "magnesium                         202.843328\n",
       "total_phenols                       0.389489\n",
       "flavanoids                          0.992114\n",
       "nonflavanoid_phenols                0.015402\n",
       "proanthocyanins                     0.325754\n",
       "color_intensity                     5.344256\n",
       "hue                                 0.051951\n",
       "od280/od315_of_diluted_wines        0.501254\n",
       "proline                         98609.600966\n",
       "dtype: float64"
      ]
     },
     "execution_count": 69,
     "metadata": {},
     "output_type": "execute_result"
    }
   ],
   "source": [
    "np.var(wines_df)"
   ]
  },
  {
   "cell_type": "code",
   "execution_count": 70,
   "metadata": {},
   "outputs": [
    {
     "data": {
      "text/plain": [
       "<matplotlib.axes._subplots.AxesSubplot at 0x1a16cc7518>"
      ]
     },
     "execution_count": 70,
     "metadata": {},
     "output_type": "execute_result"
    },
    {
     "data": {
      "image/png": "[encoded data removed]",
      "text/plain": [
       "<Figure size 432x288 with 1 Axes>"
      ]
     },
     "metadata": {},
     "output_type": "display_data"
    }
   ],
   "source": [
    "np.var(wines_df).plot(kind = 'bar', logy = True)"
   ]
  },
  {
   "cell_type": "markdown",
   "metadata": {},
   "source": [
    "**compare the scatter of od280 vs malic_acid**"
   ]
  },
  {
   "cell_type": "code",
   "execution_count": 71,
   "metadata": {
    "scrolled": true
   },
   "outputs": [
    {
     "data": {
      "image/png": "[encoded data removed]",
      "text/plain": [
       "<Figure size 432x288 with 1 Axes>"
      ]
     },
     "metadata": {},
     "output_type": "display_data"
    }
   ],
   "source": [
    "plt.scatter(\n",
    "    x = wines_df['od280/od315_of_diluted_wines'], \n",
    "    y = wines_df['malic_acid'],\n",
    "    c = data.target, \n",
    ")\n",
    "plt.xlabel('od280')\n",
    "plt.ylabel('malic_acid')\n",
    "plt.axis('square')\n",
    "plt.title('od280 vs malic_acid (equal scaled axes)')\n",
    "plt.show()"
   ]
  },
  {
   "cell_type": "markdown",
   "metadata": {},
   "source": [
    "**compared to the scatter of od280 vs proline**"
   ]
  },
  {
   "cell_type": "code",
   "execution_count": 72,
   "metadata": {},
   "outputs": [
    {
     "data": {
      "image/png": "[encoded data removed]",
      "text/plain": [
       "<Figure size 432x288 with 1 Axes>"
      ]
     },
     "metadata": {},
     "output_type": "display_data"
    }
   ],
   "source": [
    "plt.scatter(\n",
    "    x = wines_df['od280/od315_of_diluted_wines'], \n",
    "    y = wines_df['proline'],\n",
    "    c = data.target, \n",
    ")\n",
    "plt.xlabel('od280')\n",
    "plt.ylabel('proline')\n",
    "plt.axis('square')\n",
    "plt.title('od280 vs proline (equal scaled axes)')\n",
    "plt.show()"
   ]
  },
  {
   "cell_type": "markdown",
   "metadata": {},
   "source": [
    "## StandardScaler\n",
    "- in kmeans: feature variance is proportional to feature influence\n",
    "    - *which makes sense when you think about it the centroids along the highest variance axis end up proportionately very far from other clusters*\n",
    "    \n",
    "- data needs to be transformed so the features have equal variance to eliminate the bias introduced by this scaling issue\n",
    "\n",
    "- **StandardScaler** transforms each feature to have man 0 and variance 1"
   ]
  },
  {
   "cell_type": "code",
   "execution_count": 73,
   "metadata": {},
   "outputs": [],
   "source": [
    "from sklearn.preprocessing import StandardScaler"
   ]
  },
  {
   "cell_type": "code",
   "execution_count": 74,
   "metadata": {},
   "outputs": [
    {
     "data": {
      "text/plain": [
       "StandardScaler(copy=True, with_mean=True, with_std=True)"
      ]
     },
     "execution_count": 74,
     "metadata": {},
     "output_type": "execute_result"
    }
   ],
   "source": [
    "scaler = StandardScaler()\n",
    "\n",
    "# fit scaler to the saples\n",
    "samples = data.data\n",
    "scaler.fit(samples)\n"
   ]
  },
  {
   "cell_type": "code",
   "execution_count": 75,
   "metadata": {},
   "outputs": [
    {
     "data": {
      "text/plain": [
       "array([[ 1.51861254, -0.5622498 ,  0.23205254, ...,  0.36217728,\n",
       "         1.84791957,  1.01300893],\n",
       "       [ 0.24628963, -0.49941338, -0.82799632, ...,  0.40605066,\n",
       "         1.1134493 ,  0.96524152],\n",
       "       [ 0.19687903,  0.02123125,  1.10933436, ...,  0.31830389,\n",
       "         0.78858745,  1.39514818],\n",
       "       ...,\n",
       "       [ 0.33275817,  1.74474449, -0.38935541, ..., -1.61212515,\n",
       "        -1.48544548,  0.28057537],\n",
       "       [ 0.20923168,  0.22769377,  0.01273209, ..., -1.56825176,\n",
       "        -1.40069891,  0.29649784],\n",
       "       [ 1.39508604,  1.58316512,  1.36520822, ..., -1.52437837,\n",
       "        -1.42894777, -0.59516041]])"
      ]
     },
     "execution_count": 75,
     "metadata": {},
     "output_type": "execute_result"
    }
   ],
   "source": [
    "samples_scaled = scaler.transform(samples)\n",
    "samples_scaled"
   ]
  },
  {
   "cell_type": "markdown",
   "metadata": {},
   "source": [
    "### Similar methods\n",
    "- **StandardScaler** and **KMeans** have similar \"methods\"\n",
    "- Use **fit()** / **transform()** with **StandardScaler**\n",
    "- Use **fit()** / **predict()** with **KMeans**\n",
    "\n",
    "## StandardScaler, then KMeans\n",
    "- conveniently:\n",
    "- Use sklearn pipeline to combine multiple steps\n",
    "- to do this in the proper order and automatically\n",
    "\n"
   ]
  },
  {
   "cell_type": "code",
   "execution_count": 76,
   "metadata": {},
   "outputs": [],
   "source": [
    "from sklearn.preprocessing import StandardScaler\n",
    "\n",
    "from sklearn.cluster import KMeans\n",
    "\n",
    "scaler = StandardScaler()\n",
    "\n",
    "kmeans = KMeans(n_clusters = 3)\n",
    "\n",
    "from sklearn.pipeline import make_pipeline\n",
    "\n",
    "pipeline = make_pipeline(scaler, kmeans)"
   ]
  },
  {
   "cell_type": "code",
   "execution_count": 77,
   "metadata": {},
   "outputs": [
    {
     "data": {
      "text/plain": [
       "Pipeline(memory=None,\n",
       "     steps=[('standardscaler', StandardScaler(copy=True, with_mean=True, with_std=True)), ('kmeans', KMeans(algorithm='auto', copy_x=True, init='k-means++', max_iter=300,\n",
       "    n_clusters=3, n_init=10, n_jobs=1, precompute_distances='auto',\n",
       "    random_state=None, tol=0.0001, verbose=0))])"
      ]
     },
     "execution_count": 77,
     "metadata": {},
     "output_type": "execute_result"
    }
   ],
   "source": [
    "pipeline.fit(samples)"
   ]
  },
  {
   "cell_type": "code",
   "execution_count": 78,
   "metadata": {},
   "outputs": [
    {
     "data": {
      "text/plain": [
       "array([2, 2, 2, 2, 2, 2, 2, 2, 2, 2, 2, 2, 2, 2, 2, 2, 2, 2, 2, 2, 2, 2,\n",
       "       2, 2, 2, 2, 2, 2, 2, 2, 2, 2, 2, 2, 2, 2, 2, 2, 2, 2, 2, 2, 2, 2,\n",
       "       2, 2, 2, 2, 2, 2, 2, 2, 2, 2, 2, 2, 2, 2, 2, 1, 1, 0, 1, 1, 1, 1,\n",
       "       1, 1, 1, 1, 1, 1, 1, 2, 1, 1, 1, 1, 1, 1, 1, 1, 1, 0, 1, 1, 1, 1,\n",
       "       1, 1, 1, 1, 1, 1, 1, 2, 1, 1, 1, 1, 1, 1, 1, 1, 1, 1, 1, 1, 1, 1,\n",
       "       1, 1, 1, 1, 1, 1, 1, 1, 0, 1, 1, 2, 1, 1, 1, 1, 1, 1, 1, 1, 0, 0,\n",
       "       0, 0, 0, 0, 0, 0, 0, 0, 0, 0, 0, 0, 0, 0, 0, 0, 0, 0, 0, 0, 0, 0,\n",
       "       0, 0, 0, 0, 0, 0, 0, 0, 0, 0, 0, 0, 0, 0, 0, 0, 0, 0, 0, 0, 0, 0,\n",
       "       0, 0], dtype=int32)"
      ]
     },
     "execution_count": 78,
     "metadata": {},
     "output_type": "execute_result"
    }
   ],
   "source": [
    "labels = pipeline.predict(samples)\n",
    "labels"
   ]
  },
  {
   "cell_type": "code",
   "execution_count": 82,
   "metadata": {},
   "outputs": [
    {
     "data": {
      "text/html": [
       "<div>\n",
       "<style scoped>\n",
       "    .dataframe tbody tr th:only-of-type {\n",
       "        vertical-align: middle;\n",
       "    }\n",
       "\n",
       "    .dataframe tbody tr th {\n",
       "        vertical-align: top;\n",
       "    }\n",
       "\n",
       "    .dataframe thead th {\n",
       "        text-align: right;\n",
       "    }\n",
       "</style>\n",
       "<table border=\"1\" class=\"dataframe\">\n",
       "  <thead>\n",
       "    <tr style=\"text-align: right;\">\n",
       "      <th></th>\n",
       "      <th>labels</th>\n",
       "      <th>varieties</th>\n",
       "    </tr>\n",
       "  </thead>\n",
       "  <tbody>\n",
       "    <tr>\n",
       "      <th>0</th>\n",
       "      <td>2</td>\n",
       "      <td>0</td>\n",
       "    </tr>\n",
       "    <tr>\n",
       "      <th>1</th>\n",
       "      <td>2</td>\n",
       "      <td>0</td>\n",
       "    </tr>\n",
       "    <tr>\n",
       "      <th>2</th>\n",
       "      <td>2</td>\n",
       "      <td>0</td>\n",
       "    </tr>\n",
       "    <tr>\n",
       "      <th>3</th>\n",
       "      <td>2</td>\n",
       "      <td>0</td>\n",
       "    </tr>\n",
       "    <tr>\n",
       "      <th>4</th>\n",
       "      <td>2</td>\n",
       "      <td>0</td>\n",
       "    </tr>\n",
       "  </tbody>\n",
       "</table>\n",
       "</div>"
      ],
      "text/plain": [
       "   labels  varieties\n",
       "0       2          0\n",
       "1       2          0\n",
       "2       2          0\n",
       "3       2          0\n",
       "4       2          0"
      ]
     },
     "execution_count": 82,
     "metadata": {},
     "output_type": "execute_result"
    }
   ],
   "source": [
    "df = pd.DataFrame({'labels': labels, 'varieties': data.target})\n",
    "df.head()"
   ]
  },
  {
   "cell_type": "code",
   "execution_count": 83,
   "metadata": {},
   "outputs": [
    {
     "data": {
      "text/html": [
       "<div>\n",
       "<style scoped>\n",
       "    .dataframe tbody tr th:only-of-type {\n",
       "        vertical-align: middle;\n",
       "    }\n",
       "\n",
       "    .dataframe tbody tr th {\n",
       "        vertical-align: top;\n",
       "    }\n",
       "\n",
       "    .dataframe thead th {\n",
       "        text-align: right;\n",
       "    }\n",
       "</style>\n",
       "<table border=\"1\" class=\"dataframe\">\n",
       "  <thead>\n",
       "    <tr style=\"text-align: right;\">\n",
       "      <th>varieties</th>\n",
       "      <th>0</th>\n",
       "      <th>1</th>\n",
       "      <th>2</th>\n",
       "    </tr>\n",
       "    <tr>\n",
       "      <th>labels</th>\n",
       "      <th></th>\n",
       "      <th></th>\n",
       "      <th></th>\n",
       "    </tr>\n",
       "  </thead>\n",
       "  <tbody>\n",
       "    <tr>\n",
       "      <th>0</th>\n",
       "      <td>0</td>\n",
       "      <td>3</td>\n",
       "      <td>48</td>\n",
       "    </tr>\n",
       "    <tr>\n",
       "      <th>1</th>\n",
       "      <td>0</td>\n",
       "      <td>65</td>\n",
       "      <td>0</td>\n",
       "    </tr>\n",
       "    <tr>\n",
       "      <th>2</th>\n",
       "      <td>59</td>\n",
       "      <td>3</td>\n",
       "      <td>0</td>\n",
       "    </tr>\n",
       "  </tbody>\n",
       "</table>\n",
       "</div>"
      ],
      "text/plain": [
       "varieties   0   1   2\n",
       "labels               \n",
       "0           0   3  48\n",
       "1           0  65   0\n",
       "2          59   3   0"
      ]
     },
     "execution_count": 83,
     "metadata": {},
     "output_type": "execute_result"
    }
   ],
   "source": [
    "ct = pd.crosstab(df['labels'], df['varieties'])\n",
    "ct"
   ]
  },
  {
   "cell_type": "markdown",
   "metadata": {},
   "source": [
    "## Now we can see our labels correspond much more closely to our varieties\n",
    "\n",
    "# sklearn preprocessing steps\n",
    "- **StandardScaler**\n",
    "- **MaxAbsScaler** and **Normalizer** are other examples\n",
    "\n",
    "## Practice:"
   ]
  },
  {
   "cell_type": "code",
   "execution_count": 84,
   "metadata": {},
   "outputs": [],
   "source": [
    "samples = [[ 242. ,   23.2,   25.4,   30. ,   38.4,   13.4],\n",
    "       [ 290. ,   24. ,   26.3,   31.2,   40. ,   13.8],\n",
    "       [ 340. ,   23.9,   26.5,   31.1,   39.8,   15.1],\n",
    "       [ 363. ,   26.3,   29. ,   33.5,   38. ,   13.3],\n",
    "       [ 430. ,   26.5,   29. ,   34. ,   36.6,   15.1],\n",
    "       [ 450. ,   26.8,   29.7,   34.7,   39.2,   14.2],\n",
    "       [ 500. ,   26.8,   29.7,   34.5,   41.1,   15.3],\n",
    "       [ 390. ,   27.6,   30. ,   35. ,   36.2,   13.4],\n",
    "       [ 450. ,   27.6,   30. ,   35.1,   39.9,   13.8],\n",
    "       [ 500. ,   28.5,   30.7,   36.2,   39.3,   13.7],\n",
    "       [ 475. ,   28.4,   31. ,   36.2,   39.4,   14.1],\n",
    "       [ 500. ,   28.7,   31. ,   36.2,   39.7,   13.3],\n",
    "       [ 500. ,   29.1,   31.5,   36.4,   37.8,   12. ],\n",
    "       [ 600. ,   29.4,   32. ,   37.2,   40.2,   13.9],\n",
    "       [ 600. ,   29.4,   32. ,   37.2,   41.5,   15. ],\n",
    "       [ 700. ,   30.4,   33. ,   38.3,   38.8,   13.8],\n",
    "       [ 700. ,   30.4,   33. ,   38.5,   38.8,   13.5],\n",
    "       [ 610. ,   30.9,   33.5,   38.6,   40.5,   13.3],\n",
    "       [ 650. ,   31. ,   33.5,   38.7,   37.4,   14.8],\n",
    "       [ 575. ,   31.3,   34. ,   39.5,   38.3,   14.1],\n",
    "       [ 685. ,   31.4,   34. ,   39.2,   40.8,   13.7],\n",
    "       [ 620. ,   31.5,   34.5,   39.7,   39.1,   13.3],\n",
    "       [ 680. ,   31.8,   35. ,   40.6,   38.1,   15.1],\n",
    "       [ 700. ,   31.9,   35. ,   40.5,   40.1,   13.8],\n",
    "       [ 725. ,   31.8,   35. ,   40.9,   40. ,   14.8],\n",
    "       [ 720. ,   32. ,   35. ,   40.6,   40.3,   15. ],\n",
    "       [ 714. ,   32.7,   36. ,   41.5,   39.8,   14.1],\n",
    "       [ 850. ,   32.8,   36. ,   41.6,   40.6,   14.9],\n",
    "       [1000. ,   33.5,   37. ,   42.6,   44.5,   15.5],\n",
    "       [ 920. ,   35. ,   38.5,   44.1,   40.9,   14.3],\n",
    "       [ 955. ,   35. ,   38.5,   44. ,   41.1,   14.3],\n",
    "       [ 925. ,   36.2,   39.5,   45.3,   41.4,   14.9],\n",
    "       [ 975. ,   37.4,   41. ,   45.9,   40.6,   14.7],\n",
    "       [ 950. ,   38. ,   41. ,   46.5,   37.9,   13.7],\n",
    "       [  40. ,   12.9,   14.1,   16.2,   25.6,   14. ],\n",
    "       [  69. ,   16.5,   18.2,   20.3,   26.1,   13.9],\n",
    "       [  78. ,   17.5,   18.8,   21.2,   26.3,   13.7],\n",
    "       [  87. ,   18.2,   19.8,   22.2,   25.3,   14.3],\n",
    "       [ 120. ,   18.6,   20. ,   22.2,   28. ,   16.1],\n",
    "       [   0. ,   19. ,   20.5,   22.8,   28.4,   14.7],\n",
    "       [ 110. ,   19.1,   20.8,   23.1,   26.7,   14.7],\n",
    "       [ 120. ,   19.4,   21. ,   23.7,   25.8,   13.9],\n",
    "       [ 150. ,   20.4,   22. ,   24.7,   23.5,   15.2],\n",
    "       [ 145. ,   20.5,   22. ,   24.3,   27.3,   14.6],\n",
    "       [ 160. ,   20.5,   22.5,   25.3,   27.8,   15.1],\n",
    "       [ 140. ,   21. ,   22.5,   25. ,   26.2,   13.3],\n",
    "       [ 160. ,   21.1,   22.5,   25. ,   25.6,   15.2],\n",
    "       [ 169. ,   22. ,   24. ,   27.2,   27.7,   14.1],\n",
    "       [ 161. ,   22. ,   23.4,   26.7,   25.9,   13.6],\n",
    "       [ 200. ,   22.1,   23.5,   26.8,   27.6,   15.4],\n",
    "       [ 180. ,   23.6,   25.2,   27.9,   25.4,   14. ],\n",
    "       [ 290. ,   24. ,   26. ,   29.2,   30.4,   15.4],\n",
    "       [ 272. ,   25. ,   27. ,   30.6,   28. ,   15.6],\n",
    "       [ 390. ,   29.5,   31.7,   35. ,   27.1,   15.3],\n",
    "       [   6.7,    9.3,    9.8,   10.8,   16.1,    9.7],\n",
    "       [   7.5,   10. ,   10.5,   11.6,   17. ,   10. ],\n",
    "       [   7. ,   10.1,   10.6,   11.6,   14.9,    9.9],\n",
    "       [   9.7,   10.4,   11. ,   12. ,   18.3,   11.5],\n",
    "       [   9.8,   10.7,   11.2,   12.4,   16.8,   10.3],\n",
    "       [   8.7,   10.8,   11.3,   12.6,   15.7,   10.2],\n",
    "       [  10. ,   11.3,   11.8,   13.1,   16.9,    9.8],\n",
    "       [   9.9,   11.3,   11.8,   13.1,   16.9,    8.9],\n",
    "       [   9.8,   11.4,   12. ,   13.2,   16.7,    8.7],\n",
    "       [  12.2,   11.5,   12.2,   13.4,   15.6,   10.4],\n",
    "       [  13.4,   11.7,   12.4,   13.5,   18. ,    9.4],\n",
    "       [  12.2,   12.1,   13. ,   13.8,   16.5,    9.1],\n",
    "       [  19.7,   13.2,   14.3,   15.2,   18.9,   13.6],\n",
    "       [  19.9,   13.8,   15. ,   16.2,   18.1,   11.6],\n",
    "       [ 200. ,   30. ,   32.3,   34.8,   16. ,    9.7],\n",
    "       [ 300. ,   31.7,   34. ,   37.8,   15.1,   11. ],\n",
    "       [ 300. ,   32.7,   35. ,   38.8,   15.3,   11.3],\n",
    "       [ 300. ,   34.8,   37.3,   39.8,   15.8,   10.1],\n",
    "       [ 430. ,   35.5,   38. ,   40.5,   18. ,   11.3],\n",
    "       [ 345. ,   36. ,   38.5,   41. ,   15.6,    9.7],\n",
    "       [ 456. ,   40. ,   42.5,   45.5,   16. ,    9.5],\n",
    "       [ 510. ,   40. ,   42.5,   45.5,   15. ,    9.8],\n",
    "       [ 540. ,   40.1,   43. ,   45.8,   17. ,   11.2],\n",
    "       [ 500. ,   42. ,   45. ,   48. ,   14.5,   10.2],\n",
    "       [ 567. ,   43.2,   46. ,   48.7,   16. ,   10. ],\n",
    "       [ 770. ,   44.8,   48. ,   51.2,   15. ,   10.5],\n",
    "       [ 950. ,   48.3,   51.7,   55.1,   16.2,   11.2],\n",
    "       [1250. ,   52. ,   56. ,   59.7,   17.9,   11.7],\n",
    "       [1600. ,   56. ,   60. ,   64. ,   15. ,    9.6],\n",
    "       [1550. ,   56. ,   60. ,   64. ,   15. ,    9.6],\n",
    "       [1650. ,   59. ,   63.4,   68. ,   15.9,   11. ]]\n",
    "samples = np.array(samples)\n",
    "species = ['Bream',\n",
    " 'Bream',\n",
    " 'Bream',\n",
    " 'Bream',\n",
    " 'Bream',\n",
    " 'Bream',\n",
    " 'Bream',\n",
    " 'Bream',\n",
    " 'Bream',\n",
    " 'Bream',\n",
    " 'Bream',\n",
    " 'Bream',\n",
    " 'Bream',\n",
    " 'Bream',\n",
    " 'Bream',\n",
    " 'Bream',\n",
    " 'Bream',\n",
    " 'Bream',\n",
    " 'Bream',\n",
    " 'Bream',\n",
    " 'Bream',\n",
    " 'Bream',\n",
    " 'Bream',\n",
    " 'Bream',\n",
    " 'Bream',\n",
    " 'Bream',\n",
    " 'Bream',\n",
    " 'Bream',\n",
    " 'Bream',\n",
    " 'Bream',\n",
    " 'Bream',\n",
    " 'Bream',\n",
    " 'Bream',\n",
    " 'Bream',\n",
    " 'Roach',\n",
    " 'Roach',\n",
    " 'Roach',\n",
    " 'Roach',\n",
    " 'Roach',\n",
    " 'Roach',\n",
    " 'Roach',\n",
    " 'Roach',\n",
    " 'Roach',\n",
    " 'Roach',\n",
    " 'Roach',\n",
    " 'Roach',\n",
    " 'Roach',\n",
    " 'Roach',\n",
    " 'Roach',\n",
    " 'Roach',\n",
    " 'Roach',\n",
    " 'Roach',\n",
    " 'Roach',\n",
    " 'Roach',\n",
    " 'Smelt',\n",
    " 'Smelt',\n",
    " 'Smelt',\n",
    " 'Smelt',\n",
    " 'Smelt',\n",
    " 'Smelt',\n",
    " 'Smelt',\n",
    " 'Smelt',\n",
    " 'Smelt',\n",
    " 'Smelt',\n",
    " 'Smelt',\n",
    " 'Smelt',\n",
    " 'Smelt',\n",
    " 'Smelt',\n",
    " 'Pike',\n",
    " 'Pike',\n",
    " 'Pike',\n",
    " 'Pike',\n",
    " 'Pike',\n",
    " 'Pike',\n",
    " 'Pike',\n",
    " 'Pike',\n",
    " 'Pike',\n",
    " 'Pike',\n",
    " 'Pike',\n",
    " 'Pike',\n",
    " 'Pike',\n",
    " 'Pike',\n",
    " 'Pike',\n",
    " 'Pike',\n",
    " 'Pike']"
   ]
  },
  {
   "cell_type": "code",
   "execution_count": 85,
   "metadata": {},
   "outputs": [
    {
     "data": {
      "text/plain": [
       "6"
      ]
     },
     "execution_count": 85,
     "metadata": {},
     "output_type": "execute_result"
    }
   ],
   "source": [
    "len(samples[0])"
   ]
  },
  {
   "cell_type": "code",
   "execution_count": 87,
   "metadata": {},
   "outputs": [
    {
     "name": "stdout",
     "output_type": "stream",
     "text": [
      "variance of feature 0 :  143403.49889273357\n",
      "variance of feature 1 :  125.95225743944637\n",
      "variance of feature 2 :  146.72855916955018\n",
      "variance of feature 3 :  172.1194823529412\n",
      "variance of feature 4 :  105.8937993079585\n",
      "variance of feature 5 :  4.430953633217994\n"
     ]
    }
   ],
   "source": [
    "# for each feature/column\n",
    "for i in range(6):\n",
    "    # print variance of feature/column i \n",
    "    print('variance of feature', i, ': ', np.var(samples[:,i]))"
   ]
  },
  {
   "cell_type": "markdown",
   "metadata": {},
   "source": [
    "## Scaling fish data for clustering\n",
    "You are given an array `samples` giving measurements of fish. Each row represents an individual fish. The measurements, such as weight in grams, length in centimeters, and the percentage ratio of height to length, have very different scales. In order to cluster this data effectively, you'll need to standardize these features first. In this exercise, you'll build a pipeline to standardize and cluster the data.\n",
    "\n",
    "These fish measurement data were sourced from the [Journal of Statistics Education.](http://jse.amstat.org/jse_data_archive.htm)"
   ]
  },
  {
   "cell_type": "code",
   "execution_count": 88,
   "metadata": {},
   "outputs": [],
   "source": [
    "# Perform the necessary imports\n",
    "from sklearn.pipeline import make_pipeline\n",
    "from sklearn.preprocessing import StandardScaler\n",
    "from sklearn.cluster import KMeans\n",
    "\n",
    "# Create scaler: scaler\n",
    "scaler = StandardScaler()\n",
    "\n",
    "# Create KMeans instance: kmeans\n",
    "kmeans = KMeans(n_clusters = 4)\n",
    "\n",
    "# Create pipeline: pipeline\n",
    "pipeline = make_pipeline(scaler, kmeans)\n"
   ]
  },
  {
   "cell_type": "markdown",
   "metadata": {},
   "source": [
    "### Clustering the fish data\n",
    "You'll now use your standardization and clustering pipeline from the previous exercise to cluster the fish by their measurements, and then create a cross-tabulation to compare the cluster labels with the fish species."
   ]
  },
  {
   "cell_type": "code",
   "execution_count": 89,
   "metadata": {},
   "outputs": [
    {
     "data": {
      "text/html": [
       "<div>\n",
       "<style scoped>\n",
       "    .dataframe tbody tr th:only-of-type {\n",
       "        vertical-align: middle;\n",
       "    }\n",
       "\n",
       "    .dataframe tbody tr th {\n",
       "        vertical-align: top;\n",
       "    }\n",
       "\n",
       "    .dataframe thead th {\n",
       "        text-align: right;\n",
       "    }\n",
       "</style>\n",
       "<table border=\"1\" class=\"dataframe\">\n",
       "  <thead>\n",
       "    <tr style=\"text-align: right;\">\n",
       "      <th>species</th>\n",
       "      <th>Bream</th>\n",
       "      <th>Pike</th>\n",
       "      <th>Roach</th>\n",
       "      <th>Smelt</th>\n",
       "    </tr>\n",
       "    <tr>\n",
       "      <th>labels</th>\n",
       "      <th></th>\n",
       "      <th></th>\n",
       "      <th></th>\n",
       "      <th></th>\n",
       "    </tr>\n",
       "  </thead>\n",
       "  <tbody>\n",
       "    <tr>\n",
       "      <th>0</th>\n",
       "      <td>33</td>\n",
       "      <td>0</td>\n",
       "      <td>1</td>\n",
       "      <td>0</td>\n",
       "    </tr>\n",
       "    <tr>\n",
       "      <th>1</th>\n",
       "      <td>1</td>\n",
       "      <td>0</td>\n",
       "      <td>19</td>\n",
       "      <td>1</td>\n",
       "    </tr>\n",
       "    <tr>\n",
       "      <th>2</th>\n",
       "      <td>0</td>\n",
       "      <td>17</td>\n",
       "      <td>0</td>\n",
       "      <td>0</td>\n",
       "    </tr>\n",
       "    <tr>\n",
       "      <th>3</th>\n",
       "      <td>0</td>\n",
       "      <td>0</td>\n",
       "      <td>0</td>\n",
       "      <td>13</td>\n",
       "    </tr>\n",
       "  </tbody>\n",
       "</table>\n",
       "</div>"
      ],
      "text/plain": [
       "species  Bream  Pike  Roach  Smelt\n",
       "labels                            \n",
       "0           33     0      1      0\n",
       "1            1     0     19      1\n",
       "2            0    17      0      0\n",
       "3            0     0      0     13"
      ]
     },
     "execution_count": 89,
     "metadata": {},
     "output_type": "execute_result"
    }
   ],
   "source": [
    "# Fit the pipeline to samples\n",
    "pipeline.fit(samples)\n",
    "\n",
    "# Calculate the cluster labels: labels\n",
    "labels = pipeline.predict(samples)\n",
    "\n",
    "# Create a DataFrame with labels and species as columns: df\n",
    "df = pd.DataFrame({'labels': labels, 'species': species})\n",
    "\n",
    "# Create crosstab: ct\n",
    "ct = pd.crosstab(df['labels'], df['species'])\n",
    "\n",
    "# Display ct\n",
    "ct"
   ]
  },
  {
   "cell_type": "markdown",
   "metadata": {},
   "source": [
    "## Excercise\n",
    "## Clustering stocks using KMeans\n",
    "\n",
    "In this exercise, you'll cluster companies using their daily stock price movements \n",
    "- (i.e. the dollar difference between the closing and opening prices for each trading day). \n",
    "- You are given a NumPy array `movements` of daily price movements \n",
    "    - from 2010 to 2015 (obtained from Yahoo! Finance), \n",
    "    - where each row corresponds to a company, \n",
    "    - and each column corresponds to a trading day.\n",
    "\n",
    "Some stocks are more expensive than others. To account for this, include a `Normalizer` at the beginning of your pipeline. The Normalizer will separately transform each company's stock price to a relative scale before the clustering begins.\n",
    "\n",
    "Note that `Normalizer()` is different to `StandardScaler()`\n",
    "- which you used in the previous exercise. \n",
    "- While `StandardScaler()` standardizes features (such as the features of the fish data from the previous exercise) \n",
    "    - by removing the mean and scaling to unit variance\n",
    "- `Normalizer()` rescales each sample - here, each company's stock price - independently of the other."
   ]
  },
  {
   "cell_type": "markdown",
   "metadata": {},
   "source": [
    "# 🔵 🤔 *I'll have to come back and clarify the wisdom behind scaling columnwise vs rowwise*\n",
    "- maybe it's as simple as a conventional difference of tabular structure"
   ]
  },
  {
   "cell_type": "code",
   "execution_count": 90,
   "metadata": {},
   "outputs": [
    {
     "name": "stdout",
     "output_type": "stream",
     "text": [
      "<class 'pandas.core.frame.DataFrame'>\n",
      "Index: 60 entries, Apple to Yahoo\n",
      "Columns: 963 entries, 2010-01-04 to 2013-10-29\n",
      "dtypes: float64(963)\n",
      "memory usage: 451.9+ KB\n"
     ]
    }
   ],
   "source": [
    "# read the data from my local copy\n",
    "stock_movements_df = pd.read_json('data/stock-movements.json', orient = 'split')\n",
    "stock_movements_df.info()"
   ]
  },
  {
   "cell_type": "code",
   "execution_count": 91,
   "metadata": {},
   "outputs": [
    {
     "data": {
      "text/html": [
       "<div>\n",
       "<style scoped>\n",
       "    .dataframe tbody tr th:only-of-type {\n",
       "        vertical-align: middle;\n",
       "    }\n",
       "\n",
       "    .dataframe tbody tr th {\n",
       "        vertical-align: top;\n",
       "    }\n",
       "\n",
       "    .dataframe thead th {\n",
       "        text-align: right;\n",
       "    }\n",
       "</style>\n",
       "<table border=\"1\" class=\"dataframe\">\n",
       "  <thead>\n",
       "    <tr style=\"text-align: right;\">\n",
       "      <th></th>\n",
       "      <th>2010-01-04 00:00:00</th>\n",
       "      <th>2010-01-05 00:00:00</th>\n",
       "      <th>2010-01-06 00:00:00</th>\n",
       "      <th>2010-01-07 00:00:00</th>\n",
       "      <th>2010-01-08 00:00:00</th>\n",
       "      <th>2010-01-11 00:00:00</th>\n",
       "      <th>2010-01-12 00:00:00</th>\n",
       "      <th>2010-01-13 00:00:00</th>\n",
       "      <th>2010-01-14 00:00:00</th>\n",
       "      <th>2010-01-15 00:00:00</th>\n",
       "      <th>...</th>\n",
       "      <th>2013-10-16 00:00:00</th>\n",
       "      <th>2013-10-17 00:00:00</th>\n",
       "      <th>2013-10-18 00:00:00</th>\n",
       "      <th>2013-10-21 00:00:00</th>\n",
       "      <th>2013-10-22 00:00:00</th>\n",
       "      <th>2013-10-23 00:00:00</th>\n",
       "      <th>2013-10-24 00:00:00</th>\n",
       "      <th>2013-10-25 00:00:00</th>\n",
       "      <th>2013-10-28 00:00:00</th>\n",
       "      <th>2013-10-29 00:00:00</th>\n",
       "    </tr>\n",
       "  </thead>\n",
       "  <tbody>\n",
       "    <tr>\n",
       "      <th>Apple</th>\n",
       "      <td>0.580000</td>\n",
       "      <td>-0.220005</td>\n",
       "      <td>-3.409998</td>\n",
       "      <td>-1.17</td>\n",
       "      <td>1.680011</td>\n",
       "      <td>-2.689994</td>\n",
       "      <td>-1.469994</td>\n",
       "      <td>2.779997</td>\n",
       "      <td>-0.680003</td>\n",
       "      <td>-4.999995</td>\n",
       "      <td>...</td>\n",
       "      <td>0.320008</td>\n",
       "      <td>4.519997</td>\n",
       "      <td>2.899987</td>\n",
       "      <td>9.590019</td>\n",
       "      <td>-6.540016</td>\n",
       "      <td>5.959976</td>\n",
       "      <td>6.910011</td>\n",
       "      <td>-5.359962</td>\n",
       "      <td>0.840019</td>\n",
       "      <td>-19.589981</td>\n",
       "    </tr>\n",
       "    <tr>\n",
       "      <th>AIG</th>\n",
       "      <td>-0.640002</td>\n",
       "      <td>-0.650000</td>\n",
       "      <td>-0.210001</td>\n",
       "      <td>-0.42</td>\n",
       "      <td>0.710001</td>\n",
       "      <td>-0.200001</td>\n",
       "      <td>-1.130001</td>\n",
       "      <td>0.069999</td>\n",
       "      <td>-0.119999</td>\n",
       "      <td>-0.500000</td>\n",
       "      <td>...</td>\n",
       "      <td>0.919998</td>\n",
       "      <td>0.709999</td>\n",
       "      <td>0.119999</td>\n",
       "      <td>-0.480000</td>\n",
       "      <td>0.010002</td>\n",
       "      <td>-0.279998</td>\n",
       "      <td>-0.190003</td>\n",
       "      <td>-0.040001</td>\n",
       "      <td>-0.400002</td>\n",
       "      <td>0.660000</td>\n",
       "    </tr>\n",
       "  </tbody>\n",
       "</table>\n",
       "<p>2 rows × 963 columns</p>\n",
       "</div>"
      ],
      "text/plain": [
       "       2010-01-04  2010-01-05  2010-01-06  2010-01-07  2010-01-08  2010-01-11  \\\n",
       "Apple    0.580000   -0.220005   -3.409998       -1.17    1.680011   -2.689994   \n",
       "AIG     -0.640002   -0.650000   -0.210001       -0.42    0.710001   -0.200001   \n",
       "\n",
       "       2010-01-12  2010-01-13  2010-01-14  2010-01-15     ...      2013-10-16  \\\n",
       "Apple   -1.469994    2.779997   -0.680003   -4.999995     ...        0.320008   \n",
       "AIG     -1.130001    0.069999   -0.119999   -0.500000     ...        0.919998   \n",
       "\n",
       "       2013-10-17  2013-10-18  2013-10-21  2013-10-22  2013-10-23  2013-10-24  \\\n",
       "Apple    4.519997    2.899987    9.590019   -6.540016    5.959976    6.910011   \n",
       "AIG      0.709999    0.119999   -0.480000    0.010002   -0.279998   -0.190003   \n",
       "\n",
       "       2013-10-25  2013-10-28  2013-10-29  \n",
       "Apple   -5.359962    0.840019  -19.589981  \n",
       "AIG     -0.040001   -0.400002    0.660000  \n",
       "\n",
       "[2 rows x 963 columns]"
      ]
     },
     "execution_count": 91,
     "metadata": {},
     "output_type": "execute_result"
    }
   ],
   "source": [
    "stock_movements_df.head(2)"
   ]
  },
  {
   "cell_type": "code",
   "execution_count": 92,
   "metadata": {},
   "outputs": [],
   "source": [
    "movements = stock_movements_df.values"
   ]
  },
  {
   "cell_type": "code",
   "execution_count": 93,
   "metadata": {},
   "outputs": [
    {
     "data": {
      "text/plain": [
       "Pipeline(memory=None,\n",
       "     steps=[('normalizer', Normalizer(copy=True, norm='l2')), ('kmeans', KMeans(algorithm='auto', copy_x=True, init='k-means++', max_iter=300,\n",
       "    n_clusters=10, n_init=10, n_jobs=1, precompute_distances='auto',\n",
       "    random_state=None, tol=0.0001, verbose=0))])"
      ]
     },
     "execution_count": 93,
     "metadata": {},
     "output_type": "execute_result"
    }
   ],
   "source": [
    "# Import Normalizer\n",
    "from sklearn.preprocessing import Normalizer\n",
    "\n",
    "# Create a normalizer: normalizer\n",
    "normalizer = Normalizer()\n",
    "\n",
    "# Create a KMeans model with 10 clusters: kmeans\n",
    "kmeans = KMeans(n_clusters=10)\n",
    "\n",
    "# Make a pipeline chaining normalizer and kmeans: pipeline\n",
    "pipeline = make_pipeline(normalizer, kmeans)\n",
    "\n",
    "# Fit pipeline to the daily price movements\n",
    "pipeline.fit(movements)\n"
   ]
  },
  {
   "cell_type": "markdown",
   "metadata": {},
   "source": [
    "## Which stocks move together?\n",
    "We just clustered companies by their daily stock price movements. \n",
    "- So which companies have stock prices that tend to change in the same way?\n",
    "- Let's inspect the cluster labels"
   ]
  },
  {
   "cell_type": "code",
   "execution_count": 94,
   "metadata": {},
   "outputs": [
    {
     "data": {
      "text/plain": [
       "array([7, 3, 7, 3, 3, 5, 2, 4, 3, 0, 2, 1, 2, 3, 9, 4, 3, 7, 5, 2, 3, 4,\n",
       "       9, 3, 6, 0, 5, 0, 0, 3, 3, 3, 3, 1, 4, 2, 3, 2, 0, 2, 0, 0, 2, 2,\n",
       "       2, 4, 2, 3, 4, 2, 6, 6, 2, 2, 8, 5, 0, 2, 3, 3], dtype=int32)"
      ]
     },
     "execution_count": 94,
     "metadata": {},
     "output_type": "execute_result"
    }
   ],
   "source": [
    "labels = pipeline.predict(movements)\n",
    "labels"
   ]
  },
  {
   "cell_type": "markdown",
   "metadata": {},
   "source": [
    "- *🤔 I guess the wisdom is that if we had normalized by column, then the clustering would just find which stocks spent the most time in the same price percentiles.*\n",
    "    - *i.e. some stocks spent most of their time in the top 10% most expensive.*\n",
    "- *But by scaling each row we find which stocks grew and shrank proportionately the same*"
   ]
  },
  {
   "cell_type": "markdown",
   "metadata": {},
   "source": [
    "**transpose the data for easy time series plotting**"
   ]
  },
  {
   "cell_type": "code",
   "execution_count": 95,
   "metadata": {},
   "outputs": [
    {
     "data": {
      "text/html": [
       "<div>\n",
       "<style scoped>\n",
       "    .dataframe tbody tr th:only-of-type {\n",
       "        vertical-align: middle;\n",
       "    }\n",
       "\n",
       "    .dataframe tbody tr th {\n",
       "        vertical-align: top;\n",
       "    }\n",
       "\n",
       "    .dataframe thead th {\n",
       "        text-align: right;\n",
       "    }\n",
       "</style>\n",
       "<table border=\"1\" class=\"dataframe\">\n",
       "  <thead>\n",
       "    <tr style=\"text-align: right;\">\n",
       "      <th></th>\n",
       "      <th>Apple</th>\n",
       "      <th>AIG</th>\n",
       "    </tr>\n",
       "  </thead>\n",
       "  <tbody>\n",
       "    <tr>\n",
       "      <th>2010-01-04</th>\n",
       "      <td>0.580000</td>\n",
       "      <td>-0.640002</td>\n",
       "    </tr>\n",
       "    <tr>\n",
       "      <th>2010-01-05</th>\n",
       "      <td>-0.220005</td>\n",
       "      <td>-0.650000</td>\n",
       "    </tr>\n",
       "    <tr>\n",
       "      <th>2010-01-06</th>\n",
       "      <td>-3.409998</td>\n",
       "      <td>-0.210001</td>\n",
       "    </tr>\n",
       "    <tr>\n",
       "      <th>2010-01-07</th>\n",
       "      <td>-1.170000</td>\n",
       "      <td>-0.420000</td>\n",
       "    </tr>\n",
       "    <tr>\n",
       "      <th>2010-01-08</th>\n",
       "      <td>1.680011</td>\n",
       "      <td>0.710001</td>\n",
       "    </tr>\n",
       "  </tbody>\n",
       "</table>\n",
       "</div>"
      ],
      "text/plain": [
       "               Apple       AIG\n",
       "2010-01-04  0.580000 -0.640002\n",
       "2010-01-05 -0.220005 -0.650000\n",
       "2010-01-06 -3.409998 -0.210001\n",
       "2010-01-07 -1.170000 -0.420000\n",
       "2010-01-08  1.680011  0.710001"
      ]
     },
     "execution_count": 95,
     "metadata": {},
     "output_type": "execute_result"
    }
   ],
   "source": [
    "stock_movements_df.head(2).transpose().head()"
   ]
  },
  {
   "cell_type": "code",
   "execution_count": 96,
   "metadata": {},
   "outputs": [
    {
     "data": {
      "image/png": "[encoded data removed]",
      "text/plain": [
       "<Figure size 432x288 with 1 Axes>"
      ]
     },
     "metadata": {},
     "output_type": "display_data"
    }
   ],
   "source": [
    "stock_movements_df.head(2).transpose().plot(alpha = .3, \n",
    "                                            #figsize = (20, 10)\n",
    "                                           )\n",
    "plt.title('Apple & AIG movements time series UNSCALED')\n",
    "plt.show()"
   ]
  },
  {
   "cell_type": "code",
   "execution_count": 98,
   "metadata": {},
   "outputs": [
    {
     "data": {
      "image/png": "[encoded data removed]",
      "text/plain": [
       "<Figure size 432x288 with 1 Axes>"
      ]
     },
     "metadata": {},
     "output_type": "display_data"
    }
   ],
   "source": [
    "plt.plot(normalizer.transform(movements)[0], alpha = .5)\n",
    "plt.plot(normalizer.transform(movements)[1], alpha = .5)\n",
    "plt.title('Apple and AIG SCALED movements')\n",
    "plt.show()"
   ]
  },
  {
   "cell_type": "code",
   "execution_count": 99,
   "metadata": {},
   "outputs": [],
   "source": [
    "companies = [c for c in stock_movements_df.index]"
   ]
  },
  {
   "cell_type": "code",
   "execution_count": 100,
   "metadata": {},
   "outputs": [
    {
     "name": "stdout",
     "output_type": "stream",
     "text": [
      "    labels                           companies\n",
      "25       0                   Johnson & Johnson\n",
      "56       0                            Wal-Mart\n",
      "38       0                               Pepsi\n",
      "27       0                      Kimberly-Clark\n",
      "40       0                      Procter Gamble\n",
      "9        0                   Colgate-Palmolive\n",
      "41       0                       Philip Morris\n",
      "28       0                           Coca Cola\n",
      "11       1                               Cisco\n",
      "33       1                           Microsoft\n",
      "35       2                            Navistar\n",
      "37       2                            Novartis\n",
      "19       2                     GlaxoSmithKline\n",
      "39       2                              Pfizer\n",
      "42       2                   Royal Dutch Shell\n",
      "43       2                                 SAP\n",
      "10       2                      ConocoPhillips\n",
      "46       2                      Sanofi-Aventis\n",
      "6        2            British American Tobacco\n",
      "49       2                               Total\n",
      "52       2                            Unilever\n",
      "53       2                       Valero Energy\n",
      "57       2                               Exxon\n",
      "44       2                        Schlumberger\n",
      "12       2                             Chevron\n",
      "32       3                                  3M\n",
      "29       3                     Lookheed Martin\n",
      "47       3                            Symantec\n",
      "36       3                    Northrop Grumman\n",
      "31       3                           McDonalds\n",
      "59       3                               Yahoo\n",
      "58       3                               Xerox\n",
      "1        3                                 AIG\n",
      "3        3                    American express\n",
      "4        3                              Boeing\n",
      "23       3                                 IBM\n",
      "20       3                          Home Depot\n",
      "8        3                         Caterpillar\n",
      "30       3                          MasterCard\n",
      "16       3                   General Electrics\n",
      "13       3                   DuPont de Nemours\n",
      "48       4                              Toyota\n",
      "7        4                               Canon\n",
      "45       4                                Sony\n",
      "15       4                                Ford\n",
      "21       4                               Honda\n",
      "34       4                          Mitsubishi\n",
      "18       5                       Goldman Sachs\n",
      "5        5                     Bank of America\n",
      "55       5                         Wells Fargo\n",
      "26       5                      JPMorgan Chase\n",
      "50       6  Taiwan Semiconductor Manufacturing\n",
      "51       6                   Texas instruments\n",
      "24       6                               Intel\n",
      "17       7                     Google/Alphabet\n",
      "2        7                              Amazon\n",
      "0        7                               Apple\n",
      "54       8                            Walgreen\n",
      "22       9                                  HP\n",
      "14       9                                Dell\n"
     ]
    }
   ],
   "source": [
    "# Predict the cluster labels: labels\n",
    "labels = pipeline.predict(movements)\n",
    "\n",
    "# Create a DataFrame aligning labels and companies: df\n",
    "df = pd.DataFrame({'labels': labels, 'companies': companies})\n",
    "\n",
    "# Display df sorted by cluster label\n",
    "print(df.sort_values('labels'))"
   ]
  },
  {
   "cell_type": "markdown",
   "metadata": {},
   "source": [
    "# Chapter 2\n",
    "---\n",
    "## Visualizing Hierarchies\n",
    "### Visualisations communicate insight\n",
    "- \"t-SNE\": Creates a 2D map of a dataset (later)\n",
    "- \"Hierarchical clustering\"\n",
    "\n",
    "### A hierarchy of groups\n",
    "- Groups of living things can form a hierarchy\n",
    "- Clusters are contained in one another\n",
    "\n",
    "Animals\n",
    "- mammals\n",
    "    - humans\n",
    "    - apes\n",
    "- reptiles\n",
    "    - snakes\n",
    "    - lizards\n",
    "\n",
    "**we can \"hierarchisize\" any dataset**\n",
    "\n",
    "### Eurovision scoring dataset\n",
    "- countries gave scores to songs performed at the eurovision 2016\n",
    "- 2d array of scores\n",
    "- rows are countires, columns are songs"
   ]
  },
  {
   "cell_type": "code",
   "execution_count": 101,
   "metadata": {},
   "outputs": [
    {
     "data": {
      "text/html": [
       "<div>\n",
       "<style scoped>\n",
       "    .dataframe tbody tr th:only-of-type {\n",
       "        vertical-align: middle;\n",
       "    }\n",
       "\n",
       "    .dataframe tbody tr th {\n",
       "        vertical-align: top;\n",
       "    }\n",
       "\n",
       "    .dataframe thead th {\n",
       "        text-align: right;\n",
       "    }\n",
       "</style>\n",
       "<table border=\"1\" class=\"dataframe\">\n",
       "  <thead>\n",
       "    <tr style=\"text-align: right;\">\n",
       "      <th></th>\n",
       "      <th>index</th>\n",
       "      <th>song0</th>\n",
       "      <th>songN</th>\n",
       "    </tr>\n",
       "  </thead>\n",
       "  <tbody>\n",
       "    <tr>\n",
       "      <th>0</th>\n",
       "      <td>Albania</td>\n",
       "      <td>8</td>\n",
       "      <td>6</td>\n",
       "    </tr>\n",
       "    <tr>\n",
       "      <th>1</th>\n",
       "      <td>Armenia</td>\n",
       "      <td>9</td>\n",
       "      <td>9</td>\n",
       "    </tr>\n",
       "    <tr>\n",
       "      <th>2</th>\n",
       "      <td>UK</td>\n",
       "      <td>7</td>\n",
       "      <td>9</td>\n",
       "    </tr>\n",
       "  </tbody>\n",
       "</table>\n",
       "</div>"
      ],
      "text/plain": [
       "     index  song0  songN\n",
       "0  Albania      8      6\n",
       "1  Armenia      9      9\n",
       "2       UK      7      9"
      ]
     },
     "execution_count": 101,
     "metadata": {},
     "output_type": "execute_result"
    }
   ],
   "source": [
    "pd.DataFrame({'index': ['Albania', 'Armenia', 'UK'],\n",
    "             'song0': [8, 9, 7],\n",
    "             'songN': [6, 9, 9]})"
   ]
  },
  {
   "cell_type": "markdown",
   "metadata": {},
   "source": [
    "## This data can be visulized as a dendrogram\n",
    "\n",
    "![Eurovision 2016 voting dedrogram](images/eurovision-2016-dendrogram.png)\n",
    "\n",
    "- the dendrogram confirms some of our intuitions about similarities between countries\n",
    "\n",
    "## Hierarchical clustering\n",
    "- every country begins in a separate cluster\n",
    "- at each step, the two closest clusters are merged\n",
    "- continue until all countires in a single cluster\n",
    "- this is \"agglomerative\" hierarchical clustering\n"
   ]
  },
  {
   "cell_type": "markdown",
   "metadata": {},
   "source": [
    "- read \"bottom up\"\n",
    "- first merges appear lower on the y-axis\n",
    "\n",
    "## Hierarchical clustering with SciPy\n",
    "- Given **samples** (array of scores) and **country_names**"
   ]
  },
  {
   "cell_type": "code",
   "execution_count": 109,
   "metadata": {
    "scrolled": false
   },
   "outputs": [
    {
     "data": {
      "image/png": "[encoded data removed]",
      "text/plain": [
       "<Figure size 432x288 with 1 Axes>"
      ]
     },
     "metadata": {},
     "output_type": "display_data"
    }
   ],
   "source": [
    "import matplotlib.pyplot as plt\n",
    "from scipy.cluster.hierarchy import linkage, dendrogram\n",
    "\n",
    "# we'll recycle the data from the stock movements\n",
    "mergings = linkage(samples, method = 'complete')\n",
    "\n",
    "dendrogram(mergings,\n",
    "          leaf_rotation = 90,\n",
    "          leaf_font_size = 6)\n",
    "\n",
    "plt.show()"
   ]
  },
  {
   "cell_type": "markdown",
   "metadata": {},
   "source": [
    "**Note: there are n-1 merges for n samples**"
   ]
  },
  {
   "cell_type": "markdown",
   "metadata": {},
   "source": [
    "## Excercise\n",
    "## Hierarchical clustering of the grain data\n",
    "- Use SciPy's `linkage()` to obtain hierarchical clustering of the grain samples.\n",
    "- Visualize it with `dendrogram()`\n"
   ]
  },
  {
   "cell_type": "code",
   "execution_count": 110,
   "metadata": {},
   "outputs": [],
   "source": [
    "seed_samples = [[14.88  , 14.57  ,  0.8811,  5.554 ,  3.333 ,  1.018 ,  4.956 ],\n",
    "       [14.69  , 14.49  ,  0.8799,  5.563 ,  3.259 ,  3.586 ,  5.219 ],\n",
    "       [14.03  , 14.16  ,  0.8796,  5.438 ,  3.201 ,  1.717 ,  5.001 ],\n",
    "       [13.99  , 13.83  ,  0.9183,  5.119 ,  3.383 ,  5.234 ,  4.781 ],\n",
    "       [14.11  , 14.26  ,  0.8722,  5.52  ,  3.168 ,  2.688 ,  5.219 ],\n",
    "       [13.02  , 13.76  ,  0.8641,  5.395 ,  3.026 ,  3.373 ,  4.825 ],\n",
    "       [15.49  , 14.94  ,  0.8724,  5.757 ,  3.371 ,  3.412 ,  5.228 ],\n",
    "       [16.2   , 15.27  ,  0.8734,  5.826 ,  3.464 ,  2.823 ,  5.527 ],\n",
    "       [13.5   , 13.85  ,  0.8852,  5.351 ,  3.158 ,  2.249 ,  5.176 ],\n",
    "       [15.36  , 14.76  ,  0.8861,  5.701 ,  3.393 ,  1.367 ,  5.132 ],\n",
    "       [15.78  , 14.91  ,  0.8923,  5.674 ,  3.434 ,  5.593 ,  5.136 ],\n",
    "       [14.46  , 14.35  ,  0.8818,  5.388 ,  3.377 ,  2.802 ,  5.044 ],\n",
    "       [11.23  , 12.63  ,  0.884 ,  4.902 ,  2.879 ,  2.269 ,  4.703 ],\n",
    "       [14.34  , 14.37  ,  0.8726,  5.63  ,  3.19  ,  1.313 ,  5.15  ],\n",
    "       [16.84  , 15.67  ,  0.8623,  5.998 ,  3.484 ,  4.675 ,  5.877 ],\n",
    "       [17.32  , 15.91  ,  0.8599,  6.064 ,  3.403 ,  3.824 ,  5.922 ],\n",
    "       [18.72  , 16.19  ,  0.8977,  6.006 ,  3.857 ,  5.324 ,  5.879 ],\n",
    "       [18.88  , 16.26  ,  0.8969,  6.084 ,  3.764 ,  1.649 ,  6.109 ],\n",
    "       [18.76  , 16.2   ,  0.8984,  6.172 ,  3.796 ,  3.12  ,  6.053 ],\n",
    "       [19.31  , 16.59  ,  0.8815,  6.341 ,  3.81  ,  3.477 ,  6.238 ],\n",
    "       [17.99  , 15.86  ,  0.8992,  5.89  ,  3.694 ,  2.068 ,  5.837 ],\n",
    "       [18.85  , 16.17  ,  0.9056,  6.152 ,  3.806 ,  2.843 ,  6.2   ],\n",
    "       [19.38  , 16.72  ,  0.8716,  6.303 ,  3.791 ,  3.678 ,  5.965 ],\n",
    "       [18.96  , 16.2   ,  0.9077,  6.051 ,  3.897 ,  4.334 ,  5.75  ],\n",
    "       [18.14  , 16.12  ,  0.8772,  6.059 ,  3.563 ,  3.619 ,  6.011 ],\n",
    "       [18.65  , 16.41  ,  0.8698,  6.285 ,  3.594 ,  4.391 ,  6.102 ],\n",
    "       [18.94  , 16.32  ,  0.8942,  6.144 ,  3.825 ,  2.908 ,  5.949 ],\n",
    "       [17.36  , 15.76  ,  0.8785,  6.145 ,  3.574 ,  3.526 ,  5.971 ],\n",
    "       [13.32  , 13.94  ,  0.8613,  5.541 ,  3.073 ,  7.035 ,  5.44  ],\n",
    "       [11.43  , 13.13  ,  0.8335,  5.176 ,  2.719 ,  2.221 ,  5.132 ],\n",
    "       [12.01  , 13.52  ,  0.8249,  5.405 ,  2.776 ,  6.992 ,  5.27  ],\n",
    "       [11.34  , 12.87  ,  0.8596,  5.053 ,  2.849 ,  3.347 ,  5.003 ],\n",
    "       [12.02  , 13.33  ,  0.8503,  5.35  ,  2.81  ,  4.271 ,  5.308 ],\n",
    "       [12.44  , 13.59  ,  0.8462,  5.319 ,  2.897 ,  4.924 ,  5.27  ],\n",
    "       [11.55  , 13.1   ,  0.8455,  5.167 ,  2.845 ,  6.715 ,  4.956 ],\n",
    "       [11.26  , 13.01  ,  0.8355,  5.186 ,  2.71  ,  5.335 ,  5.092 ],\n",
    "       [12.46  , 13.41  ,  0.8706,  5.236 ,  3.017 ,  4.987 ,  5.147 ],\n",
    "       [11.81  , 13.45  ,  0.8198,  5.413 ,  2.716 ,  4.898 ,  5.352 ],\n",
    "       [11.27  , 12.86  ,  0.8563,  5.091 ,  2.804 ,  3.985 ,  5.001 ],\n",
    "       [12.79  , 13.53  ,  0.8786,  5.224 ,  3.054 ,  5.483 ,  4.958 ],\n",
    "       [12.67  , 13.32  ,  0.8977,  4.984 ,  3.135 ,  2.3   ,  4.745 ],\n",
    "       [11.23  , 12.88  ,  0.8511,  5.14  ,  2.795 ,  4.325 ,  5.003 ]]\n",
    "seed_varieties = ['Kama wheat',\n",
    " 'Kama wheat',\n",
    " 'Kama wheat',\n",
    " 'Kama wheat',\n",
    " 'Kama wheat',\n",
    " 'Kama wheat',\n",
    " 'Kama wheat',\n",
    " 'Kama wheat',\n",
    " 'Kama wheat',\n",
    " 'Kama wheat',\n",
    " 'Kama wheat',\n",
    " 'Kama wheat',\n",
    " 'Kama wheat',\n",
    " 'Kama wheat',\n",
    " 'Rosa wheat',\n",
    " 'Rosa wheat',\n",
    " 'Rosa wheat',\n",
    " 'Rosa wheat',\n",
    " 'Rosa wheat',\n",
    " 'Rosa wheat',\n",
    " 'Rosa wheat',\n",
    " 'Rosa wheat',\n",
    " 'Rosa wheat',\n",
    " 'Rosa wheat',\n",
    " 'Rosa wheat',\n",
    " 'Rosa wheat',\n",
    " 'Rosa wheat',\n",
    " 'Rosa wheat',\n",
    " 'Canadian wheat',\n",
    " 'Canadian wheat',\n",
    " 'Canadian wheat',\n",
    " 'Canadian wheat',\n",
    " 'Canadian wheat',\n",
    " 'Canadian wheat',\n",
    " 'Canadian wheat',\n",
    " 'Canadian wheat',\n",
    " 'Canadian wheat',\n",
    " 'Canadian wheat',\n",
    " 'Canadian wheat',\n",
    " 'Canadian wheat',\n",
    " 'Canadian wheat',\n",
    " 'Canadian wheat']"
   ]
  },
  {
   "cell_type": "code",
   "execution_count": 111,
   "metadata": {},
   "outputs": [
    {
     "data": {
      "image/png": "[encoded data removed]",
      "text/plain": [
       "<Figure size 432x288 with 1 Axes>"
      ]
     },
     "metadata": {},
     "output_type": "display_data"
    }
   ],
   "source": [
    "# Perform the necessary imports\n",
    "from scipy.cluster.hierarchy import linkage, dendrogram\n",
    "import matplotlib.pyplot as plt\n",
    "\n",
    "# Calculate the linkage: mergings\n",
    "mergings = linkage(seed_samples, method='complete')\n",
    "\n",
    "# Plot the dendrogram, using varieties as labels\n",
    "dendrogram(mergings,\n",
    "           labels=seed_varieties,\n",
    "           leaf_rotation=90,\n",
    "           leaf_font_size=6,\n",
    ")\n",
    "plt.title('Dendrogram Visualization of SciPy \"Aglomerative\" Clustering')\n",
    "plt.show()\n"
   ]
  },
  {
   "cell_type": "markdown",
   "metadata": {},
   "source": [
    "## Hierarchies of stocks\n",
    "Recall the stock data from above. \n",
    "SciPy's hierarchical clustering, `linkage` doesn't fit into an sklearn pipeline so we'll `normalize()` it first using `sklearn.preprocessing`"
   ]
  },
  {
   "cell_type": "code",
   "execution_count": 112,
   "metadata": {},
   "outputs": [
    {
     "data": {
      "image/png": "[encoded data removed]",
      "text/plain": [
       "<Figure size 432x288 with 1 Axes>"
      ]
     },
     "metadata": {},
     "output_type": "display_data"
    }
   ],
   "source": [
    "# Import normalize\n",
    "from sklearn.preprocessing import normalize\n",
    "\n",
    "# Normalize the movements: normalized_movements\n",
    "normalized_movements = normalize(movements)\n",
    "\n",
    "# Calculate the linkage: mergings\n",
    "mergings = linkage(normalized_movements, method = 'complete')\n",
    "\n",
    "# Plot the dendrogram\n",
    "dendrogram(mergings,\n",
    "labels = companies,\n",
    "leaf_rotation = 90,\n",
    "leaf_font_size = 6)\n",
    "plt.show()\n"
   ]
  },
  {
   "cell_type": "markdown",
   "metadata": {},
   "source": [
    "## Cluster labels in hierarchical clustering\n",
    "- not only a vis tool\n",
    "- cluster labels at any intermediate stage can be recovered\n",
    "- for use in e.g. cross-tabulations\n",
    "\n",
    "- specified by choosing a height on the dendrogram\n",
    "- y-axis encodes distance between merging clusters\n",
    "\n",
    "## intermediate clusterings & height on dendrogram\n",
    "- Height on dendrogram specifies ma. distance between merging clusters\n",
    "- can specify clustering limitations\n",
    "    - Don't merge clusters further apart than this (e.g. 15)\n",
    "    \n",
    "## Distance between clusters\n",
    "- defined by a \"linkage method\"\n",
    "- Specified via method parameter in `linkage(samples, method = \"complete\")`\n",
    "\n",
    "- in \"complete\" distance between clusters is the maxximum distance between their samples\n",
    "- Different linkage method, different hierarchical clustering!\n",
    "\n",
    "## Extracting cluster labels\n",
    "Can be extracted at any intermediate stage of the clustering\n",
    "- use the `fcluster` method\n",
    "- returns a NumPy array of cluster labels"
   ]
  },
  {
   "cell_type": "markdown",
   "metadata": {},
   "source": [
    "## Measures of difference between clusters\n",
    "![clustering-distance](images/clustering-distance.png)"
   ]
  },
  {
   "cell_type": "markdown",
   "metadata": {},
   "source": [
    "## Excercise\n",
    "### Different Linkage, different hierarchical clustering!\n",
    "Compare the resulting clustering from using different linking methods"
   ]
  },
  {
   "cell_type": "code",
   "execution_count": 113,
   "metadata": {},
   "outputs": [
    {
     "data": {
      "image/png": "[encoded data removed]",
      "text/plain": [
       "<Figure size 432x288 with 1 Axes>"
      ]
     },
     "metadata": {},
     "output_type": "display_data"
    }
   ],
   "source": [
    "# Import normalize\n",
    "from sklearn.preprocessing import normalize\n",
    "\n",
    "# Normalize the movements: normalized_movements\n",
    "normalized_movements = normalize(movements)\n",
    "\n",
    "# Calculate the linkage: mergings\n",
    "mergings = linkage(normalized_movements, method = 'complete')\n",
    "\n",
    "# Plot the dendrogram\n",
    "dendrogram(mergings,labels = companies,leaf_rotation = 90,leaf_font_size = 6)\n",
    "plt.show()"
   ]
  },
  {
   "cell_type": "code",
   "execution_count": 114,
   "metadata": {},
   "outputs": [
    {
     "data": {
      "image/png": "[encoded data removed]",
      "text/plain": [
       "<Figure size 432x288 with 1 Axes>"
      ]
     },
     "metadata": {},
     "output_type": "display_data"
    }
   ],
   "source": [
    "mergings = linkage(normalized_movements, method = 'single')\n",
    "# Plot the dendrogram\n",
    "dendrogram(mergings, labels = companies, leaf_rotation = 90, leaf_font_size = 6)\n",
    "plt.show()"
   ]
  },
  {
   "cell_type": "markdown",
   "metadata": {},
   "source": [
    "## Extracting the cluster labels\n",
    "Recall the seed dendrogram. \n",
    "\n",
    "**Note that if we restricted clustering to height 6 we would end up with only 3 clusters**"
   ]
  },
  {
   "cell_type": "code",
   "execution_count": 115,
   "metadata": {},
   "outputs": [
    {
     "data": {
      "text/plain": [
       "[[14.88, 14.57, 0.8811, 5.554, 3.333, 1.018, 4.956],\n",
       " [14.69, 14.49, 0.8799, 5.563, 3.259, 3.586, 5.219],\n",
       " [14.03, 14.16, 0.8796, 5.438, 3.201, 1.717, 5.001],\n",
       " [13.99, 13.83, 0.9183, 5.119, 3.383, 5.234, 4.781],\n",
       " [14.11, 14.26, 0.8722, 5.52, 3.168, 2.688, 5.219]]"
      ]
     },
     "execution_count": 115,
     "metadata": {},
     "output_type": "execute_result"
    }
   ],
   "source": [
    "seed_samples[:5]"
   ]
  },
  {
   "cell_type": "code",
   "execution_count": 116,
   "metadata": {},
   "outputs": [
    {
     "data": {
      "text/plain": [
       "['Kama wheat', 'Kama wheat', 'Kama wheat', 'Kama wheat', 'Kama wheat']"
      ]
     },
     "execution_count": 116,
     "metadata": {},
     "output_type": "execute_result"
    }
   ],
   "source": [
    "seed_varieties[:5]"
   ]
  },
  {
   "cell_type": "code",
   "execution_count": 117,
   "metadata": {},
   "outputs": [
    {
     "data": {
      "image/png": "[encoded data removed]",
      "text/plain": [
       "<Figure size 432x288 with 1 Axes>"
      ]
     },
     "metadata": {},
     "output_type": "display_data"
    }
   ],
   "source": [
    "# Calculate the linkage: mergings\n",
    "mergings = linkage(seed_samples, method='complete')\n",
    "# Plot the dendrogram, using varieties as labels\n",
    "dendrogram(mergings,labels=seed_varieties,leaf_rotation=90,leaf_font_size=6)\n",
    "plt.title('Dendrogram Visualization of SciPy \"Aglomerative\" Clustering')\n",
    "plt.show()"
   ]
  },
  {
   "cell_type": "markdown",
   "metadata": {},
   "source": [
    "Let's use `fcluster()` to extract the cluster labels for this intermediate clutering. And we'll compare the labels with the grain varieties using cross-tabulation."
   ]
  },
  {
   "cell_type": "code",
   "execution_count": 118,
   "metadata": {},
   "outputs": [
    {
     "data": {
      "text/html": [
       "<div>\n",
       "<style scoped>\n",
       "    .dataframe tbody tr th:only-of-type {\n",
       "        vertical-align: middle;\n",
       "    }\n",
       "\n",
       "    .dataframe tbody tr th {\n",
       "        vertical-align: top;\n",
       "    }\n",
       "\n",
       "    .dataframe thead th {\n",
       "        text-align: right;\n",
       "    }\n",
       "</style>\n",
       "<table border=\"1\" class=\"dataframe\">\n",
       "  <thead>\n",
       "    <tr style=\"text-align: right;\">\n",
       "      <th>varieties</th>\n",
       "      <th>Canadian wheat</th>\n",
       "      <th>Kama wheat</th>\n",
       "      <th>Rosa wheat</th>\n",
       "    </tr>\n",
       "    <tr>\n",
       "      <th>labels</th>\n",
       "      <th></th>\n",
       "      <th></th>\n",
       "      <th></th>\n",
       "    </tr>\n",
       "  </thead>\n",
       "  <tbody>\n",
       "    <tr>\n",
       "      <th>1</th>\n",
       "      <td>14</td>\n",
       "      <td>3</td>\n",
       "      <td>0</td>\n",
       "    </tr>\n",
       "    <tr>\n",
       "      <th>2</th>\n",
       "      <td>0</td>\n",
       "      <td>0</td>\n",
       "      <td>14</td>\n",
       "    </tr>\n",
       "    <tr>\n",
       "      <th>3</th>\n",
       "      <td>0</td>\n",
       "      <td>11</td>\n",
       "      <td>0</td>\n",
       "    </tr>\n",
       "  </tbody>\n",
       "</table>\n",
       "</div>"
      ],
      "text/plain": [
       "varieties  Canadian wheat  Kama wheat  Rosa wheat\n",
       "labels                                           \n",
       "1                      14           3           0\n",
       "2                       0           0          14\n",
       "3                       0          11           0"
      ]
     },
     "execution_count": 118,
     "metadata": {},
     "output_type": "execute_result"
    }
   ],
   "source": [
    "from scipy.cluster.hierarchy import fcluster\n",
    "\n",
    "# flat hierarchical clustering with threshold = t\n",
    "# Use fcluster to extract labels: labels\n",
    "labels = fcluster(mergings, t = 6, criterion= 'distance')\n",
    "\n",
    "# Create a DataFrame with labels and varieties as columns: df\n",
    "df = pd.DataFrame({'labels': labels, 'varieties': seed_varieties})\n",
    "\n",
    "# Create crosstab: ct\n",
    "ct = pd.crosstab(df['labels'], df['varieties'])\n",
    "ct"
   ]
  },
  {
   "cell_type": "code",
   "execution_count": 119,
   "metadata": {},
   "outputs": [
    {
     "data": {
      "text/html": [
       "<div>\n",
       "<style scoped>\n",
       "    .dataframe tbody tr th:only-of-type {\n",
       "        vertical-align: middle;\n",
       "    }\n",
       "\n",
       "    .dataframe tbody tr th {\n",
       "        vertical-align: top;\n",
       "    }\n",
       "\n",
       "    .dataframe thead th {\n",
       "        text-align: right;\n",
       "    }\n",
       "</style>\n",
       "<table border=\"1\" class=\"dataframe\">\n",
       "  <thead>\n",
       "    <tr style=\"text-align: right;\">\n",
       "      <th></th>\n",
       "      <th>labels</th>\n",
       "      <th>varieties</th>\n",
       "    </tr>\n",
       "  </thead>\n",
       "  <tbody>\n",
       "    <tr>\n",
       "      <th>0</th>\n",
       "      <td>3</td>\n",
       "      <td>Kama wheat</td>\n",
       "    </tr>\n",
       "    <tr>\n",
       "      <th>1</th>\n",
       "      <td>3</td>\n",
       "      <td>Kama wheat</td>\n",
       "    </tr>\n",
       "    <tr>\n",
       "      <th>2</th>\n",
       "      <td>3</td>\n",
       "      <td>Kama wheat</td>\n",
       "    </tr>\n",
       "    <tr>\n",
       "      <th>3</th>\n",
       "      <td>3</td>\n",
       "      <td>Kama wheat</td>\n",
       "    </tr>\n",
       "    <tr>\n",
       "      <th>4</th>\n",
       "      <td>3</td>\n",
       "      <td>Kama wheat</td>\n",
       "    </tr>\n",
       "    <tr>\n",
       "      <th>5</th>\n",
       "      <td>1</td>\n",
       "      <td>Kama wheat</td>\n",
       "    </tr>\n",
       "    <tr>\n",
       "      <th>6</th>\n",
       "      <td>3</td>\n",
       "      <td>Kama wheat</td>\n",
       "    </tr>\n",
       "    <tr>\n",
       "      <th>7</th>\n",
       "      <td>3</td>\n",
       "      <td>Kama wheat</td>\n",
       "    </tr>\n",
       "    <tr>\n",
       "      <th>8</th>\n",
       "      <td>1</td>\n",
       "      <td>Kama wheat</td>\n",
       "    </tr>\n",
       "    <tr>\n",
       "      <th>9</th>\n",
       "      <td>3</td>\n",
       "      <td>Kama wheat</td>\n",
       "    </tr>\n",
       "    <tr>\n",
       "      <th>10</th>\n",
       "      <td>3</td>\n",
       "      <td>Kama wheat</td>\n",
       "    </tr>\n",
       "    <tr>\n",
       "      <th>11</th>\n",
       "      <td>3</td>\n",
       "      <td>Kama wheat</td>\n",
       "    </tr>\n",
       "    <tr>\n",
       "      <th>12</th>\n",
       "      <td>1</td>\n",
       "      <td>Kama wheat</td>\n",
       "    </tr>\n",
       "    <tr>\n",
       "      <th>13</th>\n",
       "      <td>3</td>\n",
       "      <td>Kama wheat</td>\n",
       "    </tr>\n",
       "    <tr>\n",
       "      <th>14</th>\n",
       "      <td>2</td>\n",
       "      <td>Rosa wheat</td>\n",
       "    </tr>\n",
       "    <tr>\n",
       "      <th>15</th>\n",
       "      <td>2</td>\n",
       "      <td>Rosa wheat</td>\n",
       "    </tr>\n",
       "    <tr>\n",
       "      <th>16</th>\n",
       "      <td>2</td>\n",
       "      <td>Rosa wheat</td>\n",
       "    </tr>\n",
       "    <tr>\n",
       "      <th>17</th>\n",
       "      <td>2</td>\n",
       "      <td>Rosa wheat</td>\n",
       "    </tr>\n",
       "    <tr>\n",
       "      <th>18</th>\n",
       "      <td>2</td>\n",
       "      <td>Rosa wheat</td>\n",
       "    </tr>\n",
       "    <tr>\n",
       "      <th>19</th>\n",
       "      <td>2</td>\n",
       "      <td>Rosa wheat</td>\n",
       "    </tr>\n",
       "    <tr>\n",
       "      <th>20</th>\n",
       "      <td>2</td>\n",
       "      <td>Rosa wheat</td>\n",
       "    </tr>\n",
       "    <tr>\n",
       "      <th>21</th>\n",
       "      <td>2</td>\n",
       "      <td>Rosa wheat</td>\n",
       "    </tr>\n",
       "    <tr>\n",
       "      <th>22</th>\n",
       "      <td>2</td>\n",
       "      <td>Rosa wheat</td>\n",
       "    </tr>\n",
       "    <tr>\n",
       "      <th>23</th>\n",
       "      <td>2</td>\n",
       "      <td>Rosa wheat</td>\n",
       "    </tr>\n",
       "    <tr>\n",
       "      <th>24</th>\n",
       "      <td>2</td>\n",
       "      <td>Rosa wheat</td>\n",
       "    </tr>\n",
       "    <tr>\n",
       "      <th>25</th>\n",
       "      <td>2</td>\n",
       "      <td>Rosa wheat</td>\n",
       "    </tr>\n",
       "    <tr>\n",
       "      <th>26</th>\n",
       "      <td>2</td>\n",
       "      <td>Rosa wheat</td>\n",
       "    </tr>\n",
       "    <tr>\n",
       "      <th>27</th>\n",
       "      <td>2</td>\n",
       "      <td>Rosa wheat</td>\n",
       "    </tr>\n",
       "    <tr>\n",
       "      <th>28</th>\n",
       "      <td>1</td>\n",
       "      <td>Canadian wheat</td>\n",
       "    </tr>\n",
       "    <tr>\n",
       "      <th>29</th>\n",
       "      <td>1</td>\n",
       "      <td>Canadian wheat</td>\n",
       "    </tr>\n",
       "    <tr>\n",
       "      <th>30</th>\n",
       "      <td>1</td>\n",
       "      <td>Canadian wheat</td>\n",
       "    </tr>\n",
       "    <tr>\n",
       "      <th>31</th>\n",
       "      <td>1</td>\n",
       "      <td>Canadian wheat</td>\n",
       "    </tr>\n",
       "    <tr>\n",
       "      <th>32</th>\n",
       "      <td>1</td>\n",
       "      <td>Canadian wheat</td>\n",
       "    </tr>\n",
       "    <tr>\n",
       "      <th>33</th>\n",
       "      <td>1</td>\n",
       "      <td>Canadian wheat</td>\n",
       "    </tr>\n",
       "    <tr>\n",
       "      <th>34</th>\n",
       "      <td>1</td>\n",
       "      <td>Canadian wheat</td>\n",
       "    </tr>\n",
       "    <tr>\n",
       "      <th>35</th>\n",
       "      <td>1</td>\n",
       "      <td>Canadian wheat</td>\n",
       "    </tr>\n",
       "    <tr>\n",
       "      <th>36</th>\n",
       "      <td>1</td>\n",
       "      <td>Canadian wheat</td>\n",
       "    </tr>\n",
       "    <tr>\n",
       "      <th>37</th>\n",
       "      <td>1</td>\n",
       "      <td>Canadian wheat</td>\n",
       "    </tr>\n",
       "    <tr>\n",
       "      <th>38</th>\n",
       "      <td>1</td>\n",
       "      <td>Canadian wheat</td>\n",
       "    </tr>\n",
       "    <tr>\n",
       "      <th>39</th>\n",
       "      <td>1</td>\n",
       "      <td>Canadian wheat</td>\n",
       "    </tr>\n",
       "    <tr>\n",
       "      <th>40</th>\n",
       "      <td>1</td>\n",
       "      <td>Canadian wheat</td>\n",
       "    </tr>\n",
       "    <tr>\n",
       "      <th>41</th>\n",
       "      <td>1</td>\n",
       "      <td>Canadian wheat</td>\n",
       "    </tr>\n",
       "  </tbody>\n",
       "</table>\n",
       "</div>"
      ],
      "text/plain": [
       "    labels       varieties\n",
       "0        3      Kama wheat\n",
       "1        3      Kama wheat\n",
       "2        3      Kama wheat\n",
       "3        3      Kama wheat\n",
       "4        3      Kama wheat\n",
       "5        1      Kama wheat\n",
       "6        3      Kama wheat\n",
       "7        3      Kama wheat\n",
       "8        1      Kama wheat\n",
       "9        3      Kama wheat\n",
       "10       3      Kama wheat\n",
       "11       3      Kama wheat\n",
       "12       1      Kama wheat\n",
       "13       3      Kama wheat\n",
       "14       2      Rosa wheat\n",
       "15       2      Rosa wheat\n",
       "16       2      Rosa wheat\n",
       "17       2      Rosa wheat\n",
       "18       2      Rosa wheat\n",
       "19       2      Rosa wheat\n",
       "20       2      Rosa wheat\n",
       "21       2      Rosa wheat\n",
       "22       2      Rosa wheat\n",
       "23       2      Rosa wheat\n",
       "24       2      Rosa wheat\n",
       "25       2      Rosa wheat\n",
       "26       2      Rosa wheat\n",
       "27       2      Rosa wheat\n",
       "28       1  Canadian wheat\n",
       "29       1  Canadian wheat\n",
       "30       1  Canadian wheat\n",
       "31       1  Canadian wheat\n",
       "32       1  Canadian wheat\n",
       "33       1  Canadian wheat\n",
       "34       1  Canadian wheat\n",
       "35       1  Canadian wheat\n",
       "36       1  Canadian wheat\n",
       "37       1  Canadian wheat\n",
       "38       1  Canadian wheat\n",
       "39       1  Canadian wheat\n",
       "40       1  Canadian wheat\n",
       "41       1  Canadian wheat"
      ]
     },
     "execution_count": 119,
     "metadata": {},
     "output_type": "execute_result"
    }
   ],
   "source": [
    "df"
   ]
  },
  {
   "cell_type": "markdown",
   "metadata": {},
   "source": [
    "## t-SNE for 2-dimensional maps\n",
    "- t-SNE = \"t-distributed stochastic neighbor embedding\"\n",
    "- Maps samples from higher dimensional space to 2d or 3d space\n",
    "- Map approximately preserves \"nearness\" of samples\n",
    "- Great for inspecting datasets\n",
    "\n",
    "## t-SNE on iris\n",
    "- iris has 4 measurements, so samples are 4-dimensional\n",
    "- t-SNE samples to 2D space\n",
    "- t-SNE didn't know that there were different species \n",
    "- ... yet kept the species mostly separate\n",
    "\n",
    "## t-SNE in sklearn"
   ]
  },
  {
   "cell_type": "code",
   "execution_count": 120,
   "metadata": {},
   "outputs": [
    {
     "name": "stdout",
     "output_type": "stream",
     "text": [
      "[[5.1 3.5 1.4 0.2]\n",
      " [4.9 3.  1.4 0.2]\n",
      " [4.7 3.2 1.3 0.2]\n",
      " [4.6 3.1 1.5 0.2]\n",
      " [5.  3.6 1.4 0.2]]\n"
     ]
    }
   ],
   "source": [
    "from sklearn import datasets\n",
    "iris = datasets.load_iris()\n",
    "iris_samples = iris.data\n",
    "print(iris_samples[:5])"
   ]
  },
  {
   "cell_type": "code",
   "execution_count": 121,
   "metadata": {},
   "outputs": [
    {
     "data": {
      "text/plain": [
       "array([0, 0, 0, 0, 0])"
      ]
     },
     "execution_count": 121,
     "metadata": {},
     "output_type": "execute_result"
    }
   ],
   "source": [
    "iris_species = iris.target\n",
    "iris_species[:5]"
   ]
  },
  {
   "cell_type": "markdown",
   "metadata": {},
   "source": [
    "**import t-SNE from sklearn**"
   ]
  },
  {
   "cell_type": "code",
   "execution_count": 122,
   "metadata": {},
   "outputs": [
    {
     "name": "stdout",
     "output_type": "stream",
     "text": [
      "transformed samples\n",
      " [[23.24221   10.4532175]\n",
      " [20.882475  11.131263 ]\n",
      " [20.410818  10.48202  ]\n",
      " [20.21963   10.253565 ]\n",
      " [23.320772  10.045642 ]]\n"
     ]
    },
    {
     "data": {
      "image/png": "[encoded data removed]",
      "text/plain": [
       "<Figure size 432x288 with 1 Axes>"
      ]
     },
     "metadata": {},
     "output_type": "display_data"
    }
   ],
   "source": [
    "from sklearn.manifold import TSNE\n",
    "model = TSNE(learning_rate = 100)\n",
    "# 🔵 I wonder what the learning rate is about\n",
    "# I'd also like to learn more about how tsne works\n",
    "transformed_iris = model.fit_transform(iris_samples)\n",
    "print('transformed samples' + '\\n', transformed_iris[:5])\n",
    "xs = transformed_iris[:,0]\n",
    "ys = transformed_iris[:,1]\n",
    "plt.scatter(xs, ys, c = iris_species)\n",
    "plt.show()"
   ]
  },
  {
   "cell_type": "markdown",
   "metadata": {},
   "source": [
    "*Interesting to see the numerical values of the transformation into 2d space*"
   ]
  },
  {
   "cell_type": "code",
   "execution_count": 126,
   "metadata": {},
   "outputs": [
    {
     "name": "stdout",
     "output_type": "stream",
     "text": [
      "transformed samples\n",
      " [[  3.802797 -25.10092 ]\n",
      " [  3.405429 -22.516165]\n",
      " [  4.609563 -22.393732]\n",
      " [  4.385763 -22.102749]\n",
      " [  4.271334 -25.270433]]\n"
     ]
    },
    {
     "data": {
      "image/png": "[encoded data removed]",
      "text/plain": [
       "<Figure size 432x288 with 1 Axes>"
      ]
     },
     "metadata": {},
     "output_type": "display_data"
    }
   ],
   "source": [
    "from sklearn.manifold import TSNE\n",
    "model = TSNE(learning_rate = 100)\n",
    "# 🔵 I wonder what the learning rate is about\n",
    "# I'd also like to learn more about how tsne works\n",
    "transformed_iris = model.fit_transform(iris_samples)\n",
    "print('transformed samples' + '\\n', transformed_iris[:5])\n",
    "xs = transformed_iris[:,0]\n",
    "ys = transformed_iris[:,1]\n",
    "plt.scatter(xs, ys, c = iris_species)\n",
    "plt.show()"
   ]
  },
  {
   "cell_type": "markdown",
   "metadata": {},
   "source": [
    "### 🔵 🤔 *Note that the tSNE visualization depends on a random state and is sometimes clearer than other times*"
   ]
  },
  {
   "cell_type": "markdown",
   "metadata": {},
   "source": [
    "## t-SNE has only fit_transform()\n",
    "- has a `fit_transform()` method\n",
    "- but not separate `fit()` and `transform()` methods\n",
    "#### t-SNE map can't be extended to include new data samples\n",
    "- **must be started over each time**\n",
    "\n",
    "## t-SNE learning rate\n",
    "- might need to try different rates for different data sets\n",
    "- wrong choice is clear because different samples will all be bunched together\n",
    "- **rule of thumb: try rates between 50 and 200**"
   ]
  },
  {
   "cell_type": "code",
   "execution_count": 127,
   "metadata": {},
   "outputs": [
    {
     "data": {
      "image/png": "[encoded data removed]",
      "text/plain": [
       "<Figure size 720x360 with 4 Axes>"
      ]
     },
     "metadata": {},
     "output_type": "display_data"
    }
   ],
   "source": [
    "fig, ax = plt.subplots(1, 4, figsize = (10, 5))\n",
    "learning_rates = [50, 100, 150, 200]\n",
    "for i in range(4):\n",
    "    model = TSNE(learning_rate = learning_rates[i], random_state=123)\n",
    "    transformed_iris = model.fit_transform(iris_samples)\n",
    "    xs = transformed_iris[:,0]\n",
    "    ys = transformed_iris[:,1]\n",
    "    ax[i].scatter(xs, ys, c = iris_species)\n",
    "\n",
    "plt.show()"
   ]
  },
  {
   "cell_type": "markdown",
   "metadata": {},
   "source": [
    "## Different every time\n",
    "- axes of t-SNE plot have no interpretable meaning\n",
    "- features are different every time\n",
    "    - even on the same data with the same code\n",
    "\n",
    "## Excercise: t-SNE on Grain (aka seeds)"
   ]
  },
  {
   "cell_type": "code",
   "execution_count": 128,
   "metadata": {},
   "outputs": [
    {
     "data": {
      "text/html": [
       "<div>\n",
       "<style scoped>\n",
       "    .dataframe tbody tr th:only-of-type {\n",
       "        vertical-align: middle;\n",
       "    }\n",
       "\n",
       "    .dataframe tbody tr th {\n",
       "        vertical-align: top;\n",
       "    }\n",
       "\n",
       "    .dataframe thead th {\n",
       "        text-align: right;\n",
       "    }\n",
       "</style>\n",
       "<table border=\"1\" class=\"dataframe\">\n",
       "  <thead>\n",
       "    <tr style=\"text-align: right;\">\n",
       "      <th></th>\n",
       "      <th>area</th>\n",
       "      <th>perimeter</th>\n",
       "      <th>compactness</th>\n",
       "      <th>kernel_length</th>\n",
       "      <th>kernel_width</th>\n",
       "      <th>asymmetry_coefficient</th>\n",
       "      <th>lenght_of_kernel_groove</th>\n",
       "      <th>unknown</th>\n",
       "    </tr>\n",
       "  </thead>\n",
       "  <tbody>\n",
       "    <tr>\n",
       "      <th>0</th>\n",
       "      <td>15.26</td>\n",
       "      <td>14.84</td>\n",
       "      <td>0.8710</td>\n",
       "      <td>5.763</td>\n",
       "      <td>3.312</td>\n",
       "      <td>2.221</td>\n",
       "      <td>5.220</td>\n",
       "      <td>1</td>\n",
       "    </tr>\n",
       "    <tr>\n",
       "      <th>1</th>\n",
       "      <td>14.88</td>\n",
       "      <td>14.57</td>\n",
       "      <td>0.8811</td>\n",
       "      <td>5.554</td>\n",
       "      <td>3.333</td>\n",
       "      <td>1.018</td>\n",
       "      <td>4.956</td>\n",
       "      <td>1</td>\n",
       "    </tr>\n",
       "    <tr>\n",
       "      <th>2</th>\n",
       "      <td>14.29</td>\n",
       "      <td>14.09</td>\n",
       "      <td>0.9050</td>\n",
       "      <td>5.291</td>\n",
       "      <td>3.337</td>\n",
       "      <td>2.699</td>\n",
       "      <td>4.825</td>\n",
       "      <td>1</td>\n",
       "    </tr>\n",
       "  </tbody>\n",
       "</table>\n",
       "</div>"
      ],
      "text/plain": [
       "    area  perimeter  compactness  kernel_length  kernel_width  \\\n",
       "0  15.26      14.84       0.8710          5.763         3.312   \n",
       "1  14.88      14.57       0.8811          5.554         3.333   \n",
       "2  14.29      14.09       0.9050          5.291         3.337   \n",
       "\n",
       "   asymmetry_coefficient  lenght_of_kernel_groove  unknown  \n",
       "0                  2.221                    5.220        1  \n",
       "1                  1.018                    4.956        1  \n",
       "2                  2.699                    4.825        1  "
      ]
     },
     "execution_count": 128,
     "metadata": {},
     "output_type": "execute_result"
    }
   ],
   "source": [
    "seeds_df.head(3)"
   ]
  },
  {
   "cell_type": "code",
   "execution_count": null,
   "metadata": {},
   "outputs": [],
   "source": [
    "# Create a TSNE instance: model\n",
    "model = TSNE(learning_rate = 200)\n",
    "\n",
    "# Apply fit_transform to samples: tsne_features\n",
    "tsne_features = model.fit_transform(seeds_df.drop('unknown', axis = 'columns').values)\n",
    "\n",
    "# Select the 0th feature: xs\n",
    "xs = tsne_features[:,0]\n",
    "# Select the 1st feature: ys\n",
    "ys = tsne_features[:,1]\n",
    "# Scatter plot, coloring by variety_numbers\n",
    "plt.scatter(xs, ys, c = seeds_df.unknown)\n",
    "plt.show()\n",
    "print('Recall the n-dimensional data was reduced to 2d')\n",
    "print('transformed samples' + '\\n', tsne_features[:5])"
   ]
  },
  {
   "cell_type": "code",
   "execution_count": null,
   "metadata": {},
   "outputs": [],
   "source": [
    "plt.scatter(xs, ys)\n",
    "plt.show()"
   ]
  },
  {
   "cell_type": "markdown",
   "metadata": {},
   "source": [
    "*🤔 it's curious that t-SNE suggests 4 clusters instead of the three anticipated by our labels*"
   ]
  },
  {
   "cell_type": "markdown",
   "metadata": {},
   "source": [
    "## Excercise t-SNE map of stock market\n",
    "- t-SNE is also great when individual samples can be labeled\n",
    "\n",
    "recall from above the stock market data"
   ]
  },
  {
   "cell_type": "code",
   "execution_count": null,
   "metadata": {},
   "outputs": [],
   "source": [
    "stock_movements_df.head(2)"
   ]
  },
  {
   "cell_type": "code",
   "execution_count": null,
   "metadata": {},
   "outputs": [],
   "source": [
    "movements[0][:5]"
   ]
  },
  {
   "cell_type": "code",
   "execution_count": null,
   "metadata": {},
   "outputs": [],
   "source": [
    "normalizer.transform(movements)[0][:5]"
   ]
  },
  {
   "cell_type": "code",
   "execution_count": null,
   "metadata": {},
   "outputs": [],
   "source": [
    "movements_normalized = normalizer.transform(movements)"
   ]
  },
  {
   "cell_type": "code",
   "execution_count": null,
   "metadata": {},
   "outputs": [],
   "source": [
    "# Import TSNE\n",
    "from sklearn.manifold import TSNE\n",
    "\n",
    "# Create a TSNE instance: model\n",
    "model = TSNE(learning_rate = 50)\n",
    "\n",
    "# Apply fit_transform to normalized_movements: tsne_features\n",
    "tsne_features = model.fit_transform(movements_normalized)\n",
    "\n",
    "# Select the 0th feature: xs (aka the first column)\n",
    "xs = tsne_features[:,0]\n",
    "\n",
    "# Select the 1th feature: ys (aka the second column)\n",
    "ys = tsne_features[:,1]\n",
    "\n",
    "# Scatter plot\n",
    "plt.figure(figsize=(10, 10))\n",
    "plt.scatter(xs, ys, alpha = 0.5)\n",
    "#plt.show()\n",
    "\n",
    "# Annotate the points\n",
    "for x, y, company in zip(xs, ys, companies):\n",
    "    plt.annotate(company, (x, y), fontsize=7, alpha=0.75)\n",
    "plt.show()\n",
    "print('Recall the n-dimensional data was reduced to 2d')\n",
    "print('transformed samples' + '\\n', tsne_features[:5])"
   ]
  }
 ],
 "metadata": {
  "kernelspec": {
   "display_name": "Python 3",
   "language": "python",
   "name": "python3"
  }
 },
 "nbformat": 4,
 "nbformat_minor": 2
}
